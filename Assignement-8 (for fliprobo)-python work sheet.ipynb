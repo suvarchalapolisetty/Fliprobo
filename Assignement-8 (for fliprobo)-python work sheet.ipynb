{
 "cells": [
  {
   "cell_type": "markdown",
   "id": "66570c24",
   "metadata": {},
   "source": [
    "1) Which of the following operators is used to calculate remainder in a division?\n",
    "\n",
    "A) # B) &\n",
    "\n",
    "C) % D) $\n",
    "\n",
    "Ans:- C"
   ]
  },
  {
   "cell_type": "markdown",
   "id": "a2d19e4c",
   "metadata": {},
   "source": [
    "2) In python 2//3 is equal to?\n",
    "\n",
    "A) 0.666 B) 0\n",
    "\n",
    "C) 1 D) 0.67\n",
    "\n",
    "Ans: B"
   ]
  },
  {
   "cell_type": "code",
   "execution_count": 2,
   "id": "09183dea",
   "metadata": {},
   "outputs": [
    {
     "data": {
      "text/plain": [
       "0"
      ]
     },
     "execution_count": 2,
     "metadata": {},
     "output_type": "execute_result"
    }
   ],
   "source": [
    "2//3"
   ]
  },
  {
   "cell_type": "markdown",
   "id": "22a91c65",
   "metadata": {},
   "source": [
    "3) In python, 6<<2 is equal to?\n",
    "\n",
    "A) 36 B) 10\n",
    "\n",
    "C) 24 D) 45\n",
    "\n",
    "Ans:C"
   ]
  },
  {
   "cell_type": "code",
   "execution_count": 3,
   "id": "ec659ed4",
   "metadata": {},
   "outputs": [
    {
     "data": {
      "text/plain": [
       "24"
      ]
     },
     "execution_count": 3,
     "metadata": {},
     "output_type": "execute_result"
    }
   ],
   "source": [
    "6<<2"
   ]
  },
  {
   "cell_type": "markdown",
   "id": "8fdc9e16",
   "metadata": {},
   "source": [
    "4) In python, 6&2 will give which of the following as output?\n",
    "\n",
    "A) 2 B) True\n",
    "\n",
    "C) False D) 0\n",
    "\n",
    "Ans: A\n"
   ]
  },
  {
   "cell_type": "markdown",
   "id": "8fff8a87",
   "metadata": {},
   "source": [
    "5) In python, 6|2 will give which of the following as output?\n",
    "\n",
    "A) 2 B) 4\n",
    "\n",
    "C) 0 D) 6\n",
    "\n",
    "Ans: D"
   ]
  },
  {
   "cell_type": "markdown",
   "id": "ae655250",
   "metadata": {},
   "source": [
    "6) What does the finally keyword denotes in python?\n",
    "\n",
    "A) It is used to mark the end of the code\n",
    "\n",
    "B) It encloses the lines of code which will be executed if any error occurs while executing the lines of code in \n",
    "the try block.\n",
    "\n",
    "C) the finally block will be executed no matter if the try block raises an error or not.\n",
    "\n",
    "D) None of the above\n",
    "\n",
    "Ans:C\n"
   ]
  },
  {
   "cell_type": "markdown",
   "id": "f658c0b1",
   "metadata": {},
   "source": [
    "7) What does raise keyword is used for in python?\n",
    "\n",
    "A) It is used to raise an exception. B) It is used to define lambda function\n",
    "\n",
    "C) it's not a keyword in python. D) None of the above\n",
    "\n",
    "Ans:A\n"
   ]
  },
  {
   "cell_type": "markdown",
   "id": "71bead58",
   "metadata": {},
   "source": [
    "8) Which of the following is a common use case of yield keyword in python?\n",
    "\n",
    "A) in defining an iterator B) while defining a lambda function\n",
    "\n",
    "C) in defining a generator D) in for loop.\n",
    "\n",
    "Ans: c"
   ]
  },
  {
   "cell_type": "markdown",
   "id": "46585893",
   "metadata": {},
   "source": [
    "9) Which of the following are the valid variable names?\n",
    "\n",
    "A) _abc B) 1abc\n",
    "\n",
    "C) abc2 D) None of the above\n",
    "\n",
    "Ans: A,C"
   ]
  },
  {
   "cell_type": "markdown",
   "id": "1c7ac65f",
   "metadata": {},
   "source": [
    "10) Which of the following are the keywords in python?\n",
    "\n",
    "A) yield B) raise\n",
    "\n",
    "C) look-in D) all of the above\n",
    "\n",
    "Ans:A,B"
   ]
  },
  {
   "cell_type": "markdown",
   "id": "6bb133bd",
   "metadata": {},
   "source": [
    "# 11. Write a python program to find the factorial of a number."
   ]
  },
  {
   "cell_type": "code",
   "execution_count": 6,
   "id": "fbd7e7f0",
   "metadata": {},
   "outputs": [
    {
     "name": "stdout",
     "output_type": "stream",
     "text": [
      "Enter num: 9\n",
      "The factorial num of:  9 is 362880\n"
     ]
    }
   ],
   "source": [
    "def factorial(n):\n",
    "    if n==0:\n",
    "        return 1\n",
    "    else:\n",
    "        return n * factorial(n-1)\n",
    "num = (int(input(\"Enter num: \")))\n",
    "fact = factorial(num)\n",
    "print(\"The factorial num of: \", num,\"is\",fact)"
   ]
  },
  {
   "cell_type": "markdown",
   "id": "fc49193b",
   "metadata": {},
   "source": [
    "# 12. Write a python program to find whether a number is prime or composite."
   ]
  },
  {
   "cell_type": "code",
   "execution_count": 9,
   "id": "abb5ba91",
   "metadata": {},
   "outputs": [
    {
     "name": "stdout",
     "output_type": "stream",
     "text": [
      "Enter any num:9\n",
      "9 Number is not prime but composite number\n"
     ]
    }
   ],
   "source": [
    "n = int(input(\"Enter any num:\" ))\n",
    "if(n==0 or n==1):\n",
    "    print(n,\"Number is neither prime nor composite\")\n",
    "elif n>1:\n",
    "    for i in range(2,n):\n",
    "        if (n%i == 0):\n",
    "            print(n, \"Number is not prime but composite number\")\n",
    "            break\n",
    "    else:\n",
    "        print(n,\"Number is prime but not composite number\")\n",
    "else:\n",
    "    print(\"Enter Positive no only\")\n",
    "            "
   ]
  },
  {
   "cell_type": "markdown",
   "id": "3a6e5929",
   "metadata": {},
   "source": [
    "# 13) Write a python program to check whether a given string is palindrome or not."
   ]
  },
  {
   "cell_type": "code",
   "execution_count": 13,
   "id": "a924db10",
   "metadata": {},
   "outputs": [
    {
     "name": "stdout",
     "output_type": "stream",
     "text": [
      "Yes\n"
     ]
    }
   ],
   "source": [
    "#Function which reverse of a string\n",
    "\n",
    "def palindrome(S):\n",
    "    return S== S[::-1]\n",
    "\n",
    "#Driver code\n",
    "\n",
    "S = \"MalayalaM\"\n",
    "ans = palindrome (S)\n",
    "\n",
    "if ans:\n",
    "    print(\"Yes\")\n",
    "else:\n",
    "    print(\"No\")\n"
   ]
  },
  {
   "cell_type": "markdown",
   "id": "04303739",
   "metadata": {},
   "source": [
    "# 14) Write a Python program to get the third side of right-angled triangle from two given sides."
   ]
  },
  {
   "cell_type": "code",
   "execution_count": 16,
   "id": "34018186",
   "metadata": {},
   "outputs": [
    {
     "name": "stdout",
     "output_type": "stream",
     "text": [
      "5.0\n"
     ]
    }
   ],
   "source": [
    "\n",
    "#Function\n",
    "\n",
    "def findHypotenuse(side1,side2):\n",
    "    h=(((side1*side1)+(side2*side2))**(1/2));\n",
    "    return h\n",
    "    \n",
    "#Driver code\n",
    "\n",
    "side1=3\n",
    "side2=4\n",
    "print(findHypotenuse(side1,side2));\n",
    "    \n"
   ]
  },
  {
   "cell_type": "code",
   "execution_count": 20,
   "id": "494ba594",
   "metadata": {},
   "outputs": [
    {
     "name": "stdout",
     "output_type": "stream",
     "text": [
      "The thirdside of the right-angled traingle with sides 3 and 4 is 5.0\n"
     ]
    }
   ],
   "source": [
    "def thirdside(a,b):\n",
    "    c = (a**2+b**2)**0.5\n",
    "    return c\n",
    "a=3\n",
    "b=4\n",
    "c = thirdside(a,b)\n",
    "\n",
    "print(\"The thirdside of the right-angled traingle with sides\",a,\"and\",b,\"is\",c)"
   ]
  },
  {
   "cell_type": "markdown",
   "id": "d7b2d441",
   "metadata": {},
   "source": [
    "# 15)write a python program to print the frequency of each of the characters present in a given string"
   ]
  },
  {
   "cell_type": "code",
   "execution_count": 21,
   "id": "bc28d158",
   "metadata": {},
   "outputs": [
    {
     "name": "stdout",
     "output_type": "stream",
     "text": [
      "Count all charecters in DataScience is: \n",
      "{'D': 1, 'a': 2, 't': 1, 'S': 1, 'c': 2, 'i': 1, 'e': 2, 'n': 1}\n"
     ]
    }
   ],
   "source": [
    "#Initializing the string\n",
    "test_str = \"DataScience\"\n",
    "\n",
    "all_fre={}\n",
    "for i in test_str:\n",
    "    if i in all_fre:\n",
    "        all_fre[i]+=1\n",
    "    else:\n",
    "        all_fre[i]=1\n",
    "print(\"Count all charecters in DataScience is: \\n\" +str(all_fre))"
   ]
  }
 ],
 "metadata": {
  "kernelspec": {
   "display_name": "Python 3 (ipykernel)",
   "language": "python",
   "name": "python3"
  },
  "language_info": {
   "codemirror_mode": {
    "name": "ipython",
    "version": 3
   },
   "file_extension": ".py",
   "mimetype": "text/x-python",
   "name": "python",
   "nbconvert_exporter": "python",
   "pygments_lexer": "ipython3",
   "version": "3.9.12"
  }
 },
 "nbformat": 4,
 "nbformat_minor": 5
}
