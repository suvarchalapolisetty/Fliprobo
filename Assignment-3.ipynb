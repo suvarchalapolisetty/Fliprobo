{
 "cells": [
  {
   "cell_type": "code",
   "execution_count": 30,
   "id": "1a34c397",
   "metadata": {},
   "outputs": [],
   "source": [
    "import selenium\n",
    "import pandas as pd\n",
    "from selenium import webdriver \n",
    "import warnings\n",
    "warnings.filterwarnings('ignore')\n",
    "from selenium.common.exceptions import StaleElementReferenceException,NoSuchElementException\n",
    "from selenium.webdriver.common.by import By\n",
    "import time\n",
    "import requests"
   ]
  },
  {
   "cell_type": "markdown",
   "id": "3b6b56c8",
   "metadata": {},
   "source": [
    "# Q-1)"
   ]
  },
  {
   "cell_type": "code",
   "execution_count": 31,
   "id": "7371f390",
   "metadata": {},
   "outputs": [],
   "source": [
    "#Let's Connect the driver:-\n",
    "driver = webdriver.Chrome(r\"C:\\Users\\SUVARCHALA\\Downloads\\chromedriver_win32.chromedriver.exe\")"
   ]
  },
  {
   "cell_type": "code",
   "execution_count": 32,
   "id": "731c9ae0",
   "metadata": {},
   "outputs": [],
   "source": [
    "# Opening the Amazon page on automated chrome browser\n",
    "driver.get(\"http://www.amazon.in/\")"
   ]
  },
  {
   "cell_type": "code",
   "execution_count": null,
   "id": "38ca1a60",
   "metadata": {},
   "outputs": [],
   "source": [
    "val=input(\"Enter your item:\")"
   ]
  },
  {
   "cell_type": "markdown",
   "id": "17d7ed9a",
   "metadata": {},
   "source": [
    "# Q-3)"
   ]
  },
  {
   "cell_type": "code",
   "execution_count": 33,
   "id": "c7f1dd48",
   "metadata": {},
   "outputs": [],
   "source": [
    "#Let's Connect the driver:-\n",
    "driver = webdriver.Chrome(r\"C:\\Users\\SUVARCHALA\\Downloads\\chromedriver_win32.chromedriver.exe\")"
   ]
  },
  {
   "cell_type": "code",
   "execution_count": 34,
   "id": "818013d3",
   "metadata": {},
   "outputs": [],
   "source": [
    "#opening images.google.com in browser\n",
    "driver.get(\"https://images.google.com/\")"
   ]
  },
  {
   "cell_type": "markdown",
   "id": "45b6ec92",
   "metadata": {},
   "source": [
    "search for fruits"
   ]
  },
  {
   "cell_type": "code",
   "execution_count": 35,
   "id": "4146b23b",
   "metadata": {},
   "outputs": [],
   "source": [
    "#entering item as required in the question-\n",
    "item=driver.find_element(By.CLASS_NAME,\"gLFyf\")\n",
    "item.send_keys('fruits')"
   ]
  },
  {
   "cell_type": "code",
   "execution_count": 36,
   "id": "d7580ef5",
   "metadata": {},
   "outputs": [],
   "source": [
    "search=driver.find_element(By.XPATH,'//html/body/div[1]/div[3]/form/div[1]/div[1]/div[1]/button/div/span')\n",
    "search.click()\n",
    "time.sleep(3)"
   ]
  },
  {
   "cell_type": "code",
   "execution_count": 37,
   "id": "b3cd6b90",
   "metadata": {},
   "outputs": [],
   "source": [
    "for i in range(10):\n",
    "    driver.execute_script(\"window.scrollBy(0,10)\")\n",
    "images=driver.find_elements(By.XPATH,\"//img[@class='rg_i Q4LuWd']\")\n",
    "img_urls=[]\n",
    "imag_data=[]\n",
    "for i in images:\n",
    "    source=i.get_attribute('src')\n",
    "    if source is not None:\n",
    "        if(source[0:4]=='http'):\n",
    "            img_urls.append(source)\n",
    "        \n",
    "for i in range(len(img_urls)):\n",
    "    if i>10:\n",
    "        breakBy.XPATH,\n",
    "    print(\"Downloading{0} of {1} images\".format(i,10))\n",
    "    response=requests.get(imag_urls[i])\n",
    "    file=open(r'c:\\users\\ThisPC'+str(i)+\".jpg\",\"wb\")\n",
    "    file.write(response.content)"
   ]
  },
  {
   "cell_type": "markdown",
   "id": "1ea1ad51",
   "metadata": {},
   "source": [
    "Search for cars"
   ]
  },
  {
   "cell_type": "code",
   "execution_count": 38,
   "id": "efc29bfc",
   "metadata": {},
   "outputs": [],
   "source": [
    "#Let's Connect the driver:-\n",
    "driver = webdriver.Chrome(r\"C:\\Users\\SUVARCHALA\\Downloads\\chromedriver_win32.chromedriver.exe\")"
   ]
  },
  {
   "cell_type": "code",
   "execution_count": 39,
   "id": "31412b26",
   "metadata": {},
   "outputs": [],
   "source": [
    "#opening images.google.com in browser\n",
    "driver.get(\"https://images.google.com/\")"
   ]
  },
  {
   "cell_type": "code",
   "execution_count": 40,
   "id": "513adb47",
   "metadata": {},
   "outputs": [],
   "source": [
    "#entering item as required in the question-\n",
    "item=driver.find_element(By.CLASS_NAME,\"gLFyf\")\n",
    "item.send_keys('cars')"
   ]
  },
  {
   "cell_type": "code",
   "execution_count": 41,
   "id": "f0e3830a",
   "metadata": {},
   "outputs": [],
   "source": [
    "search=driver.find_element(By.XPATH,'//html/body/div[1]/div[3]/form/div[1]/div[1]/div[1]/button/div/span')\n",
    "search.click()\n",
    "time.sleep(3)"
   ]
  },
  {
   "cell_type": "code",
   "execution_count": 42,
   "id": "5aefe5ec",
   "metadata": {},
   "outputs": [],
   "source": [
    "for i in range(10):\n",
    "    driver.execute_script(\"window.scrollBy(0,10)\")\n",
    "images=driver.find_elements(By.XPATH,\"//img[@class='rg_i Q4LuWd']\")\n",
    "img_urls=[]\n",
    "imag_data=[]\n",
    "for i in images:\n",
    "    source=i.get_attribute('src')\n",
    "    if source is not None:\n",
    "        if(source[0:4]=='http'):\n",
    "            img_urls.append(source)\n",
    "        \n",
    "for i in range(len(img_urls)):\n",
    "    if i>10:\n",
    "        breakBy.XPATH,\n",
    "    print(\"Downloading{0} of {1} images\".format(i,10))\n",
    "    response=requests.get(imag_urls[i])\n",
    "    file=open(r'c:\\users\\ThisPC'+str(i)+\".jpg\",\"wb\")\n",
    "    file.write(response.content)"
   ]
  },
  {
   "cell_type": "markdown",
   "id": "64780b6a",
   "metadata": {},
   "source": [
    "Search for Machine Learning"
   ]
  },
  {
   "cell_type": "code",
   "execution_count": 43,
   "id": "13aeee9a",
   "metadata": {},
   "outputs": [],
   "source": [
    "#Let's Connect the driver:-\n",
    "driver = webdriver.Chrome(r\"C:\\Users\\SUVARCHALA\\Downloads\\chromedriver_win32.chromedriver.exe\")"
   ]
  },
  {
   "cell_type": "code",
   "execution_count": 44,
   "id": "ca60fd3c",
   "metadata": {},
   "outputs": [],
   "source": [
    "#opening images.google.com in browser\n",
    "driver.get(\"https://images.google.com/\")"
   ]
  },
  {
   "cell_type": "code",
   "execution_count": 45,
   "id": "e8dd979f",
   "metadata": {},
   "outputs": [],
   "source": [
    "#entering item as required in the question-\n",
    "item=driver.find_element(By.CLASS_NAME,\"gLFyf\")\n",
    "item.send_keys('Machine Learning')"
   ]
  },
  {
   "cell_type": "code",
   "execution_count": 46,
   "id": "c86234ec",
   "metadata": {},
   "outputs": [],
   "source": [
    "search=driver.find_element(By.XPATH,'//html/body/div[1]/div[3]/form/div[1]/div[1]/div[1]/button/div/span')\n",
    "search.click()\n",
    "time.sleep(5)"
   ]
  },
  {
   "cell_type": "code",
   "execution_count": 47,
   "id": "7e703b84",
   "metadata": {},
   "outputs": [],
   "source": [
    "for i in range(10):\n",
    "    driver.execute_script(\"window.scrollBy(0,10)\")\n",
    "images=driver.find_elements(By.XPATH,\"//img[@class='rg_i Q4LuWd']\")\n",
    "img_urls=[]\n",
    "imag_data=[]\n",
    "for i in images:\n",
    "    source=i.get_attribute('src')\n",
    "    if source is not None:\n",
    "        if(source[0:4]=='http'):\n",
    "            img_urls.append(source)\n",
    "        \n",
    "for i in range(len(img_urls)):\n",
    "    if i>10:\n",
    "        breakBy.XPATH,\n",
    "    print(\"Downloading{0} of {1} images\".format(i,10))\n",
    "    response=requests.get(img_urls[i])\n",
    "    "
   ]
  },
  {
   "cell_type": "markdown",
   "id": "7229a523",
   "metadata": {},
   "source": [
    "Search for guitars"
   ]
  },
  {
   "cell_type": "code",
   "execution_count": 48,
   "id": "cd0aa101",
   "metadata": {},
   "outputs": [],
   "source": [
    "#Let's Connect the driver:-\n",
    "driver = webdriver.Chrome(r\"C:\\Users\\SUVARCHALA\\Downloads\\chromedriver_win32.chromedriver.exe\")"
   ]
  },
  {
   "cell_type": "code",
   "execution_count": 49,
   "id": "7afaba71",
   "metadata": {},
   "outputs": [],
   "source": [
    "#opening images.google.com in browser\n",
    "driver.get(\"https://images.google.com/\")"
   ]
  },
  {
   "cell_type": "code",
   "execution_count": 50,
   "id": "32b2a2f8",
   "metadata": {},
   "outputs": [],
   "source": [
    "#entering item as required in the question-\n",
    "item=driver.find_element(By.CLASS_NAME,\"gLFyf\")\n",
    "item.send_keys('Guitars')"
   ]
  },
  {
   "cell_type": "code",
   "execution_count": 51,
   "id": "3523afad",
   "metadata": {},
   "outputs": [],
   "source": [
    "search=driver.find_element(By.XPATH,'//html/body/div[1]/div[3]/form/div[1]/div[1]/div[1]/button/div/span')\n",
    "search.click()\n",
    "time.sleep(5)"
   ]
  },
  {
   "cell_type": "code",
   "execution_count": 52,
   "id": "f95146ee",
   "metadata": {},
   "outputs": [
    {
     "name": "stdout",
     "output_type": "stream",
     "text": [
      "Downloading0 of 10 images\n",
      "Downloading1 of 10 images\n",
      "Downloading2 of 10 images\n"
     ]
    }
   ],
   "source": [
    "for i in range(10):\n",
    "    driver.execute_script(\"window.scrollBy(0,10)\")\n",
    "images=driver.find_elements(By.XPATH,\"//img[@class='rg_i Q4LuWd']\")\n",
    "img_urls=[]\n",
    "imag_data=[]\n",
    "for i in images:\n",
    "    source=i.get_attribute('src')\n",
    "    if source is not None:\n",
    "        if(source[0:4]=='http'):\n",
    "            img_urls.append(source)\n",
    "        \n",
    "for i in range(len(img_urls)):\n",
    "    if i>10:\n",
    "        breakBy.XPATH,\n",
    "    print(\"Downloading{0} of {1} images\".format(i,10))\n",
    "    response=requests.get(img_urls[i])\n",
    "    "
   ]
  },
  {
   "cell_type": "markdown",
   "id": "ec873477",
   "metadata": {},
   "source": [
    "# Search for cakes"
   ]
  },
  {
   "cell_type": "code",
   "execution_count": 54,
   "id": "59f0299f",
   "metadata": {},
   "outputs": [],
   "source": [
    "#Let's Connect the driver:-\n",
    "driver = webdriver.Chrome(r\"C:\\Users\\SUVARCHALA\\Downloads\\chromedriver_win32.chromedriver.exe\")"
   ]
  },
  {
   "cell_type": "code",
   "execution_count": 55,
   "id": "d815a7b2",
   "metadata": {},
   "outputs": [],
   "source": [
    "#opening images.google.com in browser\n",
    "driver.get(\"https://images.google.com/\")"
   ]
  },
  {
   "cell_type": "code",
   "execution_count": 56,
   "id": "8a082d09",
   "metadata": {},
   "outputs": [],
   "source": [
    "#entering item as required in the question-\n",
    "item=driver.find_element(By.CLASS_NAME,\"gLFyf\")\n",
    "item.send_keys('Cakes')"
   ]
  },
  {
   "cell_type": "code",
   "execution_count": 57,
   "id": "a95aa43a",
   "metadata": {},
   "outputs": [],
   "source": [
    "search=driver.find_element(By.XPATH,'//html/body/div[1]/div[3]/form/div[1]/div[1]/div[1]/button/div/span')\n",
    "search.click()\n",
    "time.sleep(5)"
   ]
  },
  {
   "cell_type": "code",
   "execution_count": 58,
   "id": "7dd070bd",
   "metadata": {},
   "outputs": [
    {
     "name": "stdout",
     "output_type": "stream",
     "text": [
      "Downloading0 of 10 images\n",
      "Downloading1 of 10 images\n",
      "Downloading2 of 10 images\n",
      "Downloading3 of 10 images\n",
      "Downloading4 of 10 images\n",
      "Downloading5 of 10 images\n",
      "Downloading6 of 10 images\n",
      "Downloading7 of 10 images\n"
     ]
    }
   ],
   "source": [
    "for i in range(10):\n",
    "    driver.execute_script(\"window.scrollBy(0,10)\")\n",
    "images=driver.find_elements(By.XPATH,\"//img[@class='rg_i Q4LuWd']\")\n",
    "img_urls=[]\n",
    "imag_data=[]\n",
    "for i in images:\n",
    "    source=i.get_attribute('src')\n",
    "    if source is not None:\n",
    "        if(source[0:4]=='http'):\n",
    "            img_urls.append(source)\n",
    "        \n",
    "for i in range(len(img_urls)):\n",
    "    if i>10:\n",
    "        breakBy.XPATH,\n",
    "    print(\"Downloading{0} of {1} images\".format(i,10))\n",
    "    response=requests.get(img_urls[i])\n",
    "    "
   ]
  },
  {
   "cell_type": "markdown",
   "id": "bc42b2bf",
   "metadata": {},
   "source": [
    "# Q-2)"
   ]
  },
  {
   "cell_type": "code",
   "execution_count": 1,
   "id": "98a3e730",
   "metadata": {},
   "outputs": [],
   "source": [
    "import selenium\n",
    "import pandas as pd\n",
    "from selenium import webdriver \n",
    "import warnings\n",
    "warnings.filterwarnings('ignore')\n",
    "from selenium.common.exceptions import StaleElementReferenceException,NoSuchElementException\n",
    "from selenium.webdriver.common.by import By\n",
    "import time\n",
    "import requests"
   ]
  },
  {
   "cell_type": "code",
   "execution_count": 2,
   "id": "006f6ee2",
   "metadata": {},
   "outputs": [],
   "source": [
    "#Let's Connect the driver:-\n",
    "driver = webdriver.Chrome(r\"C:\\Users\\SUVARCHALA\\Downloads\\chromedriver_win32.chromedriver.exe\")"
   ]
  },
  {
   "cell_type": "code",
   "execution_count": 3,
   "id": "a4ab8483",
   "metadata": {},
   "outputs": [],
   "source": [
    "# Opening the Amazon page on automated chrome browser\n",
    "driver.get(\"http://www.amazon.in/\")"
   ]
  },
  {
   "cell_type": "code",
   "execution_count": 4,
   "id": "ade84319",
   "metadata": {},
   "outputs": [],
   "source": [
    "product_tags=driver.find_element(By.XPATH,\"//input[@class='nav-input nav-progressive-attribute']\")\n",
    "product_tags.send_keys('guitar')"
   ]
  },
  {
   "cell_type": "code",
   "execution_count": 5,
   "id": "718a1cb8",
   "metadata": {},
   "outputs": [],
   "source": [
    "search = driver.find_element(By.XPATH,\"/html/body/div[1]/header/div/div[1]/div[2]/div/form/div[3]/div/span/input\")\n",
    "search.click()\n",
    "time.sleep(3)"
   ]
  },
  {
   "cell_type": "code",
   "execution_count": 6,
   "id": "eb2e3bf5",
   "metadata": {},
   "outputs": [],
   "source": [
    "#scrap all product urls\n",
    "product_urls=[]\n",
    "start=0\n",
    "end=3\n",
    "for page in range(start,end):\n",
    "    url=driver.find_elements(By.XPATH,'//a[@class=\"a-link-normal s-underline-text s-underline-link-text s-link-style a-text-normal\"]')\n",
    "    for i in url[0:10]:\n",
    "        product_urls.append(i.get_attribute(\"href\"))\n",
    "    next_button=driver.find_element(By.XPATH,'//a[@class=\"s-pagination-item s-pagination-next s-pagination-button s-pagination-separator\"]')\n",
    "    next_button.click()\n",
    "    time.sleep(3)"
   ]
  },
  {
   "cell_type": "code",
   "execution_count": 7,
   "id": "dccff5b4",
   "metadata": {},
   "outputs": [
    {
     "data": {
      "text/plain": [
       "30"
      ]
     },
     "execution_count": 7,
     "metadata": {},
     "output_type": "execute_result"
    }
   ],
   "source": [
    "len(product_urls)"
   ]
  },
  {
   "cell_type": "code",
   "execution_count": 8,
   "id": "a4c2f172",
   "metadata": {},
   "outputs": [],
   "source": [
    "Brand=[]\n",
    "\n",
    "for url in product_urls[:10]:\n",
    "    driver.get(url)\n",
    "    time.sleep(2)\n",
    "    try:\n",
    "        brand = driver.find_element(By.XPATH,'//td[@class=\"a-span9\"]')\n",
    "        Brand.append(brand.text)\n",
    "    except NoSuchElementException:\n",
    "        Brand.append('-')\n",
    "        "
   ]
  },
  {
   "cell_type": "code",
   "execution_count": 9,
   "id": "4d8f0c5e",
   "metadata": {},
   "outputs": [
    {
     "data": {
      "text/plain": [
       "10"
      ]
     },
     "execution_count": 9,
     "metadata": {},
     "output_type": "execute_result"
    }
   ],
   "source": [
    "len(Brand)"
   ]
  },
  {
   "cell_type": "code",
   "execution_count": 10,
   "id": "5e5687cd",
   "metadata": {},
   "outputs": [],
   "source": [
    "Price=[]\n",
    "\n",
    "for url in product_urls[:10]:\n",
    "    driver.get(url)\n",
    "    time.sleep(2)\n",
    "    try:\n",
    "        price = driver.find_element(By.XPATH,'//span[@class=\"a-price-whole\"]')\n",
    "        Price.append(price.text)\n",
    "    except NoSuchElementException:\n",
    "        Price.append('-')"
   ]
  },
  {
   "cell_type": "code",
   "execution_count": 11,
   "id": "a32757a7",
   "metadata": {},
   "outputs": [
    {
     "data": {
      "text/plain": [
       "10"
      ]
     },
     "execution_count": 11,
     "metadata": {},
     "output_type": "execute_result"
    }
   ],
   "source": [
    "len(Price)"
   ]
  },
  {
   "cell_type": "code",
   "execution_count": 12,
   "id": "50097ace",
   "metadata": {},
   "outputs": [],
   "source": [
    "Return_Exchange=[]\n",
    "for url in product_urls[:10]:\n",
    "    driver.get(url)\n",
    "    time.sleep(2)\n",
    "    try:\n",
    "        return_exchange = driver.find_element(By.XPATH,'//div[@class=\"a-section a-spacing-none\"]')\n",
    "        Return_Exchange.append(return_exchange.text)\n",
    "    except NoSuchElementException:\n",
    "        Return_Exchange.append('-')"
   ]
  },
  {
   "cell_type": "code",
   "execution_count": 13,
   "id": "4290e07e",
   "metadata": {},
   "outputs": [
    {
     "data": {
      "text/plain": [
       "10"
      ]
     },
     "execution_count": 13,
     "metadata": {},
     "output_type": "execute_result"
    }
   ],
   "source": [
    "len(Return_Exchange)"
   ]
  },
  {
   "cell_type": "code",
   "execution_count": 14,
   "id": "ef163a94",
   "metadata": {},
   "outputs": [],
   "source": [
    "Expected_Delivery=[]\n",
    "for url in product_urls[:10]:\n",
    "    driver.get(url)\n",
    "    time.sleep(2)\n",
    "    try:\n",
    "        expected_delivery = driver.find_element(By.XPATH,'//span[@class=\"a-text-bold\"]')\n",
    "        Expected_Delivery.append(expected_delivery.text)\n",
    "    except NoSuchElementException:\n",
    "        Expected_Delivery.append('-')"
   ]
  },
  {
   "cell_type": "code",
   "execution_count": 15,
   "id": "e723e40b",
   "metadata": {},
   "outputs": [
    {
     "data": {
      "text/plain": [
       "10"
      ]
     },
     "execution_count": 15,
     "metadata": {},
     "output_type": "execute_result"
    }
   ],
   "source": [
    "len(Expected_Delivery)"
   ]
  },
  {
   "cell_type": "code",
   "execution_count": 16,
   "id": "a71932b2",
   "metadata": {},
   "outputs": [],
   "source": [
    "Availability=[]\n",
    "for url in product_urls[:10]:\n",
    "    driver.get(url)\n",
    "    time.sleep(2)\n",
    "    try:\n",
    "        availability = driver.find_element(By.XPATH,'//div[@class=\"a-row a-size-base a-color-secondary\"]')\n",
    "        Availability.append(availability.text)\n",
    "    except NoSuchElementException:\n",
    "        Availability.append('-')"
   ]
  },
  {
   "cell_type": "code",
   "execution_count": 17,
   "id": "972bb396",
   "metadata": {},
   "outputs": [
    {
     "data": {
      "text/plain": [
       "10"
      ]
     },
     "execution_count": 17,
     "metadata": {},
     "output_type": "execute_result"
    }
   ],
   "source": [
    "len(Availability)"
   ]
  },
  {
   "cell_type": "code",
   "execution_count": 18,
   "id": "f9df40d0",
   "metadata": {},
   "outputs": [
    {
     "data": {
      "text/html": [
       "<div>\n",
       "<style scoped>\n",
       "    .dataframe tbody tr th:only-of-type {\n",
       "        vertical-align: middle;\n",
       "    }\n",
       "\n",
       "    .dataframe tbody tr th {\n",
       "        vertical-align: top;\n",
       "    }\n",
       "\n",
       "    .dataframe thead th {\n",
       "        text-align: right;\n",
       "    }\n",
       "</style>\n",
       "<table border=\"1\" class=\"dataframe\">\n",
       "  <thead>\n",
       "    <tr style=\"text-align: right;\">\n",
       "      <th></th>\n",
       "      <th>Brand</th>\n",
       "      <th>Price</th>\n",
       "      <th>Return_exchange</th>\n",
       "      <th>Exp_delivery</th>\n",
       "      <th>Availability</th>\n",
       "    </tr>\n",
       "  </thead>\n",
       "  <tbody>\n",
       "    <tr>\n",
       "      <th>0</th>\n",
       "      <td>Kadence</td>\n",
       "      <td>4,949</td>\n",
       "      <td>Lightning Deal\\n₹4,949\\n00\\n1% claimed\\nFREE d...</td>\n",
       "      <td>Wednesday, 28 December</td>\n",
       "      <td>-</td>\n",
       "    </tr>\n",
       "    <tr>\n",
       "      <th>1</th>\n",
       "      <td>Kadence</td>\n",
       "      <td>9,900</td>\n",
       "      <td>Lightning Deal\\n₹9,900\\n00\\n1% claimed\\nFREE d...</td>\n",
       "      <td>Thursday, 29 December</td>\n",
       "      <td>-</td>\n",
       "    </tr>\n",
       "    <tr>\n",
       "      <th>2</th>\n",
       "      <td>Wooden</td>\n",
       "      <td>799</td>\n",
       "      <td>FREE delivery Saturday, 31 December. Order wit...</td>\n",
       "      <td>Saturday, 31 December</td>\n",
       "      <td>-</td>\n",
       "    </tr>\n",
       "    <tr>\n",
       "      <th>3</th>\n",
       "      <td>Gibz's</td>\n",
       "      <td>4,498</td>\n",
       "      <td>FREE delivery Friday, 30 December. Order withi...</td>\n",
       "      <td>Friday, 30 December</td>\n",
       "      <td>-</td>\n",
       "    </tr>\n",
       "    <tr>\n",
       "      <th>4</th>\n",
       "      <td>Juârez</td>\n",
       "      <td>2,149</td>\n",
       "      <td>FREE delivery Friday, 30 December. Order withi...</td>\n",
       "      <td>Friday, 30 December</td>\n",
       "      <td>-</td>\n",
       "    </tr>\n",
       "    <tr>\n",
       "      <th>5</th>\n",
       "      <td>Intern</td>\n",
       "      <td>2,399</td>\n",
       "      <td>FREE delivery Friday, 30 December. Order withi...</td>\n",
       "      <td>Friday, 30 December</td>\n",
       "      <td>-</td>\n",
       "    </tr>\n",
       "    <tr>\n",
       "      <th>6</th>\n",
       "      <td>Intern</td>\n",
       "      <td>2,099</td>\n",
       "      <td>FREE delivery Friday, 30 December. Order withi...</td>\n",
       "      <td>Friday, 30 December</td>\n",
       "      <td>-</td>\n",
       "    </tr>\n",
       "    <tr>\n",
       "      <th>7</th>\n",
       "      <td>Intern</td>\n",
       "      <td>2,399</td>\n",
       "      <td>FREE delivery Friday, 30 December. Order withi...</td>\n",
       "      <td>Friday, 30 December</td>\n",
       "      <td>-</td>\n",
       "    </tr>\n",
       "    <tr>\n",
       "      <th>8</th>\n",
       "      <td>HOVNER</td>\n",
       "      <td>4,480</td>\n",
       "      <td>FREE delivery Friday, 30 December. Order withi...</td>\n",
       "      <td>Friday, 30 December</td>\n",
       "      <td>-</td>\n",
       "    </tr>\n",
       "    <tr>\n",
       "      <th>9</th>\n",
       "      <td>Intern</td>\n",
       "      <td>2,099</td>\n",
       "      <td>FREE delivery January 2 - 5</td>\n",
       "      <td>January 2 - 5</td>\n",
       "      <td>-</td>\n",
       "    </tr>\n",
       "  </tbody>\n",
       "</table>\n",
       "</div>"
      ],
      "text/plain": [
       "     Brand  Price                                    Return_exchange  \\\n",
       "0  Kadence  4,949  Lightning Deal\\n₹4,949\\n00\\n1% claimed\\nFREE d...   \n",
       "1  Kadence  9,900  Lightning Deal\\n₹9,900\\n00\\n1% claimed\\nFREE d...   \n",
       "2   Wooden    799  FREE delivery Saturday, 31 December. Order wit...   \n",
       "3   Gibz's  4,498  FREE delivery Friday, 30 December. Order withi...   \n",
       "4   Juârez  2,149  FREE delivery Friday, 30 December. Order withi...   \n",
       "5   Intern  2,399  FREE delivery Friday, 30 December. Order withi...   \n",
       "6   Intern  2,099  FREE delivery Friday, 30 December. Order withi...   \n",
       "7   Intern  2,399  FREE delivery Friday, 30 December. Order withi...   \n",
       "8   HOVNER  4,480  FREE delivery Friday, 30 December. Order withi...   \n",
       "9   Intern  2,099                        FREE delivery January 2 - 5   \n",
       "\n",
       "             Exp_delivery Availability  \n",
       "0  Wednesday, 28 December            -  \n",
       "1   Thursday, 29 December            -  \n",
       "2   Saturday, 31 December            -  \n",
       "3     Friday, 30 December            -  \n",
       "4     Friday, 30 December            -  \n",
       "5     Friday, 30 December            -  \n",
       "6     Friday, 30 December            -  \n",
       "7     Friday, 30 December            -  \n",
       "8     Friday, 30 December            -  \n",
       "9           January 2 - 5            -  "
      ]
     },
     "execution_count": 18,
     "metadata": {},
     "output_type": "execute_result"
    }
   ],
   "source": [
    "#creating the DataFrame from the above data:-\n",
    "\n",
    "df = pd.DataFrame({'Brand':Brand,'Price':Price,'Return_exchange':Return_Exchange,'Exp_delivery':Expected_Delivery,'Availability':Availability})\n",
    "df"
   ]
  },
  {
   "cell_type": "code",
   "execution_count": 19,
   "id": "e2cecb54",
   "metadata": {},
   "outputs": [
    {
     "data": {
      "text/plain": [
       "['Kadence,\"4,949\",\"Lightning Deal',\n",
       " '₹4,949',\n",
       " '00',\n",
       " '1% claimed',\n",
       " 'FREE delivery Wednesday, 28 December. Details',\n",
       " 'Or fastest delivery Tuesday, 27 December. Order within 1 hr 11 mins. Details',\n",
       " 'Select delivery location',\n",
       " 'Quantity: 1',\n",
       " 'Add to Cart',\n",
       " 'Regular Price',\n",
       " '₹5,699',\n",
       " '00',\n",
       " 'FREE delivery: Wednesday, Dec 28',\n",
       " 'Ships from: Amazon',\n",
       " 'Sold by: NoteKart\",\"Wednesday, 28 December\",-\\r',\n",
       " 'Kadence,\"9,900\",\"Lightning Deal',\n",
       " '₹9,900',\n",
       " '00',\n",
       " '1% claimed',\n",
       " 'FREE delivery Thursday, 29 December. Order within 18 hrs 55 mins. Details',\n",
       " 'Select delivery location',\n",
       " 'Quantity: 1',\n",
       " 'Add to Cart',\n",
       " 'Regular Price',\n",
       " '₹10,499',\n",
       " '00',\n",
       " 'FREE delivery: Thursday, Dec 29',\n",
       " 'Ships from: Amazon',\n",
       " 'Sold by: NoteKart\",\"Thursday, 29 December\",-\\r',\n",
       " 'Wooden,799,\"FREE delivery Saturday, 31 December. Order within 21 hrs 10 mins. Details\",\"Saturday, 31 December\",-\\r',\n",
       " 'Gibz\\'s,\"4,498\",\"FREE delivery Friday, 30 December. Order within 4 hrs 40 mins. Details\",\"Friday, 30 December\",-\\r',\n",
       " 'Juârez,\"2,149\",\"FREE delivery Friday, 30 December. Order within 20 hrs 40 mins. Details\",\"Friday, 30 December\",-\\r',\n",
       " 'Intern,\"2,399\",\"FREE delivery Friday, 30 December. Order within 20 hrs 40 mins. Details\",\"Friday, 30 December\",-\\r',\n",
       " 'Intern,\"2,099\",\"FREE delivery Friday, 30 December. Order within 16 hrs 55 mins. Details\",\"Friday, 30 December\",-\\r',\n",
       " 'Intern,\"2,399\",\"FREE delivery Friday, 30 December. Order within 16 hrs 55 mins. Details\",\"Friday, 30 December\",-\\r',\n",
       " 'HOVNER,\"4,480\",\"FREE delivery Friday, 30 December. Order within 16 hrs 10 mins. Details\",\"Friday, 30 December\",-\\r',\n",
       " 'Intern,\"2,099\",FREE delivery January 2 - 5,January 2 - 5,-\\r']"
      ]
     },
     "execution_count": 19,
     "metadata": {},
     "output_type": "execute_result"
    }
   ],
   "source": [
    " df.to_csv(header=None, index=False).strip('\\n').split('\\n')"
   ]
  },
  {
   "cell_type": "markdown",
   "id": "b80e3ecb",
   "metadata": {},
   "source": [
    "# Q-5)"
   ]
  },
  {
   "cell_type": "code",
   "execution_count": 20,
   "id": "ad39fbba",
   "metadata": {},
   "outputs": [
    {
     "name": "stdout",
     "output_type": "stream",
     "text": [
      "Requirement already satisfied: geopy in c:\\anaconda\\lib\\site-packages (2.3.0)\n",
      "Requirement already satisfied: geographiclib<3,>=1.52 in c:\\anaconda\\lib\\site-packages (from geopy) (2.0)\n"
     ]
    }
   ],
   "source": [
    "!pip install geopy "
   ]
  },
  {
   "cell_type": "code",
   "execution_count": 21,
   "id": "423da978",
   "metadata": {},
   "outputs": [
    {
     "data": {
      "text/html": [
       "<div>\n",
       "<style scoped>\n",
       "    .dataframe tbody tr th:only-of-type {\n",
       "        vertical-align: middle;\n",
       "    }\n",
       "\n",
       "    .dataframe tbody tr th {\n",
       "        vertical-align: top;\n",
       "    }\n",
       "\n",
       "    .dataframe thead th {\n",
       "        text-align: right;\n",
       "    }\n",
       "</style>\n",
       "<table border=\"1\" class=\"dataframe\">\n",
       "  <thead>\n",
       "    <tr style=\"text-align: right;\">\n",
       "      <th></th>\n",
       "      <th>City</th>\n",
       "    </tr>\n",
       "  </thead>\n",
       "  <tbody>\n",
       "    <tr>\n",
       "      <th>0</th>\n",
       "      <td>Eluru</td>\n",
       "    </tr>\n",
       "  </tbody>\n",
       "</table>\n",
       "</div>"
      ],
      "text/plain": [
       "    City\n",
       "0  Eluru"
      ]
     },
     "execution_count": 21,
     "metadata": {},
     "output_type": "execute_result"
    }
   ],
   "source": [
    "# Import pandas package  \n",
    "import pandas as pd \n",
    "import numpy as np\n",
    "    \n",
    "# Define a dictionary containing  data \n",
    "data = {'City':['Eluru']} \n",
    "    \n",
    "# Convert the dictionary into DataFrame \n",
    "df = pd.DataFrame(data) \n",
    "    \n",
    "# Observe the result \n",
    "df"
   ]
  },
  {
   "cell_type": "code",
   "execution_count": 22,
   "id": "17bf843e",
   "metadata": {},
   "outputs": [],
   "source": [
    "from geopy.exc import GeocoderTimedOut\n",
    "from geopy.geocoders import Nominatim\n",
    "   \n",
    "# declare an empty list to store\n",
    "# latitude and longitude of values \n",
    "# of city column\n",
    "longitude = []\n",
    "latitude = []\n",
    "   \n",
    "# function to find the coordinate\n",
    "# of a given city \n",
    "def findGeocode(city):\n",
    "       \n",
    "    # try and catch is used to overcome\n",
    "    # the exception thrown by geolocator\n",
    "    # using geocodertimedout  \n",
    "    try:\n",
    "          \n",
    "        # Specify the user_agent as your\n",
    "        # app name it should not be none\n",
    "        geolocator = Nominatim(user_agent=\"your_app_name\")\n",
    "          \n",
    "        return geolocator.geocode(city)\n",
    "      \n",
    "    except GeocoderTimedOut:\n",
    "          \n",
    "        return findGeocode(city)    \n",
    "  \n",
    "# each value from city column\n",
    "# will be fetched and sent to\n",
    "# function find_geocode   \n",
    "for i in (df[\"City\"]):\n",
    "      \n",
    "    if findGeocode(i) != None:\n",
    "           \n",
    "        loc = findGeocode(i)\n",
    "          \n",
    "        # coordinates returned from \n",
    "        # function is stored into\n",
    "        # two separate list\n",
    "        latitude.append(loc.latitude)\n",
    "        longitude.append(loc.longitude)\n",
    "       \n",
    "    # if coordinate for a city not\n",
    "    # found, insert \"NaN\" indicating \n",
    "    # missing value \n",
    "    else:\n",
    "        latitude.append(np.nan)\n",
    "        longitude.append(np.nan)"
   ]
  },
  {
   "cell_type": "code",
   "execution_count": 23,
   "id": "f9a7a638",
   "metadata": {},
   "outputs": [
    {
     "data": {
      "text/html": [
       "<div>\n",
       "<style scoped>\n",
       "    .dataframe tbody tr th:only-of-type {\n",
       "        vertical-align: middle;\n",
       "    }\n",
       "\n",
       "    .dataframe tbody tr th {\n",
       "        vertical-align: top;\n",
       "    }\n",
       "\n",
       "    .dataframe thead th {\n",
       "        text-align: right;\n",
       "    }\n",
       "</style>\n",
       "<table border=\"1\" class=\"dataframe\">\n",
       "  <thead>\n",
       "    <tr style=\"text-align: right;\">\n",
       "      <th></th>\n",
       "      <th>City</th>\n",
       "      <th>Longitude</th>\n",
       "      <th>Latitude</th>\n",
       "    </tr>\n",
       "  </thead>\n",
       "  <tbody>\n",
       "    <tr>\n",
       "      <th>0</th>\n",
       "      <td>Eluru</td>\n",
       "      <td>81.080454</td>\n",
       "      <td>17.015219</td>\n",
       "    </tr>\n",
       "  </tbody>\n",
       "</table>\n",
       "</div>"
      ],
      "text/plain": [
       "    City  Longitude   Latitude\n",
       "0  Eluru  81.080454  17.015219"
      ]
     },
     "execution_count": 23,
     "metadata": {},
     "output_type": "execute_result"
    }
   ],
   "source": [
    "# now add this column to dataframe\n",
    "df[\"Longitude\"] = longitude\n",
    "df[\"Latitude\"] = latitude\n",
    "  \n",
    "df"
   ]
  },
  {
   "cell_type": "markdown",
   "id": "d677105d",
   "metadata": {},
   "source": [
    "# Q-7)"
   ]
  },
  {
   "cell_type": "code",
   "execution_count": 24,
   "id": "03b9a553",
   "metadata": {},
   "outputs": [],
   "source": [
    "import selenium\n",
    "import pandas as pd\n",
    "from selenium import webdriver \n",
    "import warnings\n",
    "warnings.filterwarnings('ignore')\n",
    "from selenium.common.exceptions import StaleElementReferenceException,NoSuchElementException\n",
    "from selenium.webdriver.common.by import By\n",
    "import time\n",
    "import requests"
   ]
  },
  {
   "cell_type": "code",
   "execution_count": 25,
   "id": "5b8b6b72",
   "metadata": {},
   "outputs": [],
   "source": [
    "#Let's Connect the driver:-\n",
    "driver = webdriver.Chrome(r\"C:\\Users\\SUVARCHALA\\Downloads\\chromedriver_win32.chromedriver.exe\")"
   ]
  },
  {
   "cell_type": "code",
   "execution_count": 26,
   "id": "01f1c5f9",
   "metadata": {},
   "outputs": [],
   "source": [
    "# Opening the digit.in page on automated chrome browser\n",
    "driver.get(\"https://www.digit.in/\")"
   ]
  },
  {
   "cell_type": "code",
   "execution_count": 27,
   "id": "ba60f6b7",
   "metadata": {},
   "outputs": [],
   "source": [
    "search = driver.find_element(By.XPATH,'/html/body/div[1]/div/div[4]/ul/li[4]/a')\n",
    "search.click()\n",
    "time.sleep(3)"
   ]
  },
  {
   "cell_type": "code",
   "execution_count": 28,
   "id": "5d4fd6c2",
   "metadata": {},
   "outputs": [],
   "source": [
    "search = driver.find_element(By.XPATH,'//button[@class=\"tablinks \"]')\n",
    "search.click()\n",
    "time.sleep(3)"
   ]
  },
  {
   "cell_type": "code",
   "execution_count": 29,
   "id": "8889fea1",
   "metadata": {},
   "outputs": [],
   "source": [
    "search = driver.find_element(By.XPATH,'/html/body/div[3]/div/div/div[2]/div[5]/div[3]/div[3]/a/div[2]')\n",
    "search.click()\n",
    "time.sleep(3)"
   ]
  },
  {
   "cell_type": "code",
   "execution_count": 30,
   "id": "518e018b",
   "metadata": {},
   "outputs": [],
   "source": [
    "Best_gaming_laptops=[]\n",
    "best_gaming_laptops = driver.find_elements(By.XPATH,'/html/body/div[5]/div[1]/div[3]/div[2]/div[16]/table')\n",
    "for i in best_gaming_laptops[0:10]:\n",
    "    best_gaming_laptops = i.text\n",
    "    Best_gaming_laptops.append(best_gaming_laptops)"
   ]
  },
  {
   "cell_type": "code",
   "execution_count": 31,
   "id": "81a508a5",
   "metadata": {},
   "outputs": [
    {
     "data": {
      "text/plain": [
       "1"
      ]
     },
     "execution_count": 31,
     "metadata": {},
     "output_type": "execute_result"
    }
   ],
   "source": [
    "len(Best_gaming_laptops)"
   ]
  },
  {
   "cell_type": "code",
   "execution_count": 32,
   "id": "fb764112",
   "metadata": {},
   "outputs": [],
   "source": [
    "listToStr = ' '.join([str(elem) for elem in Best_gaming_laptops])"
   ]
  },
  {
   "cell_type": "code",
   "execution_count": 33,
   "id": "0fe372c6",
   "metadata": {},
   "outputs": [
    {
     "name": "stdout",
     "output_type": "stream",
     "text": [
      "PRODUCT NAME SELLER PRICE\n",
      "MSI Titan GT77-12UHS N/A N/A\n",
      "Alienware x17 R2 Croma ₹ 389,990\n",
      "Acer Predator Triton 500 SE PT516-52s Amazon ₹ 229,990\n",
      "Omen by HP (16-B1371TX) Amazon ₹ 176,490\n",
      "Acer Predator Helios 300 AN515-45 N/A ₹ 172,999\n",
      "MSI Delta 15 (A5EFK-083IN) N/A ₹ 188,990\n",
      "Omen by HP (16-c0141AX) Croma ₹ 124,990\n",
      "Lenovo Legion 5i Pro (82RF00MGIN) Amazon ₹ 169,990\n",
      "Alienware m15 R5 Ryzen Edition icc-c780001win Amazon ₹ 174,000\n",
      "Lenovo Slim 7 Gen 6 (82K8002JIN) Croma ₹ 131,990\n"
     ]
    }
   ],
   "source": [
    "print(listToStr)"
   ]
  },
  {
   "cell_type": "markdown",
   "id": "5810f72f",
   "metadata": {},
   "source": [
    "# Q-4)"
   ]
  },
  {
   "cell_type": "code",
   "execution_count": 34,
   "id": "25d42799",
   "metadata": {},
   "outputs": [],
   "source": [
    "import selenium\n",
    "import pandas as pd\n",
    "from selenium import webdriver \n",
    "import warnings\n",
    "warnings.filterwarnings('ignore')\n",
    "from selenium.common.exceptions import StaleElementReferenceException,NoSuchElementException\n",
    "from selenium.webdriver.common.by import By\n",
    "import time\n",
    "import requests"
   ]
  },
  {
   "cell_type": "code",
   "execution_count": 35,
   "id": "ef82d6c7",
   "metadata": {},
   "outputs": [],
   "source": [
    "#Let's Connect the driver:-\n",
    "driver = webdriver.Chrome(r\"C:\\Users\\SUVARCHALA\\Downloads\\chromedriver_win32.chromedriver.exe\")"
   ]
  },
  {
   "cell_type": "code",
   "execution_count": 36,
   "id": "c6534f43",
   "metadata": {},
   "outputs": [],
   "source": [
    "# Opening the Flipkart page on automated chrome browser\n",
    "driver.get(\"http://www.flipkart.com/\")"
   ]
  },
  {
   "cell_type": "code",
   "execution_count": 37,
   "id": "f7e40bdf",
   "metadata": {},
   "outputs": [],
   "source": [
    "product_tags=driver.find_element(By.XPATH,'//input[@class=\"_3704LK\"]')\n",
    "product_tags.send_keys('xiaomi smartphone')"
   ]
  },
  {
   "cell_type": "code",
   "execution_count": 38,
   "id": "46f1e548",
   "metadata": {},
   "outputs": [],
   "source": [
    "search = driver.find_element(By.XPATH,'//button[@class=\"L0Z3Pu\"]')\n",
    "search.click()\n",
    "time.sleep(3)"
   ]
  },
  {
   "cell_type": "code",
   "execution_count": 39,
   "id": "712b1892",
   "metadata": {},
   "outputs": [],
   "source": [
    "#scrap all product urls\n",
    "product_urls=[]\n",
    "start=0\n",
    "end=1\n",
    "for page in range(start,end):\n",
    "    url=driver.find_elements(By.XPATH,'//a[@class=\"_1fQZEK\"]')\n",
    "    for i in url[0:24]:\n",
    "        product_urls.append(i.get_attribute(\"href\"))\n",
    "    "
   ]
  },
  {
   "cell_type": "code",
   "execution_count": 40,
   "id": "a0427e06",
   "metadata": {},
   "outputs": [
    {
     "data": {
      "text/plain": [
       "24"
      ]
     },
     "execution_count": 40,
     "metadata": {},
     "output_type": "execute_result"
    }
   ],
   "source": [
    "len(product_urls)"
   ]
  },
  {
   "cell_type": "code",
   "execution_count": 41,
   "id": "4850e4be",
   "metadata": {},
   "outputs": [],
   "source": [
    "Brand_Name=[]\n",
    "brand_tags = driver.find_elements(By.XPATH,'//div[@class=\"_4rR01T\"]')\n",
    "for i in brand_tags[0:24]:\n",
    "    brand = i.text\n",
    "    Brand_Name.append(brand)"
   ]
  },
  {
   "cell_type": "code",
   "execution_count": 42,
   "id": "555fa132",
   "metadata": {},
   "outputs": [
    {
     "data": {
      "text/plain": [
       "24"
      ]
     },
     "execution_count": 42,
     "metadata": {},
     "output_type": "execute_result"
    }
   ],
   "source": [
    "len(Brand_Name)"
   ]
  },
  {
   "cell_type": "code",
   "execution_count": 43,
   "id": "75bfda4e",
   "metadata": {},
   "outputs": [],
   "source": [
    "RAM=[]\n",
    "\n",
    "for url in product_urls[:24]:\n",
    "    driver.get(url)\n",
    "    time.sleep(2)\n",
    "    try:\n",
    "        ram = driver.find_element(By.XPATH,'//li[@class=\"_21Ahn-\"]')\n",
    "        RAM.append(ram.text)\n",
    "    except NoSuchElementException:\n",
    "        RAM.append('-')"
   ]
  },
  {
   "cell_type": "code",
   "execution_count": 44,
   "id": "65d034c3",
   "metadata": {},
   "outputs": [
    {
     "data": {
      "text/plain": [
       "24"
      ]
     },
     "execution_count": 44,
     "metadata": {},
     "output_type": "execute_result"
    }
   ],
   "source": [
    "len(RAM)"
   ]
  },
  {
   "cell_type": "code",
   "execution_count": 45,
   "id": "c9f78b0e",
   "metadata": {},
   "outputs": [],
   "source": [
    "PRIMARY_CAMERA=[]\n",
    "\n",
    "for url in product_urls[:24]:\n",
    "    driver.get(url)\n",
    "    time.sleep(2)\n",
    "    try:\n",
    "        primary_camera = driver.find_element(By.XPATH,'/html/body/div[1]/div/div[3]/div[1]/div[2]/div[8]/div[1]/div/div[2]/ul/li[3]')\n",
    "        PRIMARY_CAMERA.append(primary_camera.text)\n",
    "    except NoSuchElementException:\n",
    "        PRIMARY_CAMERA.append('-')"
   ]
  },
  {
   "cell_type": "code",
   "execution_count": 46,
   "id": "c9d2f078",
   "metadata": {},
   "outputs": [
    {
     "data": {
      "text/plain": [
       "24"
      ]
     },
     "execution_count": 46,
     "metadata": {},
     "output_type": "execute_result"
    }
   ],
   "source": [
    "len(PRIMARY_CAMERA)"
   ]
  },
  {
   "cell_type": "code",
   "execution_count": 47,
   "id": "c89bf859",
   "metadata": {},
   "outputs": [],
   "source": [
    "DISPLAY_SIZE=[]\n",
    "\n",
    "for url in product_urls[:24]:\n",
    "    driver.get(url)\n",
    "    time.sleep(2)\n",
    "    try:\n",
    "        display_size = driver.find_element(By.XPATH,'/html/body/div[1]/div/div[3]/div[1]/div[2]/div[8]/div[1]/div/div[2]/ul/li[2]')\n",
    "        DISPLAY_SIZE.append(display_size.text)\n",
    "    except NoSuchElementException:\n",
    "        DISPLAY_SIZE.append('-')"
   ]
  },
  {
   "cell_type": "code",
   "execution_count": 48,
   "id": "92e32676",
   "metadata": {},
   "outputs": [
    {
     "data": {
      "text/plain": [
       "24"
      ]
     },
     "execution_count": 48,
     "metadata": {},
     "output_type": "execute_result"
    }
   ],
   "source": [
    "len(DISPLAY_SIZE)"
   ]
  },
  {
   "cell_type": "code",
   "execution_count": 49,
   "id": "c59238c1",
   "metadata": {},
   "outputs": [],
   "source": [
    "BATTERY_CAPACITY=[]\n",
    "\n",
    "for url in product_urls[:24]:\n",
    "    driver.get(url)\n",
    "    time.sleep(2)\n",
    "    try:\n",
    "        battery = driver.find_element(By.XPATH,'/html/body/div[1]/div/div[3]/div[1]/div[2]/div[8]/div[1]/div/div[2]/ul/li[4]')\n",
    "        BATTERY_CAPACITY.append(battery.text)\n",
    "    except NoSuchElementException:\n",
    "        BATTERY_CAPACITY.append('-')"
   ]
  },
  {
   "cell_type": "code",
   "execution_count": 50,
   "id": "fdae0d77",
   "metadata": {},
   "outputs": [
    {
     "data": {
      "text/plain": [
       "24"
      ]
     },
     "execution_count": 50,
     "metadata": {},
     "output_type": "execute_result"
    }
   ],
   "source": [
    "len(BATTERY_CAPACITY)"
   ]
  },
  {
   "cell_type": "code",
   "execution_count": 51,
   "id": "94c715bb",
   "metadata": {},
   "outputs": [],
   "source": [
    "PRICE=[]\n",
    "\n",
    "for url in product_urls[:24]:\n",
    "    driver.get(url)\n",
    "    time.sleep(2)\n",
    "    try:\n",
    "        price = driver.find_element(By.XPATH,'//div[@class=\"_30jeq3 _16Jk6d\"]')\n",
    "        PRICE.append(price.text)\n",
    "    except NoSuchElementException:\n",
    "        PRICE.append('-')"
   ]
  },
  {
   "cell_type": "code",
   "execution_count": 52,
   "id": "ad6d738c",
   "metadata": {},
   "outputs": [
    {
     "data": {
      "text/plain": [
       "24"
      ]
     },
     "execution_count": 52,
     "metadata": {},
     "output_type": "execute_result"
    }
   ],
   "source": [
    "len(PRICE)"
   ]
  },
  {
   "cell_type": "code",
   "execution_count": 53,
   "id": "787defd0",
   "metadata": {},
   "outputs": [
    {
     "data": {
      "text/html": [
       "<div>\n",
       "<style scoped>\n",
       "    .dataframe tbody tr th:only-of-type {\n",
       "        vertical-align: middle;\n",
       "    }\n",
       "\n",
       "    .dataframe tbody tr th {\n",
       "        vertical-align: top;\n",
       "    }\n",
       "\n",
       "    .dataframe thead th {\n",
       "        text-align: right;\n",
       "    }\n",
       "</style>\n",
       "<table border=\"1\" class=\"dataframe\">\n",
       "  <thead>\n",
       "    <tr style=\"text-align: right;\">\n",
       "      <th></th>\n",
       "      <th>Brand |Colour |Storage(ROM)</th>\n",
       "      <th>RAM</th>\n",
       "      <th>Primary Camera |Secondary Camera</th>\n",
       "      <th>Display</th>\n",
       "      <th>Battery Capacity</th>\n",
       "      <th>Price</th>\n",
       "      <th>Product URL</th>\n",
       "    </tr>\n",
       "  </thead>\n",
       "  <tbody>\n",
       "    <tr>\n",
       "      <th>0</th>\n",
       "      <td>REDMI 9i Sport (Metallic Blue, 64 GB)</td>\n",
       "      <td>4 GB RAM | 64 GB ROM | Expandable Upto 512 GB</td>\n",
       "      <td>13MP Rear Camera | 5MP Front Camera</td>\n",
       "      <td>16.59 cm (6.53 inch) HD+ Display</td>\n",
       "      <td>5000 mAh Li-Polymer Battery</td>\n",
       "      <td>₹7,099</td>\n",
       "      <td>https://www.flipkart.com/redmi-9i-sport-metall...</td>\n",
       "    </tr>\n",
       "    <tr>\n",
       "      <th>1</th>\n",
       "      <td>REDMI 9i Sport (Coral Green, 64 GB)</td>\n",
       "      <td>4 GB RAM | 64 GB ROM | Expandable Upto 512 GB</td>\n",
       "      <td>13MP Rear Camera | 5MP Front Camera</td>\n",
       "      <td>16.59 cm (6.53 inch) HD+ Display</td>\n",
       "      <td>5000 mAh Li-Polymer Battery</td>\n",
       "      <td>₹7,099</td>\n",
       "      <td>https://www.flipkart.com/redmi-9i-sport-coral-...</td>\n",
       "    </tr>\n",
       "    <tr>\n",
       "      <th>2</th>\n",
       "      <td>REDMI 10 (Caribbean Green, 64 GB)</td>\n",
       "      <td>4 GB RAM | 64 GB ROM | Expandable Upto 1 TB</td>\n",
       "      <td>50MP + 2MP | 5MP Front Camera</td>\n",
       "      <td>17.02 cm (6.7 inch) HD+ Display</td>\n",
       "      <td>6000 mAh Lithium Polymer Battery</td>\n",
       "      <td>₹9,499</td>\n",
       "      <td>https://www.flipkart.com/redmi-10-caribbean-gr...</td>\n",
       "    </tr>\n",
       "    <tr>\n",
       "      <th>3</th>\n",
       "      <td>REDMI 9i Sport (Carbon Black, 64 GB)</td>\n",
       "      <td>4 GB RAM | 64 GB ROM | Expandable Upto 512 GB</td>\n",
       "      <td>13MP Rear Camera | 5MP Front Camera</td>\n",
       "      <td>16.59 cm (6.53 inch) HD+ Display</td>\n",
       "      <td>5000 mAh Li-Polymer Battery</td>\n",
       "      <td>₹7,099</td>\n",
       "      <td>https://www.flipkart.com/redmi-9i-sport-carbon...</td>\n",
       "    </tr>\n",
       "    <tr>\n",
       "      <th>4</th>\n",
       "      <td>REDMI 10 (Midnight Black, 64 GB)</td>\n",
       "      <td>4 GB RAM | 64 GB ROM | Expandable Upto 1 TB</td>\n",
       "      <td>50MP + 2MP | 5MP Front Camera</td>\n",
       "      <td>17.02 cm (6.7 inch) HD+ Display</td>\n",
       "      <td>6000 mAh Lithium Polymer Battery</td>\n",
       "      <td>₹9,499</td>\n",
       "      <td>https://www.flipkart.com/redmi-10-midnight-bla...</td>\n",
       "    </tr>\n",
       "    <tr>\n",
       "      <th>5</th>\n",
       "      <td>REDMI 10 (Pacific Blue, 64 GB)</td>\n",
       "      <td>4 GB RAM | 64 GB ROM | Expandable Upto 1 TB</td>\n",
       "      <td>50MP + 2MP | 5MP Front Camera</td>\n",
       "      <td>17.02 cm (6.7 inch) HD+ Display</td>\n",
       "      <td>6000 mAh Lithium Polymer Battery</td>\n",
       "      <td>₹9,499</td>\n",
       "      <td>https://www.flipkart.com/redmi-10-pacific-blue...</td>\n",
       "    </tr>\n",
       "    <tr>\n",
       "      <th>6</th>\n",
       "      <td>REDMI Note 10T 5G (Mint Green, 128 GB)</td>\n",
       "      <td>6 GB RAM | 128 GB ROM</td>\n",
       "      <td>48MP Primary Camera + 2MP Macro Lens + 2MP Dep...</td>\n",
       "      <td>16.66 cm (6.56 inch) Full HD+ Display</td>\n",
       "      <td>5000 mAh Lithium Polymer Battery</td>\n",
       "      <td>₹14,999</td>\n",
       "      <td>https://www.flipkart.com/redmi-note-10t-5g-min...</td>\n",
       "    </tr>\n",
       "    <tr>\n",
       "      <th>7</th>\n",
       "      <td>REDMI Note 11 SE (Bifrost Blue, 64 GB)</td>\n",
       "      <td>6 GB RAM | 64 GB ROM | Expandable Upto 512 GB</td>\n",
       "      <td>64MP + 8MP + 2MP + 2MP | 13MP Front Camera</td>\n",
       "      <td>16.33 cm (6.43 inch) Full HD+ Display</td>\n",
       "      <td>5000 mAh Lithium Polymer Battery</td>\n",
       "      <td>₹11,499</td>\n",
       "      <td>https://www.flipkart.com/redmi-note-11-se-bifr...</td>\n",
       "    </tr>\n",
       "    <tr>\n",
       "      <th>8</th>\n",
       "      <td>REDMI Note 10T 5G (Mint Green, 64 GB)</td>\n",
       "      <td>4 GB RAM | 64 GB ROM</td>\n",
       "      <td>48MP Primary Camera + 2MP Macro Lens + 2MP Dep...</td>\n",
       "      <td>16.66 cm (6.56 inch) Full HD+ Display</td>\n",
       "      <td>5000 mAh Lithium Polymer Battery</td>\n",
       "      <td>₹12,999</td>\n",
       "      <td>https://www.flipkart.com/redmi-note-10t-5g-min...</td>\n",
       "    </tr>\n",
       "    <tr>\n",
       "      <th>9</th>\n",
       "      <td>REDMI 10A SPORT (CHARCOAL BLACK, 128 GB)</td>\n",
       "      <td>6 GB RAM | 128 GB ROM</td>\n",
       "      <td>-</td>\n",
       "      <td>-</td>\n",
       "      <td>-</td>\n",
       "      <td>₹10,120</td>\n",
       "      <td>https://www.flipkart.com/redmi-10a-sport-charc...</td>\n",
       "    </tr>\n",
       "    <tr>\n",
       "      <th>10</th>\n",
       "      <td>REDMI 10A SPORT (SEA BLUE, 128 GB)</td>\n",
       "      <td>6 GB RAM | 128 GB ROM</td>\n",
       "      <td>-</td>\n",
       "      <td>-</td>\n",
       "      <td>-</td>\n",
       "      <td>₹9,995</td>\n",
       "      <td>https://www.flipkart.com/redmi-10a-sport-sea-b...</td>\n",
       "    </tr>\n",
       "    <tr>\n",
       "      <th>11</th>\n",
       "      <td>REDMI 9 Activ (Carbon Black, 64 GB)</td>\n",
       "      <td>4 GB RAM | 64 GB ROM</td>\n",
       "      <td>-</td>\n",
       "      <td>-</td>\n",
       "      <td>-</td>\n",
       "      <td>₹8,299</td>\n",
       "      <td>https://www.flipkart.com/redmi-9-activ-carbon-...</td>\n",
       "    </tr>\n",
       "    <tr>\n",
       "      <th>12</th>\n",
       "      <td>REDMI 9 Activ (Metallic Purple, 64 GB)</td>\n",
       "      <td>4 GB RAM | 64 GB ROM | Expandable Upto 512 GB</td>\n",
       "      <td>-</td>\n",
       "      <td>-</td>\n",
       "      <td>-</td>\n",
       "      <td>₹8,129</td>\n",
       "      <td>https://www.flipkart.com/redmi-9-activ-metalli...</td>\n",
       "    </tr>\n",
       "    <tr>\n",
       "      <th>13</th>\n",
       "      <td>REDMI Note 11 SE (Thunder Purple, 64 GB)</td>\n",
       "      <td>6 GB RAM | 64 GB ROM | Expandable Upto 512 GB</td>\n",
       "      <td>64MP + 8MP + 2MP + 2MP | 13MP Front Camera</td>\n",
       "      <td>16.33 cm (6.43 inch) Full HD+ Display</td>\n",
       "      <td>5000 mAh Lithium Polymer Battery</td>\n",
       "      <td>₹11,499</td>\n",
       "      <td>https://www.flipkart.com/redmi-note-11-se-thun...</td>\n",
       "    </tr>\n",
       "    <tr>\n",
       "      <th>14</th>\n",
       "      <td>REDMI A1 (Light Green, 32 GB)</td>\n",
       "      <td>2 GB RAM | 32 GB ROM</td>\n",
       "      <td>-</td>\n",
       "      <td>-</td>\n",
       "      <td>-</td>\n",
       "      <td>₹6,237</td>\n",
       "      <td>https://www.flipkart.com/redmi-a1-light-green-...</td>\n",
       "    </tr>\n",
       "    <tr>\n",
       "      <th>15</th>\n",
       "      <td>REDMI Note 11 SE (Space Black, 64 GB)</td>\n",
       "      <td>6 GB RAM | 64 GB ROM | Expandable Upto 512 GB</td>\n",
       "      <td>64MP + 8MP + 2MP + 2MP | 13MP Front Camera</td>\n",
       "      <td>16.33 cm (6.43 inch) Full HD+ Display</td>\n",
       "      <td>5000 mAh Lithium Polymer Battery</td>\n",
       "      <td>₹11,499</td>\n",
       "      <td>https://www.flipkart.com/redmi-note-11-se-spac...</td>\n",
       "    </tr>\n",
       "    <tr>\n",
       "      <th>16</th>\n",
       "      <td>REDMI A1 (Black, 32 GB)</td>\n",
       "      <td>2 GB RAM | 32 GB ROM</td>\n",
       "      <td>-</td>\n",
       "      <td>-</td>\n",
       "      <td>-</td>\n",
       "      <td>₹6,096</td>\n",
       "      <td>https://www.flipkart.com/redmi-a1-black-32-gb/...</td>\n",
       "    </tr>\n",
       "    <tr>\n",
       "      <th>17</th>\n",
       "      <td>REDMI Note 11 SE (Cosmic White, 64 GB)</td>\n",
       "      <td>6 GB RAM | 64 GB ROM | Expandable Upto 512 GB</td>\n",
       "      <td>64MP + 8MP + 2MP + 2MP | 13MP Front Camera</td>\n",
       "      <td>16.33 cm (6.43 inch) Full HD+ Display</td>\n",
       "      <td>5000 mAh Lithium Polymer Battery</td>\n",
       "      <td>₹11,499</td>\n",
       "      <td>https://www.flipkart.com/redmi-note-11-se-cosm...</td>\n",
       "    </tr>\n",
       "    <tr>\n",
       "      <th>18</th>\n",
       "      <td>REDMI 10 (Caribbean Green, 128 GB)</td>\n",
       "      <td>6 GB RAM | 128 GB ROM | Expandable Upto 1 TB</td>\n",
       "      <td>50MP + 2MP | 5MP Front Camera</td>\n",
       "      <td>17.02 cm (6.7 inch) HD+ Display</td>\n",
       "      <td>6000 mAh Lithium Polymer Battery</td>\n",
       "      <td>₹11,999</td>\n",
       "      <td>https://www.flipkart.com/redmi-10-caribbean-gr...</td>\n",
       "    </tr>\n",
       "    <tr>\n",
       "      <th>19</th>\n",
       "      <td>REDMI 10A (Sea Blue, 64 GB)</td>\n",
       "      <td>4 GB RAM | 64 GB ROM</td>\n",
       "      <td>-</td>\n",
       "      <td>-</td>\n",
       "      <td>-</td>\n",
       "      <td>₹8,402</td>\n",
       "      <td>https://www.flipkart.com/redmi-10a-sea-blue-64...</td>\n",
       "    </tr>\n",
       "    <tr>\n",
       "      <th>20</th>\n",
       "      <td>REDMI 10A SPORT (SLATE GREY, 128 GB)</td>\n",
       "      <td>6 GB RAM | 128 GB ROM</td>\n",
       "      <td>-</td>\n",
       "      <td>-</td>\n",
       "      <td>-</td>\n",
       "      <td>₹10,415</td>\n",
       "      <td>https://www.flipkart.com/redmi-10a-sport-slate...</td>\n",
       "    </tr>\n",
       "    <tr>\n",
       "      <th>21</th>\n",
       "      <td>REDMI 10 Prime (Phantom Black, 128 GB)</td>\n",
       "      <td>6 GB RAM | 128 GB ROM | Expandable Upto 512 GB</td>\n",
       "      <td>50MP + 8MP + 2MP + 2MP | 8MP Front Camera</td>\n",
       "      <td>16.51 cm (6.5 inch) Full HD Display</td>\n",
       "      <td>6000 mAh Battery</td>\n",
       "      <td>₹12,999</td>\n",
       "      <td>https://www.flipkart.com/redmi-10-prime-phanto...</td>\n",
       "    </tr>\n",
       "    <tr>\n",
       "      <th>22</th>\n",
       "      <td>REDMI 9 Activ (Carbon Black, 64 GB)</td>\n",
       "      <td>4 GB RAM | 64 GB ROM | Expandable Upto 512 GB</td>\n",
       "      <td>-</td>\n",
       "      <td>-</td>\n",
       "      <td>-</td>\n",
       "      <td>₹8,049</td>\n",
       "      <td>https://www.flipkart.com/redmi-9-activ-carbon-...</td>\n",
       "    </tr>\n",
       "    <tr>\n",
       "      <th>23</th>\n",
       "      <td>REDMI A1 (Light Blue, 32 GB)</td>\n",
       "      <td>2 GB RAM | 32 GB ROM</td>\n",
       "      <td>-</td>\n",
       "      <td>-</td>\n",
       "      <td>-</td>\n",
       "      <td>₹6,158</td>\n",
       "      <td>https://www.flipkart.com/redmi-a1-light-blue-3...</td>\n",
       "    </tr>\n",
       "  </tbody>\n",
       "</table>\n",
       "</div>"
      ],
      "text/plain": [
       "                 Brand |Colour |Storage(ROM)  \\\n",
       "0      REDMI 9i Sport (Metallic Blue, 64 GB)   \n",
       "1        REDMI 9i Sport (Coral Green, 64 GB)   \n",
       "2          REDMI 10 (Caribbean Green, 64 GB)   \n",
       "3       REDMI 9i Sport (Carbon Black, 64 GB)   \n",
       "4           REDMI 10 (Midnight Black, 64 GB)   \n",
       "5             REDMI 10 (Pacific Blue, 64 GB)   \n",
       "6     REDMI Note 10T 5G (Mint Green, 128 GB)   \n",
       "7     REDMI Note 11 SE (Bifrost Blue, 64 GB)   \n",
       "8      REDMI Note 10T 5G (Mint Green, 64 GB)   \n",
       "9   REDMI 10A SPORT (CHARCOAL BLACK, 128 GB)   \n",
       "10        REDMI 10A SPORT (SEA BLUE, 128 GB)   \n",
       "11       REDMI 9 Activ (Carbon Black, 64 GB)   \n",
       "12    REDMI 9 Activ (Metallic Purple, 64 GB)   \n",
       "13  REDMI Note 11 SE (Thunder Purple, 64 GB)   \n",
       "14             REDMI A1 (Light Green, 32 GB)   \n",
       "15     REDMI Note 11 SE (Space Black, 64 GB)   \n",
       "16                   REDMI A1 (Black, 32 GB)   \n",
       "17    REDMI Note 11 SE (Cosmic White, 64 GB)   \n",
       "18        REDMI 10 (Caribbean Green, 128 GB)   \n",
       "19               REDMI 10A (Sea Blue, 64 GB)   \n",
       "20      REDMI 10A SPORT (SLATE GREY, 128 GB)   \n",
       "21    REDMI 10 Prime (Phantom Black, 128 GB)   \n",
       "22       REDMI 9 Activ (Carbon Black, 64 GB)   \n",
       "23              REDMI A1 (Light Blue, 32 GB)   \n",
       "\n",
       "                                               RAM  \\\n",
       "0    4 GB RAM | 64 GB ROM | Expandable Upto 512 GB   \n",
       "1    4 GB RAM | 64 GB ROM | Expandable Upto 512 GB   \n",
       "2      4 GB RAM | 64 GB ROM | Expandable Upto 1 TB   \n",
       "3    4 GB RAM | 64 GB ROM | Expandable Upto 512 GB   \n",
       "4      4 GB RAM | 64 GB ROM | Expandable Upto 1 TB   \n",
       "5      4 GB RAM | 64 GB ROM | Expandable Upto 1 TB   \n",
       "6                            6 GB RAM | 128 GB ROM   \n",
       "7    6 GB RAM | 64 GB ROM | Expandable Upto 512 GB   \n",
       "8                             4 GB RAM | 64 GB ROM   \n",
       "9                            6 GB RAM | 128 GB ROM   \n",
       "10                           6 GB RAM | 128 GB ROM   \n",
       "11                            4 GB RAM | 64 GB ROM   \n",
       "12   4 GB RAM | 64 GB ROM | Expandable Upto 512 GB   \n",
       "13   6 GB RAM | 64 GB ROM | Expandable Upto 512 GB   \n",
       "14                            2 GB RAM | 32 GB ROM   \n",
       "15   6 GB RAM | 64 GB ROM | Expandable Upto 512 GB   \n",
       "16                            2 GB RAM | 32 GB ROM   \n",
       "17   6 GB RAM | 64 GB ROM | Expandable Upto 512 GB   \n",
       "18    6 GB RAM | 128 GB ROM | Expandable Upto 1 TB   \n",
       "19                            4 GB RAM | 64 GB ROM   \n",
       "20                           6 GB RAM | 128 GB ROM   \n",
       "21  6 GB RAM | 128 GB ROM | Expandable Upto 512 GB   \n",
       "22   4 GB RAM | 64 GB ROM | Expandable Upto 512 GB   \n",
       "23                            2 GB RAM | 32 GB ROM   \n",
       "\n",
       "                     Primary Camera |Secondary Camera  \\\n",
       "0                 13MP Rear Camera | 5MP Front Camera   \n",
       "1                 13MP Rear Camera | 5MP Front Camera   \n",
       "2                       50MP + 2MP | 5MP Front Camera   \n",
       "3                 13MP Rear Camera | 5MP Front Camera   \n",
       "4                       50MP + 2MP | 5MP Front Camera   \n",
       "5                       50MP + 2MP | 5MP Front Camera   \n",
       "6   48MP Primary Camera + 2MP Macro Lens + 2MP Dep...   \n",
       "7          64MP + 8MP + 2MP + 2MP | 13MP Front Camera   \n",
       "8   48MP Primary Camera + 2MP Macro Lens + 2MP Dep...   \n",
       "9                                                   -   \n",
       "10                                                  -   \n",
       "11                                                  -   \n",
       "12                                                  -   \n",
       "13         64MP + 8MP + 2MP + 2MP | 13MP Front Camera   \n",
       "14                                                  -   \n",
       "15         64MP + 8MP + 2MP + 2MP | 13MP Front Camera   \n",
       "16                                                  -   \n",
       "17         64MP + 8MP + 2MP + 2MP | 13MP Front Camera   \n",
       "18                      50MP + 2MP | 5MP Front Camera   \n",
       "19                                                  -   \n",
       "20                                                  -   \n",
       "21          50MP + 8MP + 2MP + 2MP | 8MP Front Camera   \n",
       "22                                                  -   \n",
       "23                                                  -   \n",
       "\n",
       "                                  Display                  Battery Capacity  \\\n",
       "0        16.59 cm (6.53 inch) HD+ Display       5000 mAh Li-Polymer Battery   \n",
       "1        16.59 cm (6.53 inch) HD+ Display       5000 mAh Li-Polymer Battery   \n",
       "2         17.02 cm (6.7 inch) HD+ Display  6000 mAh Lithium Polymer Battery   \n",
       "3        16.59 cm (6.53 inch) HD+ Display       5000 mAh Li-Polymer Battery   \n",
       "4         17.02 cm (6.7 inch) HD+ Display  6000 mAh Lithium Polymer Battery   \n",
       "5         17.02 cm (6.7 inch) HD+ Display  6000 mAh Lithium Polymer Battery   \n",
       "6   16.66 cm (6.56 inch) Full HD+ Display  5000 mAh Lithium Polymer Battery   \n",
       "7   16.33 cm (6.43 inch) Full HD+ Display  5000 mAh Lithium Polymer Battery   \n",
       "8   16.66 cm (6.56 inch) Full HD+ Display  5000 mAh Lithium Polymer Battery   \n",
       "9                                       -                                 -   \n",
       "10                                      -                                 -   \n",
       "11                                      -                                 -   \n",
       "12                                      -                                 -   \n",
       "13  16.33 cm (6.43 inch) Full HD+ Display  5000 mAh Lithium Polymer Battery   \n",
       "14                                      -                                 -   \n",
       "15  16.33 cm (6.43 inch) Full HD+ Display  5000 mAh Lithium Polymer Battery   \n",
       "16                                      -                                 -   \n",
       "17  16.33 cm (6.43 inch) Full HD+ Display  5000 mAh Lithium Polymer Battery   \n",
       "18        17.02 cm (6.7 inch) HD+ Display  6000 mAh Lithium Polymer Battery   \n",
       "19                                      -                                 -   \n",
       "20                                      -                                 -   \n",
       "21    16.51 cm (6.5 inch) Full HD Display                  6000 mAh Battery   \n",
       "22                                      -                                 -   \n",
       "23                                      -                                 -   \n",
       "\n",
       "      Price                                        Product URL  \n",
       "0    ₹7,099  https://www.flipkart.com/redmi-9i-sport-metall...  \n",
       "1    ₹7,099  https://www.flipkart.com/redmi-9i-sport-coral-...  \n",
       "2    ₹9,499  https://www.flipkart.com/redmi-10-caribbean-gr...  \n",
       "3    ₹7,099  https://www.flipkart.com/redmi-9i-sport-carbon...  \n",
       "4    ₹9,499  https://www.flipkart.com/redmi-10-midnight-bla...  \n",
       "5    ₹9,499  https://www.flipkart.com/redmi-10-pacific-blue...  \n",
       "6   ₹14,999  https://www.flipkart.com/redmi-note-10t-5g-min...  \n",
       "7   ₹11,499  https://www.flipkart.com/redmi-note-11-se-bifr...  \n",
       "8   ₹12,999  https://www.flipkart.com/redmi-note-10t-5g-min...  \n",
       "9   ₹10,120  https://www.flipkart.com/redmi-10a-sport-charc...  \n",
       "10   ₹9,995  https://www.flipkart.com/redmi-10a-sport-sea-b...  \n",
       "11   ₹8,299  https://www.flipkart.com/redmi-9-activ-carbon-...  \n",
       "12   ₹8,129  https://www.flipkart.com/redmi-9-activ-metalli...  \n",
       "13  ₹11,499  https://www.flipkart.com/redmi-note-11-se-thun...  \n",
       "14   ₹6,237  https://www.flipkart.com/redmi-a1-light-green-...  \n",
       "15  ₹11,499  https://www.flipkart.com/redmi-note-11-se-spac...  \n",
       "16   ₹6,096  https://www.flipkart.com/redmi-a1-black-32-gb/...  \n",
       "17  ₹11,499  https://www.flipkart.com/redmi-note-11-se-cosm...  \n",
       "18  ₹11,999  https://www.flipkart.com/redmi-10-caribbean-gr...  \n",
       "19   ₹8,402  https://www.flipkart.com/redmi-10a-sea-blue-64...  \n",
       "20  ₹10,415  https://www.flipkart.com/redmi-10a-sport-slate...  \n",
       "21  ₹12,999  https://www.flipkart.com/redmi-10-prime-phanto...  \n",
       "22   ₹8,049  https://www.flipkart.com/redmi-9-activ-carbon-...  \n",
       "23   ₹6,158  https://www.flipkart.com/redmi-a1-light-blue-3...  "
      ]
     },
     "execution_count": 53,
     "metadata": {},
     "output_type": "execute_result"
    }
   ],
   "source": [
    "df = pd.DataFrame({'Brand |Colour |Storage(ROM)':Brand_Name,'RAM':RAM,'Primary Camera |Secondary Camera':PRIMARY_CAMERA,'Display':DISPLAY_SIZE,'Battery Capacity':BATTERY_CAPACITY,'Price':PRICE,'Product URL':product_urls})\n",
    "df"
   ]
  },
  {
   "cell_type": "markdown",
   "id": "0c212549",
   "metadata": {},
   "source": [
    "# Q-10)"
   ]
  },
  {
   "cell_type": "code",
   "execution_count": 71,
   "id": "5fe431a1",
   "metadata": {},
   "outputs": [],
   "source": [
    "import selenium\n",
    "import pandas as pd\n",
    "from selenium import webdriver \n",
    "import warnings\n",
    "warnings.filterwarnings('ignore')\n",
    "from selenium.common.exceptions import StaleElementReferenceException,NoSuchElementException\n",
    "from selenium.webdriver.common.by import By\n",
    "import time"
   ]
  },
  {
   "cell_type": "code",
   "execution_count": 72,
   "id": "3c435df4",
   "metadata": {},
   "outputs": [],
   "source": [
    "#Let's Connect the driver:-\n",
    "driver = webdriver.Chrome(r\"C:\\Users\\SUVARCHALA\\Downloads\\chromedriver_win32.chromedriver.exe\")"
   ]
  },
  {
   "cell_type": "code",
   "execution_count": 73,
   "id": "9b03074c",
   "metadata": {},
   "outputs": [],
   "source": [
    "# Opening the Hostel world page on automated chrome browser\n",
    "driver.get(\"https://www.hostelworld.com/\")"
   ]
  },
  {
   "cell_type": "code",
   "execution_count": 79,
   "id": "e4517912",
   "metadata": {},
   "outputs": [
    {
     "ename": "InvalidArgumentException",
     "evalue": "Message: invalid argument: invalid locator\n  (Session info: chrome=108.0.5359.125)\nStacktrace:\nBacktrace:\n\t(No symbol) [0x0034F243]\n\t(No symbol) [0x002D7FD1]\n\t(No symbol) [0x001CD04D]\n\t(No symbol) [0x001FC1BE]\n\t(No symbol) [0x001FC22B]\n\t(No symbol) [0x0022E612]\n\t(No symbol) [0x002185D4]\n\t(No symbol) [0x0022C9EB]\n\t(No symbol) [0x00218386]\n\t(No symbol) [0x001F163C]\n\t(No symbol) [0x001F269D]\n\tGetHandleVerifier [0x005E9A22+2655074]\n\tGetHandleVerifier [0x005DCA24+2601828]\n\tGetHandleVerifier [0x003F8C0A+619850]\n\tGetHandleVerifier [0x003F7830+614768]\n\t(No symbol) [0x002E05FC]\n\t(No symbol) [0x002E5968]\n\t(No symbol) [0x002E5A55]\n\t(No symbol) [0x002F051B]\n\tBaseThreadInitThunk [0x762F7D69+25]\n\tRtlInitializeExceptionChain [0x7775BB9B+107]\n\tRtlClearBits [0x7775BB1F+191]\n",
     "output_type": "error",
     "traceback": [
      "\u001b[1;31m---------------------------------------------------------------------------\u001b[0m",
      "\u001b[1;31mInvalidArgumentException\u001b[0m                  Traceback (most recent call last)",
      "Input \u001b[1;32mIn [79]\u001b[0m, in \u001b[0;36m<cell line: 2>\u001b[1;34m()\u001b[0m\n\u001b[0;32m      1\u001b[0m \u001b[38;5;66;03m#entering location as required in the question-\u001b[39;00m\n\u001b[1;32m----> 2\u001b[0m Location\u001b[38;5;241m=\u001b[39m\u001b[43mdriver\u001b[49m\u001b[38;5;241;43m.\u001b[39;49m\u001b[43mfind_element\u001b[49m\u001b[43m(\u001b[49m\u001b[38;5;124;43m'\u001b[39;49m\u001b[38;5;124;43m//input[@id=\u001b[39;49m\u001b[38;5;124;43m\"\u001b[39;49m\u001b[38;5;124;43mlocation-text-input-field\u001b[39;49m\u001b[38;5;124;43m\"\u001b[39;49m\u001b[38;5;124;43m]\u001b[39;49m\u001b[38;5;124;43m'\u001b[39;49m\u001b[43m)\u001b[49m\n\u001b[0;32m      3\u001b[0m Location\u001b[38;5;241m.\u001b[39msend_keys(\u001b[38;5;124m'\u001b[39m\u001b[38;5;124mLondon\u001b[39m\u001b[38;5;124m'\u001b[39m)\n",
      "File \u001b[1;32mC:\\anaconda\\lib\\site-packages\\selenium\\webdriver\\remote\\webdriver.py:861\u001b[0m, in \u001b[0;36mWebDriver.find_element\u001b[1;34m(self, by, value)\u001b[0m\n\u001b[0;32m    858\u001b[0m     by \u001b[38;5;241m=\u001b[39m By\u001b[38;5;241m.\u001b[39mCSS_SELECTOR\n\u001b[0;32m    859\u001b[0m     value \u001b[38;5;241m=\u001b[39m \u001b[38;5;124m'\u001b[39m\u001b[38;5;124m[name=\u001b[39m\u001b[38;5;124m\"\u001b[39m\u001b[38;5;132;01m%s\u001b[39;00m\u001b[38;5;124m\"\u001b[39m\u001b[38;5;124m]\u001b[39m\u001b[38;5;124m'\u001b[39m \u001b[38;5;241m%\u001b[39m value\n\u001b[1;32m--> 861\u001b[0m \u001b[38;5;28;01mreturn\u001b[39;00m \u001b[38;5;28;43mself\u001b[39;49m\u001b[38;5;241;43m.\u001b[39;49m\u001b[43mexecute\u001b[49m\u001b[43m(\u001b[49m\u001b[43mCommand\u001b[49m\u001b[38;5;241;43m.\u001b[39;49m\u001b[43mFIND_ELEMENT\u001b[49m\u001b[43m,\u001b[49m\u001b[43m \u001b[49m\u001b[43m{\u001b[49m\u001b[38;5;124;43m\"\u001b[39;49m\u001b[38;5;124;43musing\u001b[39;49m\u001b[38;5;124;43m\"\u001b[39;49m\u001b[43m:\u001b[49m\u001b[43m \u001b[49m\u001b[43mby\u001b[49m\u001b[43m,\u001b[49m\u001b[43m \u001b[49m\u001b[38;5;124;43m\"\u001b[39;49m\u001b[38;5;124;43mvalue\u001b[39;49m\u001b[38;5;124;43m\"\u001b[39;49m\u001b[43m:\u001b[49m\u001b[43m \u001b[49m\u001b[43mvalue\u001b[49m\u001b[43m}\u001b[49m\u001b[43m)\u001b[49m[\u001b[38;5;124m\"\u001b[39m\u001b[38;5;124mvalue\u001b[39m\u001b[38;5;124m\"\u001b[39m]\n",
      "File \u001b[1;32mC:\\anaconda\\lib\\site-packages\\selenium\\webdriver\\remote\\webdriver.py:444\u001b[0m, in \u001b[0;36mWebDriver.execute\u001b[1;34m(self, driver_command, params)\u001b[0m\n\u001b[0;32m    442\u001b[0m response \u001b[38;5;241m=\u001b[39m \u001b[38;5;28mself\u001b[39m\u001b[38;5;241m.\u001b[39mcommand_executor\u001b[38;5;241m.\u001b[39mexecute(driver_command, params)\n\u001b[0;32m    443\u001b[0m \u001b[38;5;28;01mif\u001b[39;00m response:\n\u001b[1;32m--> 444\u001b[0m     \u001b[38;5;28;43mself\u001b[39;49m\u001b[38;5;241;43m.\u001b[39;49m\u001b[43merror_handler\u001b[49m\u001b[38;5;241;43m.\u001b[39;49m\u001b[43mcheck_response\u001b[49m\u001b[43m(\u001b[49m\u001b[43mresponse\u001b[49m\u001b[43m)\u001b[49m\n\u001b[0;32m    445\u001b[0m     response[\u001b[38;5;124m\"\u001b[39m\u001b[38;5;124mvalue\u001b[39m\u001b[38;5;124m\"\u001b[39m] \u001b[38;5;241m=\u001b[39m \u001b[38;5;28mself\u001b[39m\u001b[38;5;241m.\u001b[39m_unwrap_value(response\u001b[38;5;241m.\u001b[39mget(\u001b[38;5;124m\"\u001b[39m\u001b[38;5;124mvalue\u001b[39m\u001b[38;5;124m\"\u001b[39m, \u001b[38;5;28;01mNone\u001b[39;00m))\n\u001b[0;32m    446\u001b[0m     \u001b[38;5;28;01mreturn\u001b[39;00m response\n",
      "File \u001b[1;32mC:\\anaconda\\lib\\site-packages\\selenium\\webdriver\\remote\\errorhandler.py:249\u001b[0m, in \u001b[0;36mErrorHandler.check_response\u001b[1;34m(self, response)\u001b[0m\n\u001b[0;32m    247\u001b[0m         alert_text \u001b[38;5;241m=\u001b[39m value[\u001b[38;5;124m\"\u001b[39m\u001b[38;5;124malert\u001b[39m\u001b[38;5;124m\"\u001b[39m]\u001b[38;5;241m.\u001b[39mget(\u001b[38;5;124m\"\u001b[39m\u001b[38;5;124mtext\u001b[39m\u001b[38;5;124m\"\u001b[39m)\n\u001b[0;32m    248\u001b[0m     \u001b[38;5;28;01mraise\u001b[39;00m exception_class(message, screen, stacktrace, alert_text)  \u001b[38;5;66;03m# type: ignore[call-arg]  # mypy is not smart enough here\u001b[39;00m\n\u001b[1;32m--> 249\u001b[0m \u001b[38;5;28;01mraise\u001b[39;00m exception_class(message, screen, stacktrace)\n",
      "\u001b[1;31mInvalidArgumentException\u001b[0m: Message: invalid argument: invalid locator\n  (Session info: chrome=108.0.5359.125)\nStacktrace:\nBacktrace:\n\t(No symbol) [0x0034F243]\n\t(No symbol) [0x002D7FD1]\n\t(No symbol) [0x001CD04D]\n\t(No symbol) [0x001FC1BE]\n\t(No symbol) [0x001FC22B]\n\t(No symbol) [0x0022E612]\n\t(No symbol) [0x002185D4]\n\t(No symbol) [0x0022C9EB]\n\t(No symbol) [0x00218386]\n\t(No symbol) [0x001F163C]\n\t(No symbol) [0x001F269D]\n\tGetHandleVerifier [0x005E9A22+2655074]\n\tGetHandleVerifier [0x005DCA24+2601828]\n\tGetHandleVerifier [0x003F8C0A+619850]\n\tGetHandleVerifier [0x003F7830+614768]\n\t(No symbol) [0x002E05FC]\n\t(No symbol) [0x002E5968]\n\t(No symbol) [0x002E5A55]\n\t(No symbol) [0x002F051B]\n\tBaseThreadInitThunk [0x762F7D69+25]\n\tRtlInitializeExceptionChain [0x7775BB9B+107]\n\tRtlClearBits [0x7775BB1F+191]\n"
     ]
    }
   ],
   "source": [
    "#entering location as required in the question-\n",
    "Location=driver.find_element('//input[@id=\"location-text-input-field\"]')\n",
    "Location.send_keys('London')"
   ]
  },
  {
   "cell_type": "code",
   "execution_count": 5,
   "id": "ef2b1eee",
   "metadata": {},
   "outputs": [
    {
     "ename": "NoSuchElementException",
     "evalue": "Message: no such element: Unable to locate element: {\"method\":\"css selector\",\"selector\":\".search-icon icon\"}\n  (Session info: chrome=108.0.5359.125)\nStacktrace:\nBacktrace:\n\t(No symbol) [0x0034F243]\n\t(No symbol) [0x002D7FD1]\n\t(No symbol) [0x001CD04D]\n\t(No symbol) [0x001FC0B0]\n\t(No symbol) [0x001FC22B]\n\t(No symbol) [0x0022E612]\n\t(No symbol) [0x002185D4]\n\t(No symbol) [0x0022C9EB]\n\t(No symbol) [0x00218386]\n\t(No symbol) [0x001F163C]\n\t(No symbol) [0x001F269D]\n\tGetHandleVerifier [0x005E9A22+2655074]\n\tGetHandleVerifier [0x005DCA24+2601828]\n\tGetHandleVerifier [0x003F8C0A+619850]\n\tGetHandleVerifier [0x003F7830+614768]\n\t(No symbol) [0x002E05FC]\n\t(No symbol) [0x002E5968]\n\t(No symbol) [0x002E5A55]\n\t(No symbol) [0x002F051B]\n\tBaseThreadInitThunk [0x762F7D69+25]\n\tRtlInitializeExceptionChain [0x7775BB9B+107]\n\tRtlClearBits [0x7775BB1F+191]\n",
     "output_type": "error",
     "traceback": [
      "\u001b[1;31m---------------------------------------------------------------------------\u001b[0m",
      "\u001b[1;31mNoSuchElementException\u001b[0m                    Traceback (most recent call last)",
      "Input \u001b[1;32mIn [5]\u001b[0m, in \u001b[0;36m<cell line: 3>\u001b[1;34m()\u001b[0m\n\u001b[0;32m      3\u001b[0m \u001b[38;5;28;01mtry\u001b[39;00m:\n\u001b[1;32m----> 4\u001b[0m     element \u001b[38;5;241m=\u001b[39m \u001b[43mdriver\u001b[49m\u001b[38;5;241;43m.\u001b[39;49m\u001b[43mfind_element\u001b[49m\u001b[43m(\u001b[49m\u001b[43mBy\u001b[49m\u001b[38;5;241;43m.\u001b[39;49m\u001b[43mCLASS_NAME\u001b[49m\u001b[43m,\u001b[49m\u001b[38;5;124;43m\"\u001b[39;49m\u001b[38;5;124;43msearch-input\u001b[39;49m\u001b[38;5;124;43m\"\u001b[39;49m\u001b[43m)\u001b[49m\n\u001b[0;32m      5\u001b[0m     \u001b[38;5;28mprint\u001b[39m(element\u001b[38;5;241m.\u001b[39mtext)\n",
      "File \u001b[1;32mC:\\anaconda\\lib\\site-packages\\selenium\\webdriver\\remote\\webdriver.py:861\u001b[0m, in \u001b[0;36mWebDriver.find_element\u001b[1;34m(self, by, value)\u001b[0m\n\u001b[0;32m    859\u001b[0m     value \u001b[38;5;241m=\u001b[39m \u001b[38;5;124m'\u001b[39m\u001b[38;5;124m[name=\u001b[39m\u001b[38;5;124m\"\u001b[39m\u001b[38;5;132;01m%s\u001b[39;00m\u001b[38;5;124m\"\u001b[39m\u001b[38;5;124m]\u001b[39m\u001b[38;5;124m'\u001b[39m \u001b[38;5;241m%\u001b[39m value\n\u001b[1;32m--> 861\u001b[0m \u001b[38;5;28;01mreturn\u001b[39;00m \u001b[38;5;28;43mself\u001b[39;49m\u001b[38;5;241;43m.\u001b[39;49m\u001b[43mexecute\u001b[49m\u001b[43m(\u001b[49m\u001b[43mCommand\u001b[49m\u001b[38;5;241;43m.\u001b[39;49m\u001b[43mFIND_ELEMENT\u001b[49m\u001b[43m,\u001b[49m\u001b[43m \u001b[49m\u001b[43m{\u001b[49m\u001b[38;5;124;43m\"\u001b[39;49m\u001b[38;5;124;43musing\u001b[39;49m\u001b[38;5;124;43m\"\u001b[39;49m\u001b[43m:\u001b[49m\u001b[43m \u001b[49m\u001b[43mby\u001b[49m\u001b[43m,\u001b[49m\u001b[43m \u001b[49m\u001b[38;5;124;43m\"\u001b[39;49m\u001b[38;5;124;43mvalue\u001b[39;49m\u001b[38;5;124;43m\"\u001b[39;49m\u001b[43m:\u001b[49m\u001b[43m \u001b[49m\u001b[43mvalue\u001b[49m\u001b[43m}\u001b[49m\u001b[43m)\u001b[49m[\u001b[38;5;124m\"\u001b[39m\u001b[38;5;124mvalue\u001b[39m\u001b[38;5;124m\"\u001b[39m]\n",
      "File \u001b[1;32mC:\\anaconda\\lib\\site-packages\\selenium\\webdriver\\remote\\webdriver.py:444\u001b[0m, in \u001b[0;36mWebDriver.execute\u001b[1;34m(self, driver_command, params)\u001b[0m\n\u001b[0;32m    443\u001b[0m \u001b[38;5;28;01mif\u001b[39;00m response:\n\u001b[1;32m--> 444\u001b[0m     \u001b[38;5;28;43mself\u001b[39;49m\u001b[38;5;241;43m.\u001b[39;49m\u001b[43merror_handler\u001b[49m\u001b[38;5;241;43m.\u001b[39;49m\u001b[43mcheck_response\u001b[49m\u001b[43m(\u001b[49m\u001b[43mresponse\u001b[49m\u001b[43m)\u001b[49m\n\u001b[0;32m    445\u001b[0m     response[\u001b[38;5;124m\"\u001b[39m\u001b[38;5;124mvalue\u001b[39m\u001b[38;5;124m\"\u001b[39m] \u001b[38;5;241m=\u001b[39m \u001b[38;5;28mself\u001b[39m\u001b[38;5;241m.\u001b[39m_unwrap_value(response\u001b[38;5;241m.\u001b[39mget(\u001b[38;5;124m\"\u001b[39m\u001b[38;5;124mvalue\u001b[39m\u001b[38;5;124m\"\u001b[39m, \u001b[38;5;28;01mNone\u001b[39;00m))\n",
      "File \u001b[1;32mC:\\anaconda\\lib\\site-packages\\selenium\\webdriver\\remote\\errorhandler.py:249\u001b[0m, in \u001b[0;36mErrorHandler.check_response\u001b[1;34m(self, response)\u001b[0m\n\u001b[0;32m    248\u001b[0m     \u001b[38;5;28;01mraise\u001b[39;00m exception_class(message, screen, stacktrace, alert_text)  \u001b[38;5;66;03m# type: ignore[call-arg]  # mypy is not smart enough here\u001b[39;00m\n\u001b[1;32m--> 249\u001b[0m \u001b[38;5;28;01mraise\u001b[39;00m exception_class(message, screen, stacktrace)\n",
      "\u001b[1;31mNoSuchElementException\u001b[0m: Message: no such element: Unable to locate element: {\"method\":\"css selector\",\"selector\":\".search-input\"}\n  (Session info: chrome=108.0.5359.125)\nStacktrace:\nBacktrace:\n\t(No symbol) [0x0034F243]\n\t(No symbol) [0x002D7FD1]\n\t(No symbol) [0x001CD04D]\n\t(No symbol) [0x001FC0B0]\n\t(No symbol) [0x001FC22B]\n\t(No symbol) [0x0022E612]\n\t(No symbol) [0x002185D4]\n\t(No symbol) [0x0022C9EB]\n\t(No symbol) [0x00218386]\n\t(No symbol) [0x001F163C]\n\t(No symbol) [0x001F269D]\n\tGetHandleVerifier [0x005E9A22+2655074]\n\tGetHandleVerifier [0x005DCA24+2601828]\n\tGetHandleVerifier [0x003F8C0A+619850]\n\tGetHandleVerifier [0x003F7830+614768]\n\t(No symbol) [0x002E05FC]\n\t(No symbol) [0x002E5968]\n\t(No symbol) [0x002E5A55]\n\t(No symbol) [0x002F051B]\n\tBaseThreadInitThunk [0x762F7D69+25]\n\tRtlInitializeExceptionChain [0x7775BB9B+107]\n\tRtlClearBits [0x7775BB1F+191]\n",
      "\nDuring handling of the above exception, another exception occurred:\n",
      "\u001b[1;31mNoSuchElementException\u001b[0m                    Traceback (most recent call last)",
      "Input \u001b[1;32mIn [5]\u001b[0m, in \u001b[0;36m<cell line: 3>\u001b[1;34m()\u001b[0m\n\u001b[0;32m      5\u001b[0m     \u001b[38;5;28mprint\u001b[39m(element\u001b[38;5;241m.\u001b[39mtext)\n\u001b[0;32m      6\u001b[0m \u001b[38;5;28;01mexcept\u001b[39;00m NoSuchElementException \u001b[38;5;28;01mas\u001b[39;00m e:\n\u001b[0;32m      7\u001b[0m     \u001b[38;5;66;03m#print(\"Exception Raised:\",e)\u001b[39;00m\n\u001b[1;32m----> 8\u001b[0m     element\u001b[38;5;241m=\u001b[39m\u001b[43mdriver\u001b[49m\u001b[38;5;241;43m.\u001b[39;49m\u001b[43mfind_element\u001b[49m\u001b[43m(\u001b[49m\u001b[43mBy\u001b[49m\u001b[38;5;241;43m.\u001b[39;49m\u001b[43mCLASS_NAME\u001b[49m\u001b[43m,\u001b[49m\u001b[38;5;124;43m'\u001b[39;49m\u001b[38;5;124;43msearch-icon icon\u001b[39;49m\u001b[38;5;124;43m'\u001b[39;49m\u001b[43m)\u001b[49m \u001b[38;5;66;03m#Replacing previous element by a valid element which appears on\u001b[39;00m\n\u001b[0;32m      9\u001b[0m     \u001b[38;5;28mprint\u001b[39m(element\u001b[38;5;241m.\u001b[39mtext)\n",
      "File \u001b[1;32mC:\\anaconda\\lib\\site-packages\\selenium\\webdriver\\remote\\webdriver.py:861\u001b[0m, in \u001b[0;36mWebDriver.find_element\u001b[1;34m(self, by, value)\u001b[0m\n\u001b[0;32m    858\u001b[0m     by \u001b[38;5;241m=\u001b[39m By\u001b[38;5;241m.\u001b[39mCSS_SELECTOR\n\u001b[0;32m    859\u001b[0m     value \u001b[38;5;241m=\u001b[39m \u001b[38;5;124m'\u001b[39m\u001b[38;5;124m[name=\u001b[39m\u001b[38;5;124m\"\u001b[39m\u001b[38;5;132;01m%s\u001b[39;00m\u001b[38;5;124m\"\u001b[39m\u001b[38;5;124m]\u001b[39m\u001b[38;5;124m'\u001b[39m \u001b[38;5;241m%\u001b[39m value\n\u001b[1;32m--> 861\u001b[0m \u001b[38;5;28;01mreturn\u001b[39;00m \u001b[38;5;28;43mself\u001b[39;49m\u001b[38;5;241;43m.\u001b[39;49m\u001b[43mexecute\u001b[49m\u001b[43m(\u001b[49m\u001b[43mCommand\u001b[49m\u001b[38;5;241;43m.\u001b[39;49m\u001b[43mFIND_ELEMENT\u001b[49m\u001b[43m,\u001b[49m\u001b[43m \u001b[49m\u001b[43m{\u001b[49m\u001b[38;5;124;43m\"\u001b[39;49m\u001b[38;5;124;43musing\u001b[39;49m\u001b[38;5;124;43m\"\u001b[39;49m\u001b[43m:\u001b[49m\u001b[43m \u001b[49m\u001b[43mby\u001b[49m\u001b[43m,\u001b[49m\u001b[43m \u001b[49m\u001b[38;5;124;43m\"\u001b[39;49m\u001b[38;5;124;43mvalue\u001b[39;49m\u001b[38;5;124;43m\"\u001b[39;49m\u001b[43m:\u001b[49m\u001b[43m \u001b[49m\u001b[43mvalue\u001b[49m\u001b[43m}\u001b[49m\u001b[43m)\u001b[49m[\u001b[38;5;124m\"\u001b[39m\u001b[38;5;124mvalue\u001b[39m\u001b[38;5;124m\"\u001b[39m]\n",
      "File \u001b[1;32mC:\\anaconda\\lib\\site-packages\\selenium\\webdriver\\remote\\webdriver.py:444\u001b[0m, in \u001b[0;36mWebDriver.execute\u001b[1;34m(self, driver_command, params)\u001b[0m\n\u001b[0;32m    442\u001b[0m response \u001b[38;5;241m=\u001b[39m \u001b[38;5;28mself\u001b[39m\u001b[38;5;241m.\u001b[39mcommand_executor\u001b[38;5;241m.\u001b[39mexecute(driver_command, params)\n\u001b[0;32m    443\u001b[0m \u001b[38;5;28;01mif\u001b[39;00m response:\n\u001b[1;32m--> 444\u001b[0m     \u001b[38;5;28;43mself\u001b[39;49m\u001b[38;5;241;43m.\u001b[39;49m\u001b[43merror_handler\u001b[49m\u001b[38;5;241;43m.\u001b[39;49m\u001b[43mcheck_response\u001b[49m\u001b[43m(\u001b[49m\u001b[43mresponse\u001b[49m\u001b[43m)\u001b[49m\n\u001b[0;32m    445\u001b[0m     response[\u001b[38;5;124m\"\u001b[39m\u001b[38;5;124mvalue\u001b[39m\u001b[38;5;124m\"\u001b[39m] \u001b[38;5;241m=\u001b[39m \u001b[38;5;28mself\u001b[39m\u001b[38;5;241m.\u001b[39m_unwrap_value(response\u001b[38;5;241m.\u001b[39mget(\u001b[38;5;124m\"\u001b[39m\u001b[38;5;124mvalue\u001b[39m\u001b[38;5;124m\"\u001b[39m, \u001b[38;5;28;01mNone\u001b[39;00m))\n\u001b[0;32m    446\u001b[0m     \u001b[38;5;28;01mreturn\u001b[39;00m response\n",
      "File \u001b[1;32mC:\\anaconda\\lib\\site-packages\\selenium\\webdriver\\remote\\errorhandler.py:249\u001b[0m, in \u001b[0;36mErrorHandler.check_response\u001b[1;34m(self, response)\u001b[0m\n\u001b[0;32m    247\u001b[0m         alert_text \u001b[38;5;241m=\u001b[39m value[\u001b[38;5;124m\"\u001b[39m\u001b[38;5;124malert\u001b[39m\u001b[38;5;124m\"\u001b[39m]\u001b[38;5;241m.\u001b[39mget(\u001b[38;5;124m\"\u001b[39m\u001b[38;5;124mtext\u001b[39m\u001b[38;5;124m\"\u001b[39m)\n\u001b[0;32m    248\u001b[0m     \u001b[38;5;28;01mraise\u001b[39;00m exception_class(message, screen, stacktrace, alert_text)  \u001b[38;5;66;03m# type: ignore[call-arg]  # mypy is not smart enough here\u001b[39;00m\n\u001b[1;32m--> 249\u001b[0m \u001b[38;5;28;01mraise\u001b[39;00m exception_class(message, screen, stacktrace)\n",
      "\u001b[1;31mNoSuchElementException\u001b[0m: Message: no such element: Unable to locate element: {\"method\":\"css selector\",\"selector\":\".search-icon icon\"}\n  (Session info: chrome=108.0.5359.125)\nStacktrace:\nBacktrace:\n\t(No symbol) [0x0034F243]\n\t(No symbol) [0x002D7FD1]\n\t(No symbol) [0x001CD04D]\n\t(No symbol) [0x001FC0B0]\n\t(No symbol) [0x001FC22B]\n\t(No symbol) [0x0022E612]\n\t(No symbol) [0x002185D4]\n\t(No symbol) [0x0022C9EB]\n\t(No symbol) [0x00218386]\n\t(No symbol) [0x001F163C]\n\t(No symbol) [0x001F269D]\n\tGetHandleVerifier [0x005E9A22+2655074]\n\tGetHandleVerifier [0x005DCA24+2601828]\n\tGetHandleVerifier [0x003F8C0A+619850]\n\tGetHandleVerifier [0x003F7830+614768]\n\t(No symbol) [0x002E05FC]\n\t(No symbol) [0x002E5968]\n\t(No symbol) [0x002E5A55]\n\t(No symbol) [0x002F051B]\n\tBaseThreadInitThunk [0x762F7D69+25]\n\tRtlInitializeExceptionChain [0x7775BB9B+107]\n\tRtlClearBits [0x7775BB1F+191]\n"
     ]
    }
   ],
   "source": [
    "#Handling Exception\n",
    "\n",
    "try:\n",
    "    element = driver.find_element(By.CLASS_NAME,\"search-input\")\n",
    "    print(element.text)\n",
    "except NoSuchElementException as e:\n",
    "    #print(\"Exception Raised:\",e)\n",
    "    element=driver.find_element(By.CLASS_NAME,'search-icon icon') #Replacing previous element by a valid element which appears on\n",
    "    print(element.text)"
   ]
  },
  {
   "cell_type": "markdown",
   "id": "3a6ccfc9",
   "metadata": {},
   "source": [
    "# Q-9)"
   ]
  },
  {
   "cell_type": "code",
   "execution_count": 37,
   "id": "fbcc73a1",
   "metadata": {},
   "outputs": [],
   "source": [
    "import selenium\n",
    "import pandas as pd\n",
    "from selenium import webdriver \n",
    "import warnings\n",
    "warnings.filterwarnings('ignore')\n",
    "from selenium.common.exceptions import StaleElementReferenceException,NoSuchElementException\n",
    "from selenium.webdriver.common.by import By\n",
    "import time\n",
    "import requests"
   ]
  },
  {
   "cell_type": "code",
   "execution_count": 38,
   "id": "3b164dc8",
   "metadata": {},
   "outputs": [],
   "source": [
    "#Let's Connect the driver:-\n",
    "driver = webdriver.Chrome(r\"C:\\Users\\SUVARCHALA\\Downloads\\chromedriver_win32.chromedriver.exe\")"
   ]
  },
  {
   "cell_type": "code",
   "execution_count": 39,
   "id": "c6af6a4b",
   "metadata": {},
   "outputs": [],
   "source": [
    "# Opening the Amazon page on automated chrome browser\n",
    "driver.get(\"https://www.youtube.com/\")"
   ]
  },
  {
   "cell_type": "code",
   "execution_count": 40,
   "id": "78ba757c",
   "metadata": {},
   "outputs": [],
   "source": [
    "#entering item as required in the question-\n",
    "item=driver.find_element(By.XPATH,'/html/body/ytd-app/div[1]/div/ytd-masthead/div[3]/div[2]/ytd-searchbox/form/div[1]/div[1]/input')\n",
    "item.send_keys('Data science')"
   ]
  },
  {
   "cell_type": "code",
   "execution_count": 41,
   "id": "d56805e7",
   "metadata": {},
   "outputs": [],
   "source": [
    "search=driver.find_element(By.XPATH,'/html/body/ytd-app/div[1]/div/ytd-masthead/div[3]/div[2]/ytd-searchbox/button')\n",
    "search.click()\n",
    "time.sleep(3)"
   ]
  },
  {
   "cell_type": "code",
   "execution_count": 42,
   "id": "3cd146fb",
   "metadata": {},
   "outputs": [],
   "source": [
    "search=driver.find_element(By.XPATH,'/html/body/ytd-app/div[1]/ytd-page-manager/ytd-search/div[1]/ytd-two-column-search-results-renderer/div[2]/div/ytd-section-list-renderer/div[2]/ytd-item-section-renderer/div[3]/ytd-video-renderer[1]/div[1]/ytd-thumbnail/a')\n",
    "search.click()\n",
    "time.sleep(5)"
   ]
  },
  {
   "cell_type": "code",
   "execution_count": 43,
   "id": "6721676d",
   "metadata": {},
   "outputs": [],
   "source": [
    "Comments=[]\n",
    "comments = driver.find_elements(By.XPATH,'//div[@id=\"comment-content\"]')\n",
    "for i in comments[0:500]:\n",
    "    comments = i.text\n",
    "    Comments.append(comments)"
   ]
  },
  {
   "cell_type": "code",
   "execution_count": 44,
   "id": "4757c7ff",
   "metadata": {},
   "outputs": [
    {
     "data": {
      "text/plain": [
       "20"
      ]
     },
     "execution_count": 44,
     "metadata": {},
     "output_type": "execute_result"
    }
   ],
   "source": [
    "len(Comments)"
   ]
  },
  {
   "cell_type": "code",
   "execution_count": 45,
   "id": "fa79795d",
   "metadata": {},
   "outputs": [
    {
     "data": {
      "text/html": [
       "<div>\n",
       "<style scoped>\n",
       "    .dataframe tbody tr th:only-of-type {\n",
       "        vertical-align: middle;\n",
       "    }\n",
       "\n",
       "    .dataframe tbody tr th {\n",
       "        vertical-align: top;\n",
       "    }\n",
       "\n",
       "    .dataframe thead th {\n",
       "        text-align: right;\n",
       "    }\n",
       "</style>\n",
       "<table border=\"1\" class=\"dataframe\">\n",
       "  <thead>\n",
       "    <tr style=\"text-align: right;\">\n",
       "      <th></th>\n",
       "      <th>Comments</th>\n",
       "    </tr>\n",
       "  </thead>\n",
       "  <tbody>\n",
       "    <tr>\n",
       "      <th>0</th>\n",
       "      <td>Explore Our FREE Courses With Completion Certi...</td>\n",
       "    </tr>\n",
       "    <tr>\n",
       "      <th>1</th>\n",
       "      <td>Great video! As an established data scientist ...</td>\n",
       "    </tr>\n",
       "    <tr>\n",
       "      <th>2</th>\n",
       "      <td>This is really a very clear presentation of wh...</td>\n",
       "    </tr>\n",
       "    <tr>\n",
       "      <th>3</th>\n",
       "      <td>it was a great overview of all the process.  i...</td>\n",
       "    </tr>\n",
       "    <tr>\n",
       "      <th>4</th>\n",
       "      <td>Great video. You did great explaining this. Th...</td>\n",
       "    </tr>\n",
       "    <tr>\n",
       "      <th>5</th>\n",
       "      <td>Thank you for this super interesting video! :)...</td>\n",
       "    </tr>\n",
       "    <tr>\n",
       "      <th>6</th>\n",
       "      <td>A nice capture of the top level elements, than...</td>\n",
       "    </tr>\n",
       "    <tr>\n",
       "      <th>7</th>\n",
       "      <td>#Simplilearn\\n\\nYou are amazing !! Thanks for ...</td>\n",
       "    </tr>\n",
       "    <tr>\n",
       "      <th>8</th>\n",
       "      <td>Would you please do an episode on UX research ...</td>\n",
       "    </tr>\n",
       "    <tr>\n",
       "      <th>9</th>\n",
       "      <td>Your videos are what is getting me the necessa...</td>\n",
       "    </tr>\n",
       "    <tr>\n",
       "      <th>10</th>\n",
       "      <td>Hello Team,\\nThat was really helpful but i hav...</td>\n",
       "    </tr>\n",
       "    <tr>\n",
       "      <th>11</th>\n",
       "      <td>Thank you..For give us the intro of Data Scien...</td>\n",
       "    </tr>\n",
       "    <tr>\n",
       "      <th>12</th>\n",
       "      <td>Data science explained in such a clean and bri...</td>\n",
       "    </tr>\n",
       "    <tr>\n",
       "      <th>13</th>\n",
       "      <td>A very interesting intro to data science. I wa...</td>\n",
       "    </tr>\n",
       "    <tr>\n",
       "      <th>14</th>\n",
       "      <td>Hi, I’m an international business student and ...</td>\n",
       "    </tr>\n",
       "    <tr>\n",
       "      <th>15</th>\n",
       "      <td>Thanks for this informative video. I am a Gene...</td>\n",
       "    </tr>\n",
       "    <tr>\n",
       "      <th>16</th>\n",
       "      <td>Awesome video! Please let me know the Mathemat...</td>\n",
       "    </tr>\n",
       "    <tr>\n",
       "      <th>17</th>\n",
       "      <td>Hello @Simplilearn, your animations are very g...</td>\n",
       "    </tr>\n",
       "    <tr>\n",
       "      <th>18</th>\n",
       "      <td>This was a nicely done video. You were clear a...</td>\n",
       "    </tr>\n",
       "    <tr>\n",
       "      <th>19</th>\n",
       "      <td>Do you have any questions on this topic? Pleas...</td>\n",
       "    </tr>\n",
       "  </tbody>\n",
       "</table>\n",
       "</div>"
      ],
      "text/plain": [
       "                                             Comments\n",
       "0   Explore Our FREE Courses With Completion Certi...\n",
       "1   Great video! As an established data scientist ...\n",
       "2   This is really a very clear presentation of wh...\n",
       "3   it was a great overview of all the process.  i...\n",
       "4   Great video. You did great explaining this. Th...\n",
       "5   Thank you for this super interesting video! :)...\n",
       "6   A nice capture of the top level elements, than...\n",
       "7   #Simplilearn\\n\\nYou are amazing !! Thanks for ...\n",
       "8   Would you please do an episode on UX research ...\n",
       "9   Your videos are what is getting me the necessa...\n",
       "10  Hello Team,\\nThat was really helpful but i hav...\n",
       "11  Thank you..For give us the intro of Data Scien...\n",
       "12  Data science explained in such a clean and bri...\n",
       "13  A very interesting intro to data science. I wa...\n",
       "14  Hi, I’m an international business student and ...\n",
       "15  Thanks for this informative video. I am a Gene...\n",
       "16  Awesome video! Please let me know the Mathemat...\n",
       "17  Hello @Simplilearn, your animations are very g...\n",
       "18  This was a nicely done video. You were clear a...\n",
       "19  Do you have any questions on this topic? Pleas..."
      ]
     },
     "execution_count": 45,
     "metadata": {},
     "output_type": "execute_result"
    }
   ],
   "source": [
    "df = pd.DataFrame({'Comments':Comments})\n",
    "df"
   ]
  },
  {
   "cell_type": "markdown",
   "id": "bfd8bd46",
   "metadata": {},
   "source": [
    "# Q-8)"
   ]
  },
  {
   "cell_type": "code",
   "execution_count": 47,
   "id": "a7490f00",
   "metadata": {},
   "outputs": [],
   "source": [
    "import selenium\n",
    "import pandas as pd\n",
    "from selenium import webdriver \n",
    "import warnings\n",
    "warnings.filterwarnings('ignore')\n",
    "from selenium.common.exceptions import StaleElementReferenceException,NoSuchElementException\n",
    "from selenium.webdriver.common.by import By\n",
    "import time\n",
    "import requests"
   ]
  },
  {
   "cell_type": "code",
   "execution_count": 48,
   "id": "4341522d",
   "metadata": {},
   "outputs": [],
   "source": [
    "#Let's Connect the driver:-\n",
    "driver = webdriver.Chrome(r\"C:\\Users\\SUVARCHALA\\Downloads\\chromedriver_win32.chromedriver.exe\")"
   ]
  },
  {
   "cell_type": "code",
   "execution_count": 49,
   "id": "63a61a31",
   "metadata": {},
   "outputs": [],
   "source": [
    "# Opening the Forbes page on automated chrome browser\n",
    "driver.get(\"https://www.forbes.com/\")"
   ]
  },
  {
   "cell_type": "code",
   "execution_count": 50,
   "id": "5f6a9ccb",
   "metadata": {},
   "outputs": [],
   "source": [
    "search = driver.find_element(By.XPATH,'/html/body/div[1]/header/nav/div[1]/div/div/div[1]')\n",
    "search.click()\n",
    "time.sleep(3)"
   ]
  },
  {
   "cell_type": "code",
   "execution_count": 51,
   "id": "c1ae4f17",
   "metadata": {},
   "outputs": [],
   "source": [
    "search = driver.find_element(By.XPATH,'/html/body/div[1]/header/nav/div[1]/div/div/div[2]/ul/li[1]/div[1]')\n",
    "search.click()\n",
    "time.sleep(3)"
   ]
  },
  {
   "cell_type": "code",
   "execution_count": 52,
   "id": "6491f5fe",
   "metadata": {},
   "outputs": [],
   "source": [
    "#scrap all product urls\n",
    "product_urls=[]\n",
    "start=0\n",
    "end=1\n",
    "for page in range(start,end):\n",
    "    url=driver.find_elements(By.XPATH,'/html/body/div[1]/header/nav/div[1]/div/div/div[2]/ul/li[1]/div[2]/div[3]/ul/li[1]/a')\n",
    "    for i in url[0:10]:\n",
    "        product_urls.append(i.get_attribute(\"href\"))"
   ]
  },
  {
   "cell_type": "code",
   "execution_count": 53,
   "id": "568bd6f7",
   "metadata": {},
   "outputs": [
    {
     "data": {
      "text/plain": [
       "1"
      ]
     },
     "execution_count": 53,
     "metadata": {},
     "output_type": "execute_result"
    }
   ],
   "source": [
    "len(product_urls)"
   ]
  },
  {
   "cell_type": "code",
   "execution_count": 54,
   "id": "ece54082",
   "metadata": {},
   "outputs": [],
   "source": [
    "Rank=[]\n",
    "Name=[]\n",
    "NetWorth=[]\n",
    "Age=[]\n",
    "Citizenship=[]\n",
    "Source=[]\n",
    "Industry=[]"
   ]
  },
  {
   "cell_type": "code",
   "execution_count": 70,
   "id": "5a6efe1f",
   "metadata": {},
   "outputs": [
    {
     "ename": "InvalidSelectorException",
     "evalue": "Message: invalid selector: An invalid or illegal selector was specified\n  (Session info: chrome=108.0.5359.125)\nStacktrace:\nBacktrace:\n\t(No symbol) [0x0034F243]\n\t(No symbol) [0x002D7FD1]\n\t(No symbol) [0x001CD04D]\n\t(No symbol) [0x001CFD34]\n\t(No symbol) [0x001CFBE5]\n\t(No symbol) [0x001CFE80]\n\t(No symbol) [0x001FBD55]\n\t(No symbol) [0x001FC22B]\n\t(No symbol) [0x0022E612]\n\t(No symbol) [0x002185D4]\n\t(No symbol) [0x0022C9EB]\n\t(No symbol) [0x00218386]\n\t(No symbol) [0x001F163C]\n\t(No symbol) [0x001F269D]\n\tGetHandleVerifier [0x005E9A22+2655074]\n\tGetHandleVerifier [0x005DCA24+2601828]\n\tGetHandleVerifier [0x003F8C0A+619850]\n\tGetHandleVerifier [0x003F7830+614768]\n\t(No symbol) [0x002E05FC]\n\t(No symbol) [0x002E5968]\n\t(No symbol) [0x002E5A55]\n\t(No symbol) [0x002F051B]\n\tBaseThreadInitThunk [0x762F7D69+25]\n\tRtlInitializeExceptionChain [0x7775BB9B+107]\n\tRtlClearBits [0x7775BB1F+191]\n",
     "output_type": "error",
     "traceback": [
      "\u001b[1;31m---------------------------------------------------------------------------\u001b[0m",
      "\u001b[1;31mInvalidSelectorException\u001b[0m                  Traceback (most recent call last)",
      "Input \u001b[1;32mIn [70]\u001b[0m, in \u001b[0;36m<cell line: 3>\u001b[1;34m()\u001b[0m\n\u001b[0;32m      5\u001b[0m time\u001b[38;5;241m.\u001b[39msleep(\u001b[38;5;241m2\u001b[39m)\n\u001b[0;32m      6\u001b[0m \u001b[38;5;28;01mtry\u001b[39;00m:\n\u001b[1;32m----> 7\u001b[0m     rank \u001b[38;5;241m=\u001b[39m \u001b[43mdriver\u001b[49m\u001b[38;5;241;43m.\u001b[39;49m\u001b[43mfind_element\u001b[49m\u001b[43m(\u001b[49m\u001b[43mBy\u001b[49m\u001b[38;5;241;43m.\u001b[39;49m\u001b[43mCLASS_NAME\u001b[49m\u001b[43m,\u001b[49m\u001b[38;5;124;43m'\u001b[39;49m\u001b[38;5;124;43m//div[@class=\u001b[39;49m\u001b[38;5;124;43m\"\u001b[39;49m\u001b[38;5;124;43mtable-row-group\u001b[39;49m\u001b[38;5;124;43m\"\u001b[39;49m\u001b[38;5;124;43m]\u001b[39;49m\u001b[38;5;124;43m'\u001b[39;49m\u001b[43m)\u001b[49m\n\u001b[0;32m      8\u001b[0m     Rank\u001b[38;5;241m.\u001b[39mappend(rank\u001b[38;5;241m.\u001b[39mtext)\n\u001b[0;32m      9\u001b[0m \u001b[38;5;28;01mexcept\u001b[39;00m NoSuchElementException:\n",
      "File \u001b[1;32mC:\\anaconda\\lib\\site-packages\\selenium\\webdriver\\remote\\webdriver.py:861\u001b[0m, in \u001b[0;36mWebDriver.find_element\u001b[1;34m(self, by, value)\u001b[0m\n\u001b[0;32m    858\u001b[0m     by \u001b[38;5;241m=\u001b[39m By\u001b[38;5;241m.\u001b[39mCSS_SELECTOR\n\u001b[0;32m    859\u001b[0m     value \u001b[38;5;241m=\u001b[39m \u001b[38;5;124m'\u001b[39m\u001b[38;5;124m[name=\u001b[39m\u001b[38;5;124m\"\u001b[39m\u001b[38;5;132;01m%s\u001b[39;00m\u001b[38;5;124m\"\u001b[39m\u001b[38;5;124m]\u001b[39m\u001b[38;5;124m'\u001b[39m \u001b[38;5;241m%\u001b[39m value\n\u001b[1;32m--> 861\u001b[0m \u001b[38;5;28;01mreturn\u001b[39;00m \u001b[38;5;28;43mself\u001b[39;49m\u001b[38;5;241;43m.\u001b[39;49m\u001b[43mexecute\u001b[49m\u001b[43m(\u001b[49m\u001b[43mCommand\u001b[49m\u001b[38;5;241;43m.\u001b[39;49m\u001b[43mFIND_ELEMENT\u001b[49m\u001b[43m,\u001b[49m\u001b[43m \u001b[49m\u001b[43m{\u001b[49m\u001b[38;5;124;43m\"\u001b[39;49m\u001b[38;5;124;43musing\u001b[39;49m\u001b[38;5;124;43m\"\u001b[39;49m\u001b[43m:\u001b[49m\u001b[43m \u001b[49m\u001b[43mby\u001b[49m\u001b[43m,\u001b[49m\u001b[43m \u001b[49m\u001b[38;5;124;43m\"\u001b[39;49m\u001b[38;5;124;43mvalue\u001b[39;49m\u001b[38;5;124;43m\"\u001b[39;49m\u001b[43m:\u001b[49m\u001b[43m \u001b[49m\u001b[43mvalue\u001b[49m\u001b[43m}\u001b[49m\u001b[43m)\u001b[49m[\u001b[38;5;124m\"\u001b[39m\u001b[38;5;124mvalue\u001b[39m\u001b[38;5;124m\"\u001b[39m]\n",
      "File \u001b[1;32mC:\\anaconda\\lib\\site-packages\\selenium\\webdriver\\remote\\webdriver.py:444\u001b[0m, in \u001b[0;36mWebDriver.execute\u001b[1;34m(self, driver_command, params)\u001b[0m\n\u001b[0;32m    442\u001b[0m response \u001b[38;5;241m=\u001b[39m \u001b[38;5;28mself\u001b[39m\u001b[38;5;241m.\u001b[39mcommand_executor\u001b[38;5;241m.\u001b[39mexecute(driver_command, params)\n\u001b[0;32m    443\u001b[0m \u001b[38;5;28;01mif\u001b[39;00m response:\n\u001b[1;32m--> 444\u001b[0m     \u001b[38;5;28;43mself\u001b[39;49m\u001b[38;5;241;43m.\u001b[39;49m\u001b[43merror_handler\u001b[49m\u001b[38;5;241;43m.\u001b[39;49m\u001b[43mcheck_response\u001b[49m\u001b[43m(\u001b[49m\u001b[43mresponse\u001b[49m\u001b[43m)\u001b[49m\n\u001b[0;32m    445\u001b[0m     response[\u001b[38;5;124m\"\u001b[39m\u001b[38;5;124mvalue\u001b[39m\u001b[38;5;124m\"\u001b[39m] \u001b[38;5;241m=\u001b[39m \u001b[38;5;28mself\u001b[39m\u001b[38;5;241m.\u001b[39m_unwrap_value(response\u001b[38;5;241m.\u001b[39mget(\u001b[38;5;124m\"\u001b[39m\u001b[38;5;124mvalue\u001b[39m\u001b[38;5;124m\"\u001b[39m, \u001b[38;5;28;01mNone\u001b[39;00m))\n\u001b[0;32m    446\u001b[0m     \u001b[38;5;28;01mreturn\u001b[39;00m response\n",
      "File \u001b[1;32mC:\\anaconda\\lib\\site-packages\\selenium\\webdriver\\remote\\errorhandler.py:249\u001b[0m, in \u001b[0;36mErrorHandler.check_response\u001b[1;34m(self, response)\u001b[0m\n\u001b[0;32m    247\u001b[0m         alert_text \u001b[38;5;241m=\u001b[39m value[\u001b[38;5;124m\"\u001b[39m\u001b[38;5;124malert\u001b[39m\u001b[38;5;124m\"\u001b[39m]\u001b[38;5;241m.\u001b[39mget(\u001b[38;5;124m\"\u001b[39m\u001b[38;5;124mtext\u001b[39m\u001b[38;5;124m\"\u001b[39m)\n\u001b[0;32m    248\u001b[0m     \u001b[38;5;28;01mraise\u001b[39;00m exception_class(message, screen, stacktrace, alert_text)  \u001b[38;5;66;03m# type: ignore[call-arg]  # mypy is not smart enough here\u001b[39;00m\n\u001b[1;32m--> 249\u001b[0m \u001b[38;5;28;01mraise\u001b[39;00m exception_class(message, screen, stacktrace)\n",
      "\u001b[1;31mInvalidSelectorException\u001b[0m: Message: invalid selector: An invalid or illegal selector was specified\n  (Session info: chrome=108.0.5359.125)\nStacktrace:\nBacktrace:\n\t(No symbol) [0x0034F243]\n\t(No symbol) [0x002D7FD1]\n\t(No symbol) [0x001CD04D]\n\t(No symbol) [0x001CFD34]\n\t(No symbol) [0x001CFBE5]\n\t(No symbol) [0x001CFE80]\n\t(No symbol) [0x001FBD55]\n\t(No symbol) [0x001FC22B]\n\t(No symbol) [0x0022E612]\n\t(No symbol) [0x002185D4]\n\t(No symbol) [0x0022C9EB]\n\t(No symbol) [0x00218386]\n\t(No symbol) [0x001F163C]\n\t(No symbol) [0x001F269D]\n\tGetHandleVerifier [0x005E9A22+2655074]\n\tGetHandleVerifier [0x005DCA24+2601828]\n\tGetHandleVerifier [0x003F8C0A+619850]\n\tGetHandleVerifier [0x003F7830+614768]\n\t(No symbol) [0x002E05FC]\n\t(No symbol) [0x002E5968]\n\t(No symbol) [0x002E5A55]\n\t(No symbol) [0x002F051B]\n\tBaseThreadInitThunk [0x762F7D69+25]\n\tRtlInitializeExceptionChain [0x7775BB9B+107]\n\tRtlClearBits [0x7775BB1F+191]\n"
     ]
    }
   ],
   "source": [
    "Rank=[]\n",
    "\n",
    "for url in product_urls[:10]:\n",
    "    driver.get(url)\n",
    "    time.sleep(2)\n",
    "    try:\n",
    "        rank = driver.find_element(By.CLASS_NAME,'//div[@class=\"table-row-group\"]')\n",
    "        Rank.append(rank.text)\n",
    "    except NoSuchElementException:\n",
    "        Rank.append('-')\n",
    "        "
   ]
  },
  {
   "cell_type": "code",
   "execution_count": 67,
   "id": "e7a10df7",
   "metadata": {},
   "outputs": [
    {
     "data": {
      "text/plain": [
       "1"
      ]
     },
     "execution_count": 67,
     "metadata": {},
     "output_type": "execute_result"
    }
   ],
   "source": [
    "len(Rank)"
   ]
  },
  {
   "cell_type": "code",
   "execution_count": 68,
   "id": "8e896890",
   "metadata": {},
   "outputs": [
    {
     "data": {
      "text/html": [
       "<div>\n",
       "<style scoped>\n",
       "    .dataframe tbody tr th:only-of-type {\n",
       "        vertical-align: middle;\n",
       "    }\n",
       "\n",
       "    .dataframe tbody tr th {\n",
       "        vertical-align: top;\n",
       "    }\n",
       "\n",
       "    .dataframe thead th {\n",
       "        text-align: right;\n",
       "    }\n",
       "</style>\n",
       "<table border=\"1\" class=\"dataframe\">\n",
       "  <thead>\n",
       "    <tr style=\"text-align: right;\">\n",
       "      <th></th>\n",
       "      <th>Rank</th>\n",
       "    </tr>\n",
       "  </thead>\n",
       "  <tbody>\n",
       "    <tr>\n",
       "      <th>0</th>\n",
       "      <td>1.\\nElon Musk\\n$219 B\\n50\\nUnited States\\nTesl...</td>\n",
       "    </tr>\n",
       "  </tbody>\n",
       "</table>\n",
       "</div>"
      ],
      "text/plain": [
       "                                                Rank\n",
       "0  1.\\nElon Musk\\n$219 B\\n50\\nUnited States\\nTesl..."
      ]
     },
     "execution_count": 68,
     "metadata": {},
     "output_type": "execute_result"
    }
   ],
   "source": [
    "df = pd.DataFrame({'Rank':Rank})\n",
    "df"
   ]
  },
  {
   "cell_type": "code",
   "execution_count": null,
   "id": "48f4a105",
   "metadata": {},
   "outputs": [],
   "source": []
  }
 ],
 "metadata": {
  "kernelspec": {
   "display_name": "Python 3 (ipykernel)",
   "language": "python",
   "name": "python3"
  },
  "language_info": {
   "codemirror_mode": {
    "name": "ipython",
    "version": 3
   },
   "file_extension": ".py",
   "mimetype": "text/x-python",
   "name": "python",
   "nbconvert_exporter": "python",
   "pygments_lexer": "ipython3",
   "version": "3.9.12"
  }
 },
 "nbformat": 4,
 "nbformat_minor": 5
}
