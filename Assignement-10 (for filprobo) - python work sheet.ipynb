{
 "cells": [
  {
   "cell_type": "markdown",
   "id": "ebf57f40",
   "metadata": {},
   "source": [
    "1) Which of the following will raise a value error in python?\n",
    "\n",
    "A) int(32) B) int(3.2) \n",
    "\n",
    "C) int(-3.2) D) int(‘32’) \n",
    "\n",
    "Ans - C"
   ]
  },
  {
   "cell_type": "markdown",
   "id": "e6ce190d",
   "metadata": {},
   "source": [
    "2) What will be the output of round(3.567)? \n",
    "\n",
    "A) 3.5 B) 3.0 \n",
    "\n",
    "C) 4 D) 3\n",
    "\n",
    "Ans - C"
   ]
  },
  {
   "cell_type": "markdown",
   "id": "69403cc3",
   "metadata": {},
   "source": [
    "3)How is the function pow(a,b,c) evaluated in python? \n",
    "\n",
    "A) a**b**c B) (a**b)%c \n",
    "\n",
    "C) (a**b)*c D) (a**b)**c \n",
    "\n",
    "Ans - B"
   ]
  },
  {
   "cell_type": "markdown",
   "id": "2b549eda",
   "metadata": {},
   "source": [
    "4) What will be the output of print(type(type(int))) in python 3? \n",
    "\n",
    "A) <class ‘type’> B) <type ‘type’> \n",
    "\n",
    "C) <class ‘int’> D) <type ‘int’> \n",
    "\n",
    "Ans-B"
   ]
  },
  {
   "cell_type": "markdown",
   "id": "ecb19f60",
   "metadata": {},
   "source": [
    "5) What will be the output of ord(chr(65))?\n",
    "\n",
    "A) ‘A’ B) ‘a’ \n",
    "\n",
    "C) 65 D) TypeError\n",
    "\n",
    "Ans - C"
   ]
  },
  {
   "cell_type": "markdown",
   "id": "586bd337",
   "metadata": {},
   "source": [
    "6)What is called when a function is defined inside a class? \n",
    "\n",
    "A) Module B) Function \n",
    "\n",
    "C) _init_ function D) Method\n",
    "\n",
    "Ans - C\n"
   ]
  },
  {
   "cell_type": "markdown",
   "id": "86c12c2b",
   "metadata": {},
   "source": [
    "7)What will be the output of all([1, 0, 5 ,7])? \n",
    "\n",
    "A) 0 B) False \n",
    "\n",
    "C) True D) error \n",
    "\n",
    "Ans - B"
   ]
  },
  {
   "cell_type": "markdown",
   "id": "4e69f55a",
   "metadata": {},
   "source": [
    "8)Is the output of the function abs() the same as that of the function math.fabs()?\n",
    "\n",
    "A) Always B) Sometimes \n",
    "\n",
    "C) Never D) None of these \n",
    "\n",
    "Ans - D"
   ]
  },
  {
   "cell_type": "markdown",
   "id": "9d560c17",
   "metadata": {},
   "source": [
    "9)Select all correct float numbers in python? \n",
    "\n",
    "A) -68.7e100 B) 42e3 \n",
    "\n",
    "C) 4.2038 D) 3.0 \n",
    "\n",
    "Ans - ABCD"
   ]
  },
  {
   "cell_type": "markdown",
   "id": "bd92fe1e",
   "metadata": {},
   "source": [
    "10) Which of the following is(are) correct statement(s) in python? \n",
    "\n",
    "A) You can pass positional arguments in any order. \n",
    "\n",
    "B) You can pass keyword arguments in any order. \n",
    "\n",
    "C) You can call a function with positional and keyword arguments. \n",
    "\n",
    "D) Positional arguments must be before keyword arguments in a function call \n",
    "\n",
    "Ans - ABC"
   ]
  },
  {
   "cell_type": "markdown",
   "id": "558bd596",
   "metadata": {},
   "source": [
    "11) Write a python function print pyramid of stars. Level of the pyramid should be taken as an input from the \n",
    "user. E.g. \n",
    "Input = 5 \n",
    "Output\n",
    "\n",
    "\n",
    "\n",
    "\n"
   ]
  },
  {
   "cell_type": "code",
   "execution_count": 8,
   "id": "fe255aca",
   "metadata": {},
   "outputs": [
    {
     "name": "stdout",
     "output_type": "stream",
     "text": [
      "Enter the number of levels: 6\n",
      "     *\n",
      "    ***\n",
      "   *****\n",
      "  *******\n",
      " *********\n",
      "***********\n"
     ]
    }
   ],
   "source": [
    "def print_pyramid(num_levels):\n",
    "    # Loop through each level of the pyramid\n",
    "    for i in range(num_levels):\n",
    "        # Calculate the number of spaces and stars for this level\n",
    "        num_spaces = num_levels - i - 1\n",
    "        num_stars = 2 * i + 1\n",
    "        \n",
    "        # Print the spaces and stars for this level\n",
    "        print(' ' * num_spaces + '*' * num_stars)\n",
    "\n",
    "# Prompt the user for the number of levels and print the pyramid\n",
    "num_levels = int(input(\"Enter the number of levels: \"))\n",
    "print_pyramid(num_levels)\n"
   ]
  },
  {
   "cell_type": "markdown",
   "id": "cd15c683",
   "metadata": {},
   "source": [
    "12) Write a python function print Hourglass pattern. \n",
    "E.g. \n",
    "Input = 5 \n",
    "Output: "
   ]
  },
  {
   "cell_type": "code",
   "execution_count": 9,
   "id": "306a28ef",
   "metadata": {},
   "outputs": [
    {
     "name": "stdout",
     "output_type": "stream",
     "text": [
      "Enter the number of levels: 7\n",
      "*************\n",
      " ***********\n",
      "  *********\n",
      "   *******\n",
      "    *****\n",
      "     ***\n",
      "      *\n",
      "     ***\n",
      "    *****\n",
      "   *******\n",
      "  *********\n",
      " ***********\n",
      "*************\n"
     ]
    }
   ],
   "source": [
    "def print_hourglass(num_levels):\n",
    "    # Loop through each level of the hourglass\n",
    "    for i in range(num_levels, 0, -1):\n",
    "        # Calculate the number of spaces and stars for this level\n",
    "        num_spaces = num_levels - i\n",
    "        num_stars = 2 * i - 1\n",
    "        \n",
    "        # Print the spaces and stars for this level\n",
    "        print(' ' * num_spaces + '*' * num_stars)\n",
    "    \n",
    "    for i in range(2, num_levels + 1):\n",
    "        # Calculate the number of spaces and stars for this level\n",
    "        num_spaces = num_levels - i\n",
    "        num_stars = 2 * i - 1\n",
    "        \n",
    "        # Print the spaces and stars for this level\n",
    "        print(' ' * num_spaces + '*' * num_stars)\n",
    "\n",
    "# Prompt the user for the number of levels and print the hourglass\n",
    "num_levels = int(input(\"Enter the number of levels: \"))\n",
    "print_hourglass(num_levels)\n",
    "\n"
   ]
  },
  {
   "cell_type": "markdown",
   "id": "69d67e7a",
   "metadata": {},
   "source": [
    "13) Write a python function to print Pascal’s Triangle. The number of levels in the triangle must be taken as input \n",
    "by the user. E.g. \n",
    "Input = 5 \n",
    "Output: \n",
    "1 \n",
    "1 1 \n",
    "1 2 1 \n",
    "1 3 3 1 \n",
    "1 4 6 4 1"
   ]
  },
  {
   "cell_type": "code",
   "execution_count": 10,
   "id": "094e30ba",
   "metadata": {},
   "outputs": [
    {
     "name": "stdout",
     "output_type": "stream",
     "text": [
      "Enter the number of levels: 6\n",
      "1 \n",
      "1 1 \n",
      "1 2 1 \n",
      "1 3 3 1 \n",
      "1 4 6 4 1 \n",
      "1 5 10 10 5 1 \n"
     ]
    }
   ],
   "source": [
    "def print_pascal_triangle(num_levels):\n",
    "    # Create a 2D list to store the triangle\n",
    "    triangle = [[1]]\n",
    "    \n",
    "    # Loop through each level of the triangle\n",
    "    for i in range(1, num_levels):\n",
    "        # Create a new row for this level\n",
    "        row = [1]\n",
    "        \n",
    "        # Loop through the previous row to calculate the current row\n",
    "        for j in range(1, i):\n",
    "            row.append(triangle[i-1][j-1] + triangle[i-1][j])\n",
    "        \n",
    "        # Add the final 1 to the row\n",
    "        row.append(1)\n",
    "        \n",
    "        # Add the row to the triangle\n",
    "        triangle.append(row)\n",
    "    \n",
    "    # Print the triangle\n",
    "    for row in triangle:\n",
    "        for num in row:\n",
    "            print(num, end=' ')\n",
    "        print()\n",
    "\n",
    "# Prompt the user for the number of levels and print the triangle\n",
    "num_levels = int(input(\"Enter the number of levels: \"))\n",
    "print_pascal_triangle(num_levels)\n"
   ]
  },
  {
   "cell_type": "markdown",
   "id": "8a0a1595",
   "metadata": {},
   "source": [
    "14) Write a python function to print Diamond Shaped Pattern shown below. Function must take integer input \n",
    "which represents the number of stars in the middle most line. E.g.: \n",
    "Input = 5 \n",
    "Output:"
   ]
  },
  {
   "cell_type": "code",
   "execution_count": 11,
   "id": "2e1d5864",
   "metadata": {},
   "outputs": [
    {
     "name": "stdout",
     "output_type": "stream",
     "text": [
      "Enter the number of stars: 8\n",
      "       *\n",
      "      ***\n",
      "     *****\n",
      "    *******\n",
      "   *********\n",
      "  ***********\n",
      " *************\n",
      "***************\n",
      " *************\n",
      "  ***********\n",
      "   *********\n",
      "    *******\n",
      "     *****\n",
      "      ***\n",
      "       *\n"
     ]
    }
   ],
   "source": [
    "def print_diamond(num_stars):\n",
    "    # Upper half of diamond\n",
    "    for i in range(num_stars):\n",
    "        # Print spaces before stars\n",
    "        print(' ' * (num_stars - i - 1), end='')\n",
    "        \n",
    "        # Print stars\n",
    "        print('*' * (2*i + 1))\n",
    "        \n",
    "    # Lower half of diamond\n",
    "    for i in range(num_stars-2, -1, -1):\n",
    "        # Print spaces before stars\n",
    "        print(' ' * (num_stars - i - 1), end='')\n",
    "        \n",
    "        # Print stars\n",
    "        print('*' * (2*i + 1))\n",
    "\n",
    "# Prompt the user for the number of stars and print the diamond\n",
    "num_stars = int(input(\"Enter the number of stars: \"))\n",
    "print_diamond(num_stars)\n"
   ]
  },
  {
   "cell_type": "markdown",
   "id": "efb1feed",
   "metadata": {},
   "source": [
    "15) Write a python function to print Diamond Shaped Character Pattern shown below. Function must take integer \n",
    "input within range 1 to 26, which represents the rank of the alphabet. E.g.: \n",
    "Input = 5 \n",
    "Output"
   ]
  },
  {
   "cell_type": "code",
   "execution_count": 14,
   "id": "1032ca53",
   "metadata": {},
   "outputs": [
    {
     "ename": "KeyboardInterrupt",
     "evalue": "Interrupted by user",
     "output_type": "error",
     "traceback": [
      "\u001b[1;31m---------------------------------------------------------------------------\u001b[0m",
      "\u001b[1;31mKeyboardInterrupt\u001b[0m                         Traceback (most recent call last)",
      "Input \u001b[1;32mIn [14]\u001b[0m, in \u001b[0;36m<cell line: 32>\u001b[1;34m()\u001b[0m\n\u001b[0;32m     29\u001b[0m         \u001b[38;5;28mprint\u001b[39m()\n\u001b[0;32m     31\u001b[0m \u001b[38;5;66;03m# Prompt the user for the rank of the alphabet and print the diamond\u001b[39;00m\n\u001b[1;32m---> 32\u001b[0m rank \u001b[38;5;241m=\u001b[39m \u001b[38;5;28mint\u001b[39m(\u001b[38;5;28;43minput\u001b[39;49m\u001b[43m(\u001b[49m\u001b[38;5;124;43m\"\u001b[39;49m\u001b[38;5;124;43mEnter the rank of the alphabet (1-26): \u001b[39;49m\u001b[38;5;124;43m\"\u001b[39;49m\u001b[43m)\u001b[49m)\n\u001b[0;32m     33\u001b[0m print_diamond_char(rank)\n",
      "File \u001b[1;32mC:\\anaconda\\lib\\site-packages\\ipykernel\\kernelbase.py:1075\u001b[0m, in \u001b[0;36mKernel.raw_input\u001b[1;34m(self, prompt)\u001b[0m\n\u001b[0;32m   1071\u001b[0m \u001b[38;5;28;01mif\u001b[39;00m \u001b[38;5;129;01mnot\u001b[39;00m \u001b[38;5;28mself\u001b[39m\u001b[38;5;241m.\u001b[39m_allow_stdin:\n\u001b[0;32m   1072\u001b[0m     \u001b[38;5;28;01mraise\u001b[39;00m StdinNotImplementedError(\n\u001b[0;32m   1073\u001b[0m         \u001b[38;5;124m\"\u001b[39m\u001b[38;5;124mraw_input was called, but this frontend does not support input requests.\u001b[39m\u001b[38;5;124m\"\u001b[39m\n\u001b[0;32m   1074\u001b[0m     )\n\u001b[1;32m-> 1075\u001b[0m \u001b[38;5;28;01mreturn\u001b[39;00m \u001b[38;5;28;43mself\u001b[39;49m\u001b[38;5;241;43m.\u001b[39;49m\u001b[43m_input_request\u001b[49m\u001b[43m(\u001b[49m\n\u001b[0;32m   1076\u001b[0m \u001b[43m    \u001b[49m\u001b[38;5;28;43mstr\u001b[39;49m\u001b[43m(\u001b[49m\u001b[43mprompt\u001b[49m\u001b[43m)\u001b[49m\u001b[43m,\u001b[49m\n\u001b[0;32m   1077\u001b[0m \u001b[43m    \u001b[49m\u001b[38;5;28;43mself\u001b[39;49m\u001b[38;5;241;43m.\u001b[39;49m\u001b[43m_parent_ident\u001b[49m\u001b[43m[\u001b[49m\u001b[38;5;124;43m\"\u001b[39;49m\u001b[38;5;124;43mshell\u001b[39;49m\u001b[38;5;124;43m\"\u001b[39;49m\u001b[43m]\u001b[49m\u001b[43m,\u001b[49m\n\u001b[0;32m   1078\u001b[0m \u001b[43m    \u001b[49m\u001b[38;5;28;43mself\u001b[39;49m\u001b[38;5;241;43m.\u001b[39;49m\u001b[43mget_parent\u001b[49m\u001b[43m(\u001b[49m\u001b[38;5;124;43m\"\u001b[39;49m\u001b[38;5;124;43mshell\u001b[39;49m\u001b[38;5;124;43m\"\u001b[39;49m\u001b[43m)\u001b[49m\u001b[43m,\u001b[49m\n\u001b[0;32m   1079\u001b[0m \u001b[43m    \u001b[49m\u001b[43mpassword\u001b[49m\u001b[38;5;241;43m=\u001b[39;49m\u001b[38;5;28;43;01mFalse\u001b[39;49;00m\u001b[43m,\u001b[49m\n\u001b[0;32m   1080\u001b[0m \u001b[43m\u001b[49m\u001b[43m)\u001b[49m\n",
      "File \u001b[1;32mC:\\anaconda\\lib\\site-packages\\ipykernel\\kernelbase.py:1120\u001b[0m, in \u001b[0;36mKernel._input_request\u001b[1;34m(self, prompt, ident, parent, password)\u001b[0m\n\u001b[0;32m   1117\u001b[0m             \u001b[38;5;28;01mbreak\u001b[39;00m\n\u001b[0;32m   1118\u001b[0m \u001b[38;5;28;01mexcept\u001b[39;00m \u001b[38;5;167;01mKeyboardInterrupt\u001b[39;00m:\n\u001b[0;32m   1119\u001b[0m     \u001b[38;5;66;03m# re-raise KeyboardInterrupt, to truncate traceback\u001b[39;00m\n\u001b[1;32m-> 1120\u001b[0m     \u001b[38;5;28;01mraise\u001b[39;00m \u001b[38;5;167;01mKeyboardInterrupt\u001b[39;00m(\u001b[38;5;124m\"\u001b[39m\u001b[38;5;124mInterrupted by user\u001b[39m\u001b[38;5;124m\"\u001b[39m) \u001b[38;5;28;01mfrom\u001b[39;00m \u001b[38;5;28mNone\u001b[39m\n\u001b[0;32m   1121\u001b[0m \u001b[38;5;28;01mexcept\u001b[39;00m \u001b[38;5;167;01mException\u001b[39;00m:\n\u001b[0;32m   1122\u001b[0m     \u001b[38;5;28mself\u001b[39m\u001b[38;5;241m.\u001b[39mlog\u001b[38;5;241m.\u001b[39mwarning(\u001b[38;5;124m\"\u001b[39m\u001b[38;5;124mInvalid Message:\u001b[39m\u001b[38;5;124m\"\u001b[39m, exc_info\u001b[38;5;241m=\u001b[39m\u001b[38;5;28;01mTrue\u001b[39;00m)\n",
      "\u001b[1;31mKeyboardInterrupt\u001b[0m: Interrupted by user"
     ]
    }
   ],
   "source": [
    "def print_diamond_char(rank):\n",
    "    # Convert rank to character\n",
    "    char = chr(ord('A') + rank - 1)\n",
    "    \n",
    "    # Upper half of diamond\n",
    "    for i in range(rank):\n",
    "        # Print spaces before characters\n",
    "        print(' ' * (rank - i - 1), end='')\n",
    "        \n",
    "        # Print characters\n",
    "        for j in range(i + 1):\n",
    "            print(chr(ord(char) - j), end='')\n",
    "        for j in range(i):\n",
    "            print(chr(ord(char) - i + j + 1), end='')\n",
    "        \n",
    "        print()\n",
    "        \n",
    "    # Lower half of diamond\n",
    "    for i in range(rank-2, -1, -1):\n",
    "        # Print spaces before characters\n",
    "        print(' ' * (rank - i - 1), end='')\n",
    "        \n",
    "        # Print characters\n",
    "        for j in range(i + 1):\n",
    "            print(chr(ord(char) - j), end='')\n",
    "        for j in range(i):\n",
    "            print(chr(ord(char) - i + j + 1), end='')\n",
    "        \n",
    "        print()\n",
    "\n",
    "# Prompt the user for the rank of the alphabet and print the diamond\n",
    "rank = int(input(\"Enter the rank of the alphabet (1-26): \"))\n",
    "print_diamond_char(rank)\n"
   ]
  },
  {
   "cell_type": "code",
   "execution_count": null,
   "id": "2d927430",
   "metadata": {},
   "outputs": [],
   "source": []
  },
  {
   "cell_type": "code",
   "execution_count": null,
   "id": "e7566990",
   "metadata": {},
   "outputs": [],
   "source": []
  }
 ],
 "metadata": {
  "kernelspec": {
   "display_name": "Python 3 (ipykernel)",
   "language": "python",
   "name": "python3"
  },
  "language_info": {
   "codemirror_mode": {
    "name": "ipython",
    "version": 3
   },
   "file_extension": ".py",
   "mimetype": "text/x-python",
   "name": "python",
   "nbconvert_exporter": "python",
   "pygments_lexer": "ipython3",
   "version": "3.9.12"
  }
 },
 "nbformat": 4,
 "nbformat_minor": 5
}
