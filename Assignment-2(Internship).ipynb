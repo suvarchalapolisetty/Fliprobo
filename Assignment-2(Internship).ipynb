{
 "cells": [
  {
   "cell_type": "markdown",
   "id": "c274d547",
   "metadata": {},
   "source": [
    "# Q-1)"
   ]
  },
  {
   "cell_type": "markdown",
   "id": "0663eea1",
   "metadata": {},
   "source": [
    "# Installing Selinium and required libraries"
   ]
  },
  {
   "cell_type": "code",
   "execution_count": 30,
   "id": "25ab910d",
   "metadata": {},
   "outputs": [
    {
     "name": "stdout",
     "output_type": "stream",
     "text": [
      "Requirement already satisfied: selenium in c:\\anaconda\\lib\\site-packages (4.7.2)\n",
      "Requirement already satisfied: urllib3[socks]~=1.26 in c:\\anaconda\\lib\\site-packages (from selenium) (1.26.9)\n",
      "Requirement already satisfied: trio-websocket~=0.9 in c:\\anaconda\\lib\\site-packages (from selenium) (0.9.2)\n",
      "Requirement already satisfied: certifi>=2021.10.8 in c:\\anaconda\\lib\\site-packages (from selenium) (2021.10.8)\n",
      "Requirement already satisfied: trio~=0.17 in c:\\anaconda\\lib\\site-packages (from selenium) (0.22.0)\n",
      "Requirement already satisfied: sniffio in c:\\anaconda\\lib\\site-packages (from trio~=0.17->selenium) (1.2.0)\n",
      "Requirement already satisfied: sortedcontainers in c:\\anaconda\\lib\\site-packages (from trio~=0.17->selenium) (2.4.0)\n",
      "Requirement already satisfied: cffi>=1.14 in c:\\anaconda\\lib\\site-packages (from trio~=0.17->selenium) (1.15.0)\n",
      "Requirement already satisfied: attrs>=19.2.0 in c:\\anaconda\\lib\\site-packages (from trio~=0.17->selenium) (21.4.0)\n",
      "Requirement already satisfied: outcome in c:\\anaconda\\lib\\site-packages (from trio~=0.17->selenium) (1.2.0)\n",
      "Requirement already satisfied: idna in c:\\anaconda\\lib\\site-packages (from trio~=0.17->selenium) (3.3)\n",
      "Requirement already satisfied: async-generator>=1.9 in c:\\anaconda\\lib\\site-packages (from trio~=0.17->selenium) (1.10)\n",
      "Requirement already satisfied: exceptiongroup>=1.0.0rc9 in c:\\anaconda\\lib\\site-packages (from trio~=0.17->selenium) (1.0.4)\n",
      "Requirement already satisfied: pycparser in c:\\anaconda\\lib\\site-packages (from cffi>=1.14->trio~=0.17->selenium) (2.21)\n",
      "Requirement already satisfied: wsproto>=0.14 in c:\\anaconda\\lib\\site-packages (from trio-websocket~=0.9->selenium) (1.2.0)\n",
      "Requirement already satisfied: PySocks!=1.5.7,<2.0,>=1.5.6 in c:\\anaconda\\lib\\site-packages (from urllib3[socks]~=1.26->selenium) (1.7.1)\n",
      "Requirement already satisfied: h11<1,>=0.9.0 in c:\\anaconda\\lib\\site-packages (from wsproto>=0.14->trio-websocket~=0.9->selenium) (0.14.0)\n"
     ]
    }
   ],
   "source": [
    "!pip install selenium"
   ]
  },
  {
   "cell_type": "code",
   "execution_count": 31,
   "id": "93e5369b",
   "metadata": {},
   "outputs": [],
   "source": [
    "import selenium\n",
    "import pandas as pd\n",
    "from selenium import webdriver \n",
    "import warnings\n",
    "warnings.filterwarnings('ignore')\n",
    "from selenium.common.exceptions import StaleElementReferenceException,NoSuchElementException\n",
    "from selenium.webdriver.common.by import By\n",
    "import time"
   ]
  },
  {
   "cell_type": "code",
   "execution_count": 32,
   "id": "65b5071a",
   "metadata": {},
   "outputs": [],
   "source": [
    "#Let's Connect the driver:-\n",
    "driver = webdriver.Chrome(r\"C:\\Users\\SUVARCHALA\\Downloads\\chromedriver_win32.chromedriver.exe\")"
   ]
  },
  {
   "cell_type": "code",
   "execution_count": 33,
   "id": "8cc98864",
   "metadata": {},
   "outputs": [],
   "source": [
    "# Opening the Naukri page on automated chrome browser\n",
    "driver.get(\"http://www.naukri.com/\")"
   ]
  },
  {
   "cell_type": "code",
   "execution_count": 34,
   "id": "45f81de9",
   "metadata": {},
   "outputs": [],
   "source": [
    "#entering designation and locations as required in the question-\n",
    "designation=driver.find_element(By.CLASS_NAME,\"suggestor-input\")\n",
    "designation.send_keys('Data Analyst')\n"
   ]
  },
  {
   "cell_type": "code",
   "execution_count": 35,
   "id": "8d24c371",
   "metadata": {},
   "outputs": [],
   "source": [
    "location = driver.find_element(By.XPATH,\"/html/body/div[1]/div[6]/div/div/div[5]/div/div/div/input\")\n",
    "location.send_keys('Bangalore')\n"
   ]
  },
  {
   "cell_type": "code",
   "execution_count": 36,
   "id": "4a7a46a9",
   "metadata": {},
   "outputs": [],
   "source": [
    "search = driver.find_element(By.CLASS_NAME,\"qsbSubmit\")\n",
    "search.click()"
   ]
  },
  {
   "cell_type": "code",
   "execution_count": 37,
   "id": "c7745180",
   "metadata": {},
   "outputs": [],
   "source": [
    "Job_Title=[]\n",
    "Job_Location=[]\n",
    "Company_NAME=[]\n",
    "Experience_Required=[]"
   ]
  },
  {
   "cell_type": "code",
   "execution_count": 38,
   "id": "870f19b3",
   "metadata": {},
   "outputs": [],
   "source": [
    "#Scraping Job Title from the given Page\n",
    "title_tags = driver.find_elements(By.XPATH,'//a[@class=\"title fw500 ellipsis\"]')\n",
    "for i in title_tags[0:10]:\n",
    "    title = i.text\n",
    "    Job_Title.append(title)\n",
    "    \n",
    "#Scraping Job location from the given page\n",
    "location_tags = driver.find_elements(By.XPATH,\"//li[@class='fleft grey-text br2 placeHolderLi location']\")\n",
    "for i in location_tags[0:10]:\n",
    "    location = i.text\n",
    "    Job_Location.append(location)\n",
    "    \n",
    "#Scraping company name from the given page\n",
    "company_tags = driver.find_elements(By.XPATH,\"//a[@class='subTitle ellipsis fleft']\")\n",
    "for i in company_tags[0:10]:\n",
    "    company = i.text\n",
    "    Company_NAME.append(company)\n",
    "    \n",
    "#Scraping Job Experience from the given page\n",
    "experience_tags = driver.find_elements(By.XPATH,\"//li[@class='fleft grey-text br2 placeHolderLi experience']//span\")\n",
    "for i in experience_tags[0:10]:\n",
    "    exp = i.text\n",
    "    Experience_Required.append(exp)"
   ]
  },
  {
   "cell_type": "code",
   "execution_count": 39,
   "id": "3587fdd6",
   "metadata": {},
   "outputs": [
    {
     "name": "stdout",
     "output_type": "stream",
     "text": [
      "10 10 10 10\n"
     ]
    }
   ],
   "source": [
    "print(len(Job_Title),len(Job_Location),len(Company_NAME),len(Experience_Required))"
   ]
  },
  {
   "cell_type": "code",
   "execution_count": 40,
   "id": "5c9818e7",
   "metadata": {},
   "outputs": [
    {
     "data": {
      "text/html": [
       "<div>\n",
       "<style scoped>\n",
       "    .dataframe tbody tr th:only-of-type {\n",
       "        vertical-align: middle;\n",
       "    }\n",
       "\n",
       "    .dataframe tbody tr th {\n",
       "        vertical-align: top;\n",
       "    }\n",
       "\n",
       "    .dataframe thead th {\n",
       "        text-align: right;\n",
       "    }\n",
       "</style>\n",
       "<table border=\"1\" class=\"dataframe\">\n",
       "  <thead>\n",
       "    <tr style=\"text-align: right;\">\n",
       "      <th></th>\n",
       "      <th>Job_Title</th>\n",
       "      <th>Job_location</th>\n",
       "      <th>Comapny_Name</th>\n",
       "      <th>Exp_required</th>\n",
       "    </tr>\n",
       "  </thead>\n",
       "  <tbody>\n",
       "    <tr>\n",
       "      <th>0</th>\n",
       "      <td>Data Analyst</td>\n",
       "      <td>Bangalore/Bengaluru</td>\n",
       "      <td>ANZ</td>\n",
       "      <td>1-4 Yrs</td>\n",
       "    </tr>\n",
       "    <tr>\n",
       "      <th>1</th>\n",
       "      <td>Data Analyst</td>\n",
       "      <td>Bangalore/Bengaluru</td>\n",
       "      <td>ANZ</td>\n",
       "      <td>1-5 Yrs</td>\n",
       "    </tr>\n",
       "    <tr>\n",
       "      <th>2</th>\n",
       "      <td>Sr. Data Analyst</td>\n",
       "      <td>Bangalore/Bengaluru</td>\n",
       "      <td>MM STAFFING CAREER CONSULTANTS PRIVATE LIMITED</td>\n",
       "      <td>5-8 Yrs</td>\n",
       "    </tr>\n",
       "    <tr>\n",
       "      <th>3</th>\n",
       "      <td>Senior Data Analyst | Neiman Marcus Group</td>\n",
       "      <td>Bangalore/Bengaluru</td>\n",
       "      <td>Talent500</td>\n",
       "      <td>6-11 Yrs</td>\n",
       "    </tr>\n",
       "    <tr>\n",
       "      <th>4</th>\n",
       "      <td>Senior Data Analyst II</td>\n",
       "      <td>Bangalore/Bengaluru</td>\n",
       "      <td>Flipkart</td>\n",
       "      <td>2-4 Yrs</td>\n",
       "    </tr>\n",
       "    <tr>\n",
       "      <th>5</th>\n",
       "      <td>Senior Data Management Analyst</td>\n",
       "      <td>Bangalore/Bengaluru</td>\n",
       "      <td>Wells Fargo</td>\n",
       "      <td>1-12 Yrs</td>\n",
       "    </tr>\n",
       "    <tr>\n",
       "      <th>6</th>\n",
       "      <td>Senior Analyst - Data Management</td>\n",
       "      <td>Bangalore/Bengaluru</td>\n",
       "      <td>Accenture</td>\n",
       "      <td>5-8 Yrs</td>\n",
       "    </tr>\n",
       "    <tr>\n",
       "      <th>7</th>\n",
       "      <td>Data Analyst</td>\n",
       "      <td>Bangalore/Bengaluru</td>\n",
       "      <td>MM STAFFING CAREER CONSULTANTS PRIVATE LIMITED</td>\n",
       "      <td>5-7 Yrs</td>\n",
       "    </tr>\n",
       "    <tr>\n",
       "      <th>8</th>\n",
       "      <td>Sr Data Analyst - Tableau</td>\n",
       "      <td>Bangalore/Bengaluru</td>\n",
       "      <td>S.A.W IT Services Pvt Ltd</td>\n",
       "      <td>2-5 Yrs</td>\n",
       "    </tr>\n",
       "    <tr>\n",
       "      <th>9</th>\n",
       "      <td>Project Data Analyst</td>\n",
       "      <td>Bangalore/Bengaluru</td>\n",
       "      <td>WSP</td>\n",
       "      <td>0-4 Yrs</td>\n",
       "    </tr>\n",
       "  </tbody>\n",
       "</table>\n",
       "</div>"
      ],
      "text/plain": [
       "                                   Job_Title         Job_location  \\\n",
       "0                               Data Analyst  Bangalore/Bengaluru   \n",
       "1                               Data Analyst  Bangalore/Bengaluru   \n",
       "2                           Sr. Data Analyst  Bangalore/Bengaluru   \n",
       "3  Senior Data Analyst | Neiman Marcus Group  Bangalore/Bengaluru   \n",
       "4                     Senior Data Analyst II  Bangalore/Bengaluru   \n",
       "5             Senior Data Management Analyst  Bangalore/Bengaluru   \n",
       "6           Senior Analyst - Data Management  Bangalore/Bengaluru   \n",
       "7                               Data Analyst  Bangalore/Bengaluru   \n",
       "8                  Sr Data Analyst - Tableau  Bangalore/Bengaluru   \n",
       "9                       Project Data Analyst  Bangalore/Bengaluru   \n",
       "\n",
       "                                     Comapny_Name Exp_required  \n",
       "0                                             ANZ      1-4 Yrs  \n",
       "1                                             ANZ      1-5 Yrs  \n",
       "2  MM STAFFING CAREER CONSULTANTS PRIVATE LIMITED      5-8 Yrs  \n",
       "3                                       Talent500     6-11 Yrs  \n",
       "4                                        Flipkart      2-4 Yrs  \n",
       "5                                     Wells Fargo     1-12 Yrs  \n",
       "6                                       Accenture      5-8 Yrs  \n",
       "7  MM STAFFING CAREER CONSULTANTS PRIVATE LIMITED      5-7 Yrs  \n",
       "8                       S.A.W IT Services Pvt Ltd      2-5 Yrs  \n",
       "9                                             WSP      0-4 Yrs  "
      ]
     },
     "execution_count": 40,
     "metadata": {},
     "output_type": "execute_result"
    }
   ],
   "source": [
    "#creating the DataFrame from the above data:-\n",
    "\n",
    "df = pd.DataFrame({'Job_Title':Job_Title,'Job_location':Job_Location,'Comapny_Name':Company_NAME,'Exp_required':Experience_Required})\n",
    "df"
   ]
  },
  {
   "cell_type": "markdown",
   "id": "37958c3c",
   "metadata": {},
   "source": [
    "# Q-2)"
   ]
  },
  {
   "cell_type": "code",
   "execution_count": 41,
   "id": "a7ee324a",
   "metadata": {},
   "outputs": [
    {
     "name": "stdout",
     "output_type": "stream",
     "text": [
      "Requirement already satisfied: selenium in c:\\anaconda\\lib\\site-packages (4.7.2)\n",
      "Requirement already satisfied: trio~=0.17 in c:\\anaconda\\lib\\site-packages (from selenium) (0.22.0)\n",
      "Requirement already satisfied: trio-websocket~=0.9 in c:\\anaconda\\lib\\site-packages (from selenium) (0.9.2)\n",
      "Requirement already satisfied: certifi>=2021.10.8 in c:\\anaconda\\lib\\site-packages (from selenium) (2021.10.8)\n",
      "Requirement already satisfied: urllib3[socks]~=1.26 in c:\\anaconda\\lib\\site-packages (from selenium) (1.26.9)\n",
      "Requirement already satisfied: attrs>=19.2.0 in c:\\anaconda\\lib\\site-packages (from trio~=0.17->selenium) (21.4.0)\n",
      "Requirement already satisfied: outcome in c:\\anaconda\\lib\\site-packages (from trio~=0.17->selenium) (1.2.0)\n",
      "Requirement already satisfied: cffi>=1.14 in c:\\anaconda\\lib\\site-packages (from trio~=0.17->selenium) (1.15.0)\n",
      "Requirement already satisfied: sniffio in c:\\anaconda\\lib\\site-packages (from trio~=0.17->selenium) (1.2.0)\n",
      "Requirement already satisfied: sortedcontainers in c:\\anaconda\\lib\\site-packages (from trio~=0.17->selenium) (2.4.0)\n",
      "Requirement already satisfied: async-generator>=1.9 in c:\\anaconda\\lib\\site-packages (from trio~=0.17->selenium) (1.10)\n",
      "Requirement already satisfied: exceptiongroup>=1.0.0rc9 in c:\\anaconda\\lib\\site-packages (from trio~=0.17->selenium) (1.0.4)\n",
      "Requirement already satisfied: idna in c:\\anaconda\\lib\\site-packages (from trio~=0.17->selenium) (3.3)\n",
      "Requirement already satisfied: pycparser in c:\\anaconda\\lib\\site-packages (from cffi>=1.14->trio~=0.17->selenium) (2.21)\n",
      "Requirement already satisfied: wsproto>=0.14 in c:\\anaconda\\lib\\site-packages (from trio-websocket~=0.9->selenium) (1.2.0)\n",
      "Requirement already satisfied: PySocks!=1.5.7,<2.0,>=1.5.6 in c:\\anaconda\\lib\\site-packages (from urllib3[socks]~=1.26->selenium) (1.7.1)\n",
      "Requirement already satisfied: h11<1,>=0.9.0 in c:\\anaconda\\lib\\site-packages (from wsproto>=0.14->trio-websocket~=0.9->selenium) (0.14.0)\n"
     ]
    }
   ],
   "source": [
    "!pip install selenium"
   ]
  },
  {
   "cell_type": "code",
   "execution_count": 42,
   "id": "da0f72d4",
   "metadata": {},
   "outputs": [],
   "source": [
    "import selenium\n",
    "import pandas as pd\n",
    "from selenium import webdriver \n",
    "import warnings\n",
    "warnings.filterwarnings('ignore')\n",
    "from selenium.common.exceptions import StaleElementReferenceException,NoSuchElementException\n",
    "from selenium.webdriver.common.by import By\n",
    "import time"
   ]
  },
  {
   "cell_type": "code",
   "execution_count": 43,
   "id": "9e6a04e0",
   "metadata": {},
   "outputs": [],
   "source": [
    "#Let's Connect the driver:-\n",
    "driver = webdriver.Chrome(r\"C:\\Users\\SUVARCHALA\\Downloads\\chromedriver_win32.chromedriver.exe\")"
   ]
  },
  {
   "cell_type": "code",
   "execution_count": 44,
   "id": "21741fb8",
   "metadata": {},
   "outputs": [],
   "source": [
    "# Opening the Naukri page on automated chrome browser\n",
    "driver.get(\"http://www.naukri.com/\")"
   ]
  },
  {
   "cell_type": "code",
   "execution_count": 45,
   "id": "7d1f213c",
   "metadata": {},
   "outputs": [],
   "source": [
    "designation=driver.find_element(By.CLASS_NAME,\"suggestor-input\")\n",
    "designation.send_keys('Data Scientist')"
   ]
  },
  {
   "cell_type": "code",
   "execution_count": 46,
   "id": "d9395601",
   "metadata": {},
   "outputs": [],
   "source": [
    "location = driver.find_element(By.XPATH,\"/html/body/div[1]/div[6]/div/div/div[5]/div/div/div/input\")\n",
    "location.send_keys('Bangalore')"
   ]
  },
  {
   "cell_type": "code",
   "execution_count": 47,
   "id": "435b6b22",
   "metadata": {},
   "outputs": [],
   "source": [
    "search = driver.find_element(By.CLASS_NAME,\"qsbSubmit\")\n",
    "search.click()"
   ]
  },
  {
   "cell_type": "code",
   "execution_count": 48,
   "id": "0811d92a",
   "metadata": {},
   "outputs": [],
   "source": [
    "Job_Title=[]\n",
    "Job_Location=[]\n",
    "Company_NAME=[]"
   ]
  },
  {
   "cell_type": "code",
   "execution_count": 49,
   "id": "47e5ef59",
   "metadata": {},
   "outputs": [],
   "source": [
    "#Scraping Job Title from the given Page\n",
    "title_tags = driver.find_elements(By.XPATH,\"//a[@class='title fw500 ellipsis']\")\n",
    "for i in title_tags[0:10]:\n",
    "    title = i.text\n",
    "    Job_Title.append(title)\n",
    "    \n",
    "#Scraping Job location from the given page\n",
    "location_tags = driver.find_elements(By.XPATH,\"//li[@class='fleft grey-text br2 placeHolderLi location']\")\n",
    "for i in location_tags[0:10]:\n",
    "    location = i.text\n",
    "    Job_Location.append(location)\n",
    "    \n",
    "#Scraping company name from the given page\n",
    "company_tags = driver.find_elements(By.XPATH,\"//a[@class='subTitle ellipsis fleft']\")\n",
    "for i in company_tags[0:10]:\n",
    "    company = i.text\n",
    "    Company_NAME.append(company)"
   ]
  },
  {
   "cell_type": "code",
   "execution_count": 50,
   "id": "bc1f69bf",
   "metadata": {},
   "outputs": [
    {
     "name": "stdout",
     "output_type": "stream",
     "text": [
      "10 10 10\n"
     ]
    }
   ],
   "source": [
    "print(len(Job_Title),len(Job_Location),len(Company_NAME))"
   ]
  },
  {
   "cell_type": "code",
   "execution_count": 51,
   "id": "bb243505",
   "metadata": {},
   "outputs": [
    {
     "data": {
      "text/html": [
       "<div>\n",
       "<style scoped>\n",
       "    .dataframe tbody tr th:only-of-type {\n",
       "        vertical-align: middle;\n",
       "    }\n",
       "\n",
       "    .dataframe tbody tr th {\n",
       "        vertical-align: top;\n",
       "    }\n",
       "\n",
       "    .dataframe thead th {\n",
       "        text-align: right;\n",
       "    }\n",
       "</style>\n",
       "<table border=\"1\" class=\"dataframe\">\n",
       "  <thead>\n",
       "    <tr style=\"text-align: right;\">\n",
       "      <th></th>\n",
       "      <th>Job_Title</th>\n",
       "      <th>Job_location</th>\n",
       "      <th>Comapny_Name</th>\n",
       "    </tr>\n",
       "  </thead>\n",
       "  <tbody>\n",
       "    <tr>\n",
       "      <th>0</th>\n",
       "      <td>Analystics &amp; Modeling Specialist</td>\n",
       "      <td>Bangalore/Bengaluru, Kolkata, Mumbai, Hyderaba...</td>\n",
       "      <td>Accenture</td>\n",
       "    </tr>\n",
       "    <tr>\n",
       "      <th>1</th>\n",
       "      <td>Data Scientist</td>\n",
       "      <td>Bangalore/Bengaluru, New Delhi, Hyderabad/Secu...</td>\n",
       "      <td>Tata Nexarc</td>\n",
       "    </tr>\n",
       "    <tr>\n",
       "      <th>2</th>\n",
       "      <td>Data Scientist</td>\n",
       "      <td>Bangalore/Bengaluru, Nagpur, Pune</td>\n",
       "      <td>Tech Mahindra</td>\n",
       "    </tr>\n",
       "    <tr>\n",
       "      <th>3</th>\n",
       "      <td>Data Scientist / AI-ML Engineer</td>\n",
       "      <td>Bangalore/Bengaluru</td>\n",
       "      <td>Hitachi Ltd.</td>\n",
       "    </tr>\n",
       "    <tr>\n",
       "      <th>4</th>\n",
       "      <td>Manager-Data Science</td>\n",
       "      <td>Bangalore/Bengaluru</td>\n",
       "      <td>AMERICAN EXPRESS</td>\n",
       "    </tr>\n",
       "    <tr>\n",
       "      <th>5</th>\n",
       "      <td>ACN - Applied Intelligence - Data Scientist - 09</td>\n",
       "      <td>Bangalore/Bengaluru</td>\n",
       "      <td>Accenture</td>\n",
       "    </tr>\n",
       "    <tr>\n",
       "      <th>6</th>\n",
       "      <td>Data Scientist</td>\n",
       "      <td>Hybrid - Bangalore/Bengaluru, Noida, Kolkata, ...</td>\n",
       "      <td>Mindtree</td>\n",
       "    </tr>\n",
       "    <tr>\n",
       "      <th>7</th>\n",
       "      <td>Data Scientist - II</td>\n",
       "      <td>Bangalore/Bengaluru, India, Mumbai (All Areas)</td>\n",
       "      <td>Bizongo</td>\n",
       "    </tr>\n",
       "    <tr>\n",
       "      <th>8</th>\n",
       "      <td>Senior Data Scientist</td>\n",
       "      <td>Bangalore/Bengaluru, Mumbai</td>\n",
       "      <td>Baker Hughes</td>\n",
       "    </tr>\n",
       "    <tr>\n",
       "      <th>9</th>\n",
       "      <td>Data Science - Engineering Manager</td>\n",
       "      <td>Bangalore/Bengaluru, New Delhi</td>\n",
       "      <td>Paytm</td>\n",
       "    </tr>\n",
       "  </tbody>\n",
       "</table>\n",
       "</div>"
      ],
      "text/plain": [
       "                                          Job_Title  \\\n",
       "0                  Analystics & Modeling Specialist   \n",
       "1                                    Data Scientist   \n",
       "2                                    Data Scientist   \n",
       "3                   Data Scientist / AI-ML Engineer   \n",
       "4                              Manager-Data Science   \n",
       "5  ACN - Applied Intelligence - Data Scientist - 09   \n",
       "6                                    Data Scientist   \n",
       "7                               Data Scientist - II   \n",
       "8                             Senior Data Scientist   \n",
       "9                Data Science - Engineering Manager   \n",
       "\n",
       "                                        Job_location      Comapny_Name  \n",
       "0  Bangalore/Bengaluru, Kolkata, Mumbai, Hyderaba...         Accenture  \n",
       "1  Bangalore/Bengaluru, New Delhi, Hyderabad/Secu...       Tata Nexarc  \n",
       "2                  Bangalore/Bengaluru, Nagpur, Pune     Tech Mahindra  \n",
       "3                                Bangalore/Bengaluru      Hitachi Ltd.  \n",
       "4                                Bangalore/Bengaluru  AMERICAN EXPRESS  \n",
       "5                                Bangalore/Bengaluru         Accenture  \n",
       "6  Hybrid - Bangalore/Bengaluru, Noida, Kolkata, ...          Mindtree  \n",
       "7     Bangalore/Bengaluru, India, Mumbai (All Areas)           Bizongo  \n",
       "8                        Bangalore/Bengaluru, Mumbai      Baker Hughes  \n",
       "9                     Bangalore/Bengaluru, New Delhi             Paytm  "
      ]
     },
     "execution_count": 51,
     "metadata": {},
     "output_type": "execute_result"
    }
   ],
   "source": [
    "#creating the DataFrame from the above data:-\n",
    "\n",
    "df = pd.DataFrame({'Job_Title':Job_Title,'Job_location':Job_Location,'Comapny_Name':Company_NAME})\n",
    "df"
   ]
  },
  {
   "cell_type": "markdown",
   "id": "f18e9c6b",
   "metadata": {},
   "source": [
    "# Q-3)"
   ]
  },
  {
   "cell_type": "code",
   "execution_count": 52,
   "id": "4598fece",
   "metadata": {},
   "outputs": [
    {
     "name": "stdout",
     "output_type": "stream",
     "text": [
      "Requirement already satisfied: selenium in c:\\anaconda\\lib\\site-packages (4.7.2)\n",
      "Requirement already satisfied: certifi>=2021.10.8 in c:\\anaconda\\lib\\site-packages (from selenium) (2021.10.8)\n",
      "Requirement already satisfied: trio~=0.17 in c:\\anaconda\\lib\\site-packages (from selenium) (0.22.0)\n",
      "Requirement already satisfied: trio-websocket~=0.9 in c:\\anaconda\\lib\\site-packages (from selenium) (0.9.2)\n",
      "Requirement already satisfied: urllib3[socks]~=1.26 in c:\\anaconda\\lib\\site-packages (from selenium) (1.26.9)\n",
      "Requirement already satisfied: attrs>=19.2.0 in c:\\anaconda\\lib\\site-packages (from trio~=0.17->selenium) (21.4.0)\n",
      "Requirement already satisfied: sortedcontainers in c:\\anaconda\\lib\\site-packages (from trio~=0.17->selenium) (2.4.0)\n",
      "Requirement already satisfied: sniffio in c:\\anaconda\\lib\\site-packages (from trio~=0.17->selenium) (1.2.0)\n",
      "Requirement already satisfied: outcome in c:\\anaconda\\lib\\site-packages (from trio~=0.17->selenium) (1.2.0)\n",
      "Requirement already satisfied: idna in c:\\anaconda\\lib\\site-packages (from trio~=0.17->selenium) (3.3)\n",
      "Requirement already satisfied: exceptiongroup>=1.0.0rc9 in c:\\anaconda\\lib\\site-packages (from trio~=0.17->selenium) (1.0.4)\n",
      "Requirement already satisfied: async-generator>=1.9 in c:\\anaconda\\lib\\site-packages (from trio~=0.17->selenium) (1.10)\n",
      "Requirement already satisfied: cffi>=1.14 in c:\\anaconda\\lib\\site-packages (from trio~=0.17->selenium) (1.15.0)\n",
      "Requirement already satisfied: pycparser in c:\\anaconda\\lib\\site-packages (from cffi>=1.14->trio~=0.17->selenium) (2.21)\n",
      "Requirement already satisfied: wsproto>=0.14 in c:\\anaconda\\lib\\site-packages (from trio-websocket~=0.9->selenium) (1.2.0)\n",
      "Requirement already satisfied: PySocks!=1.5.7,<2.0,>=1.5.6 in c:\\anaconda\\lib\\site-packages (from urllib3[socks]~=1.26->selenium) (1.7.1)\n",
      "Requirement already satisfied: h11<1,>=0.9.0 in c:\\anaconda\\lib\\site-packages (from wsproto>=0.14->trio-websocket~=0.9->selenium) (0.14.0)\n"
     ]
    }
   ],
   "source": [
    "!pip install selenium"
   ]
  },
  {
   "cell_type": "code",
   "execution_count": 53,
   "id": "e08efbb2",
   "metadata": {},
   "outputs": [],
   "source": [
    "import selenium\n",
    "import pandas as pd\n",
    "from selenium import webdriver \n",
    "import warnings\n",
    "warnings.filterwarnings('ignore')\n",
    "from selenium.common.exceptions import StaleElementReferenceException,NoSuchElementException\n",
    "from selenium.webdriver.common.by import By\n",
    "import time"
   ]
  },
  {
   "cell_type": "code",
   "execution_count": 54,
   "id": "6fb6c98a",
   "metadata": {},
   "outputs": [],
   "source": [
    "#Let's Connect the driver:-\n",
    "driver = webdriver.Chrome(r\"C:\\Users\\SUVARCHALA\\Downloads\\chromedriver_win32.chromedriver.exe\")"
   ]
  },
  {
   "cell_type": "code",
   "execution_count": 55,
   "id": "33982b18",
   "metadata": {},
   "outputs": [],
   "source": [
    "# Opening the Naukri page on automated chrome browser\n",
    "driver.get(\"http://www.naukri.com/\")"
   ]
  },
  {
   "cell_type": "code",
   "execution_count": 56,
   "id": "808c6642",
   "metadata": {},
   "outputs": [],
   "source": [
    "#entering designation and locations as required in the question-\n",
    "designation=driver.find_element(By.CLASS_NAME,\"suggestor-input\")\n",
    "designation.send_keys('Data Scientist')"
   ]
  },
  {
   "cell_type": "code",
   "execution_count": 57,
   "id": "7e69cc2f",
   "metadata": {},
   "outputs": [],
   "source": [
    "location = driver.find_element(By.XPATH,\"/html/body/div[1]/div[6]/div/div/div[5]/div/div/div/input\")\n",
    "location.send_keys('Delhi / NCR')"
   ]
  },
  {
   "cell_type": "code",
   "execution_count": 58,
   "id": "ecaf07bb",
   "metadata": {},
   "outputs": [],
   "source": [
    "search = driver.find_element(By.CLASS_NAME,\"qsbSubmit\")\n",
    "search.click()"
   ]
  },
  {
   "cell_type": "code",
   "execution_count": 59,
   "id": "9eefd11a",
   "metadata": {},
   "outputs": [],
   "source": [
    "Job_Title=[]\n",
    "Job_Location=[]\n",
    "Company_NAME=[]\n",
    "Experience_Required=[]"
   ]
  },
  {
   "cell_type": "code",
   "execution_count": 60,
   "id": "a53c6735",
   "metadata": {},
   "outputs": [],
   "source": [
    "#Scraping Job Title from the given Page\n",
    "title_tags = driver.find_elements(By.XPATH,\"//a[@class='title fw500 ellipsis']\")\n",
    "for i in title_tags[0:10]:\n",
    "    title = i.text\n",
    "    Job_Title.append(title)\n",
    "    \n",
    "#Scraping Job location from the given page\n",
    "location_tags = driver.find_elements(By.XPATH,\"//li[@class='fleft grey-text br2 placeHolderLi location']\")\n",
    "for i in location_tags[0:10]:\n",
    "    location = i.text\n",
    "    Job_Location.append(location)\n",
    "    \n",
    "#Scraping company name from the given page\n",
    "company_tags = driver.find_elements(By.XPATH,\"//a[@class='subTitle ellipsis fleft']\")\n",
    "for i in company_tags[0:10]:\n",
    "    company = i.text\n",
    "    Company_NAME.append(company)\n",
    "    \n",
    "    \n",
    "#Scraping Job Experience from the given page\n",
    "experience_tags = driver.find_elements(By.XPATH,\"//li[@class='fleft grey-text br2 placeHolderLi experience']//span\")\n",
    "for i in experience_tags[0:10]:\n",
    "    exp = i.text\n",
    "    Experience_Required.append(exp)"
   ]
  },
  {
   "cell_type": "code",
   "execution_count": 61,
   "id": "08d391ab",
   "metadata": {},
   "outputs": [
    {
     "name": "stdout",
     "output_type": "stream",
     "text": [
      "10 10 10 10\n"
     ]
    }
   ],
   "source": [
    "print(len(Job_Title),len(Job_Location),len(Company_NAME),len(Experience_Required))"
   ]
  },
  {
   "cell_type": "code",
   "execution_count": 62,
   "id": "73b8bfa3",
   "metadata": {},
   "outputs": [
    {
     "data": {
      "text/html": [
       "<div>\n",
       "<style scoped>\n",
       "    .dataframe tbody tr th:only-of-type {\n",
       "        vertical-align: middle;\n",
       "    }\n",
       "\n",
       "    .dataframe tbody tr th {\n",
       "        vertical-align: top;\n",
       "    }\n",
       "\n",
       "    .dataframe thead th {\n",
       "        text-align: right;\n",
       "    }\n",
       "</style>\n",
       "<table border=\"1\" class=\"dataframe\">\n",
       "  <thead>\n",
       "    <tr style=\"text-align: right;\">\n",
       "      <th></th>\n",
       "      <th>Job_Title</th>\n",
       "      <th>Job_location</th>\n",
       "      <th>Comapny_Name</th>\n",
       "      <th>Exp_required</th>\n",
       "    </tr>\n",
       "  </thead>\n",
       "  <tbody>\n",
       "    <tr>\n",
       "      <th>0</th>\n",
       "      <td>Data Scientist</td>\n",
       "      <td>Delhi / NCR, New Delhi, Hyderabad/Secunderabad...</td>\n",
       "      <td>Tata Nexarc</td>\n",
       "      <td>4-8 Yrs</td>\n",
       "    </tr>\n",
       "    <tr>\n",
       "      <th>1</th>\n",
       "      <td>Data Scientist</td>\n",
       "      <td>Hybrid - Noida, Kolkata, Hyderabad/Secunderaba...</td>\n",
       "      <td>Mindtree</td>\n",
       "      <td>5-10 Yrs</td>\n",
       "    </tr>\n",
       "    <tr>\n",
       "      <th>2</th>\n",
       "      <td>Data Science - Engineering Manager</td>\n",
       "      <td>New Delhi, Bangalore/Bengaluru</td>\n",
       "      <td>Paytm</td>\n",
       "      <td>3-5 Yrs</td>\n",
       "    </tr>\n",
       "    <tr>\n",
       "      <th>3</th>\n",
       "      <td>Artificial Intelligence/Computer Vision Engine...</td>\n",
       "      <td>Delhi / NCR, Kolkata, Mumbai, Hyderabad/Secund...</td>\n",
       "      <td>Vicara</td>\n",
       "      <td>1-3 Yrs</td>\n",
       "    </tr>\n",
       "    <tr>\n",
       "      <th>4</th>\n",
       "      <td>Data Scientist</td>\n",
       "      <td>Hybrid - Noida</td>\n",
       "      <td>HCLTech</td>\n",
       "      <td>4-9 Yrs</td>\n",
       "    </tr>\n",
       "    <tr>\n",
       "      <th>5</th>\n",
       "      <td>Analyst-Data Science</td>\n",
       "      <td>Gurgaon/Gurugram</td>\n",
       "      <td>AMERICAN EXPRESS</td>\n",
       "      <td>1-5 Yrs</td>\n",
       "    </tr>\n",
       "    <tr>\n",
       "      <th>6</th>\n",
       "      <td>Hiring For DATA Scientist @ NTT DATA Business ...</td>\n",
       "      <td>Noida, Hyderabad/Secunderabad, Pune, Gurgaon/G...</td>\n",
       "      <td>NTT DATA Business Solutions Private Limited</td>\n",
       "      <td>4-9 Yrs</td>\n",
       "    </tr>\n",
       "    <tr>\n",
       "      <th>7</th>\n",
       "      <td>Senior Data Scientist - Machine Learning</td>\n",
       "      <td>Delhi / NCR, Kolkata, Mumbai, Hyderabad/Secund...</td>\n",
       "      <td>Global Employees</td>\n",
       "      <td>7-12 Yrs</td>\n",
       "    </tr>\n",
       "    <tr>\n",
       "      <th>8</th>\n",
       "      <td>Principal Data Scientist</td>\n",
       "      <td>Gurgaon/Gurugram</td>\n",
       "      <td>Bharatpe</td>\n",
       "      <td>5-8 Yrs</td>\n",
       "    </tr>\n",
       "    <tr>\n",
       "      <th>9</th>\n",
       "      <td>Data Scientist - R / Python / SQL</td>\n",
       "      <td>Delhi / NCR, Mumbai, Gurgaon/Gurugram, Bangalo...</td>\n",
       "      <td>TransOrg Analytics</td>\n",
       "      <td>3-6 Yrs</td>\n",
       "    </tr>\n",
       "  </tbody>\n",
       "</table>\n",
       "</div>"
      ],
      "text/plain": [
       "                                           Job_Title  \\\n",
       "0                                     Data Scientist   \n",
       "1                                     Data Scientist   \n",
       "2                 Data Science - Engineering Manager   \n",
       "3  Artificial Intelligence/Computer Vision Engine...   \n",
       "4                                     Data Scientist   \n",
       "5                               Analyst-Data Science   \n",
       "6  Hiring For DATA Scientist @ NTT DATA Business ...   \n",
       "7           Senior Data Scientist - Machine Learning   \n",
       "8                           Principal Data Scientist   \n",
       "9                  Data Scientist - R / Python / SQL   \n",
       "\n",
       "                                        Job_location  \\\n",
       "0  Delhi / NCR, New Delhi, Hyderabad/Secunderabad...   \n",
       "1  Hybrid - Noida, Kolkata, Hyderabad/Secunderaba...   \n",
       "2                     New Delhi, Bangalore/Bengaluru   \n",
       "3  Delhi / NCR, Kolkata, Mumbai, Hyderabad/Secund...   \n",
       "4                                     Hybrid - Noida   \n",
       "5                                   Gurgaon/Gurugram   \n",
       "6  Noida, Hyderabad/Secunderabad, Pune, Gurgaon/G...   \n",
       "7  Delhi / NCR, Kolkata, Mumbai, Hyderabad/Secund...   \n",
       "8                                   Gurgaon/Gurugram   \n",
       "9  Delhi / NCR, Mumbai, Gurgaon/Gurugram, Bangalo...   \n",
       "\n",
       "                                  Comapny_Name Exp_required  \n",
       "0                                  Tata Nexarc      4-8 Yrs  \n",
       "1                                     Mindtree     5-10 Yrs  \n",
       "2                                        Paytm      3-5 Yrs  \n",
       "3                                       Vicara      1-3 Yrs  \n",
       "4                                      HCLTech      4-9 Yrs  \n",
       "5                             AMERICAN EXPRESS      1-5 Yrs  \n",
       "6  NTT DATA Business Solutions Private Limited      4-9 Yrs  \n",
       "7                             Global Employees     7-12 Yrs  \n",
       "8                                     Bharatpe      5-8 Yrs  \n",
       "9                           TransOrg Analytics      3-6 Yrs  "
      ]
     },
     "execution_count": 62,
     "metadata": {},
     "output_type": "execute_result"
    }
   ],
   "source": [
    "df = pd.DataFrame({'Job_Title':Job_Title,'Job_location':Job_Location,'Comapny_Name':Company_NAME,'Exp_required':Experience_Required})\n",
    "df"
   ]
  },
  {
   "cell_type": "markdown",
   "id": "042f89e1",
   "metadata": {},
   "source": [
    "# Q-7"
   ]
  },
  {
   "cell_type": "code",
   "execution_count": 63,
   "id": "58d6cb75",
   "metadata": {},
   "outputs": [],
   "source": [
    "import selenium\n",
    "import pandas as pd\n",
    "from selenium import webdriver \n",
    "import warnings\n",
    "warnings.filterwarnings('ignore')\n",
    "from selenium.common.exceptions import StaleElementReferenceException,NoSuchElementException\n",
    "from selenium.webdriver.common.by import By\n",
    "import time"
   ]
  },
  {
   "cell_type": "code",
   "execution_count": 64,
   "id": "c9b8b7be",
   "metadata": {},
   "outputs": [],
   "source": [
    "#Let's Connect the driver:-\n",
    "driver = webdriver.Chrome(r\"C:\\Users\\SUVARCHALA\\Downloads\\chromedriver_win32.chromedriver.exe\")"
   ]
  },
  {
   "cell_type": "code",
   "execution_count": 65,
   "id": "35121f0f",
   "metadata": {},
   "outputs": [],
   "source": [
    "# Opening the Amazon page on automated chrome browser\n",
    "driver.get(\"https://www.amazon.in/\")"
   ]
  },
  {
   "cell_type": "code",
   "execution_count": 66,
   "id": "3e522f95",
   "metadata": {},
   "outputs": [],
   "source": [
    "#entering Laptop and CPU type as required in the question-\n",
    "All=driver.find_element(By.XPATH,\"/html/body/div[1]/header/div/div[1]/div[2]/div/form/div[2]/div[1]/input\")\n",
    "All.send_keys(\"Laptop\")"
   ]
  },
  {
   "cell_type": "code",
   "execution_count": 67,
   "id": "248878df",
   "metadata": {},
   "outputs": [],
   "source": [
    "search = driver.find_element(By.CLASS_NAME,\"nav-right\")\n",
    "search.click()"
   ]
  },
  {
   "cell_type": "code",
   "execution_count": 68,
   "id": "b7ea9278",
   "metadata": {},
   "outputs": [],
   "source": [
    "Title = []\n",
    "Ratings=[]\n",
    "Price=[]"
   ]
  },
  {
   "cell_type": "code",
   "execution_count": 69,
   "id": "8f4a0f04",
   "metadata": {},
   "outputs": [],
   "source": [
    "#Scraping Title from the given Page\n",
    "title_tags = driver.find_elements(By.XPATH,\"//span[@class='a-size-medium a-color-base a-text-normal']\")\n",
    "for i in title_tags[0:10]:\n",
    "    title = i.text\n",
    "    Title.append(title)"
   ]
  },
  {
   "cell_type": "code",
   "execution_count": 70,
   "id": "22f31953",
   "metadata": {},
   "outputs": [
    {
     "data": {
      "text/plain": [
       "10"
      ]
     },
     "execution_count": 70,
     "metadata": {},
     "output_type": "execute_result"
    }
   ],
   "source": [
    "len(Title)"
   ]
  },
  {
   "cell_type": "code",
   "execution_count": 71,
   "id": "d0ab8426",
   "metadata": {},
   "outputs": [],
   "source": [
    "#Scraping Ratings from the given Page \n",
    "rating_tags = driver.find_elements(By.XPATH,\"//i[@class='a-icon a-icon-star-small a-star-small-4 aok-align-bottom']\")\n",
    "for i in rating_tags[0:10]:\n",
    "    rating = i.text\n",
    "    Ratings.append(rating)"
   ]
  },
  {
   "cell_type": "code",
   "execution_count": 72,
   "id": "9b1aeaad",
   "metadata": {},
   "outputs": [
    {
     "data": {
      "text/plain": [
       "10"
      ]
     },
     "execution_count": 72,
     "metadata": {},
     "output_type": "execute_result"
    }
   ],
   "source": [
    "len(Ratings)"
   ]
  },
  {
   "cell_type": "code",
   "execution_count": 73,
   "id": "771e00a9",
   "metadata": {},
   "outputs": [],
   "source": [
    "#Scraping Price from the given Page \n",
    "price_tags = driver.find_elements(By.XPATH,\"//span[@class='a-price-whole']\")\n",
    "for i in price_tags[0:10]:\n",
    "    price = i.text\n",
    "    Price.append(price)"
   ]
  },
  {
   "cell_type": "code",
   "execution_count": 74,
   "id": "d228da92",
   "metadata": {},
   "outputs": [
    {
     "data": {
      "text/plain": [
       "10"
      ]
     },
     "execution_count": 74,
     "metadata": {},
     "output_type": "execute_result"
    }
   ],
   "source": [
    "len(Price)"
   ]
  },
  {
   "cell_type": "code",
   "execution_count": 75,
   "id": "adf06dda",
   "metadata": {},
   "outputs": [
    {
     "data": {
      "text/html": [
       "<div>\n",
       "<style scoped>\n",
       "    .dataframe tbody tr th:only-of-type {\n",
       "        vertical-align: middle;\n",
       "    }\n",
       "\n",
       "    .dataframe tbody tr th {\n",
       "        vertical-align: top;\n",
       "    }\n",
       "\n",
       "    .dataframe thead th {\n",
       "        text-align: right;\n",
       "    }\n",
       "</style>\n",
       "<table border=\"1\" class=\"dataframe\">\n",
       "  <thead>\n",
       "    <tr style=\"text-align: right;\">\n",
       "      <th></th>\n",
       "      <th>Title</th>\n",
       "      <th>Ratings</th>\n",
       "      <th>Price</th>\n",
       "    </tr>\n",
       "  </thead>\n",
       "  <tbody>\n",
       "    <tr>\n",
       "      <th>0</th>\n",
       "      <td>Lenovo IdeaPad Slim 1 AMD Ryzen 3 3250U 15.6\" ...</td>\n",
       "      <td></td>\n",
       "      <td>36,000</td>\n",
       "    </tr>\n",
       "    <tr>\n",
       "      <th>1</th>\n",
       "      <td>Lenovo Ideapad 3 AMD Ryzen 5 5500U 15.6\" (39.6...</td>\n",
       "      <td></td>\n",
       "      <td>43,500</td>\n",
       "    </tr>\n",
       "    <tr>\n",
       "      <th>2</th>\n",
       "      <td>AVITA SATUS ULTIMUS S111 NU14A1INC43PN-SG 14.1...</td>\n",
       "      <td></td>\n",
       "      <td>19,999</td>\n",
       "    </tr>\n",
       "    <tr>\n",
       "      <th>3</th>\n",
       "      <td>Lenovo V15 Intel Celeron N4020 15.6\" (39.62 cm...</td>\n",
       "      <td></td>\n",
       "      <td>19,990</td>\n",
       "    </tr>\n",
       "    <tr>\n",
       "      <th>4</th>\n",
       "      <td>(Renewed) Dell Latitude E5470 Intel Core i5 6t...</td>\n",
       "      <td></td>\n",
       "      <td>19,289</td>\n",
       "    </tr>\n",
       "    <tr>\n",
       "      <th>5</th>\n",
       "      <td>Fujitsu UH-X 12th Gen Intel Evo Core i7 13.3 i...</td>\n",
       "      <td></td>\n",
       "      <td>99,990</td>\n",
       "    </tr>\n",
       "    <tr>\n",
       "      <th>6</th>\n",
       "      <td>HP 14s, Intel Celeron N4500, 8GB RAM/256GB SSD...</td>\n",
       "      <td></td>\n",
       "      <td>42,990</td>\n",
       "    </tr>\n",
       "    <tr>\n",
       "      <th>7</th>\n",
       "      <td>Lenovo IdeaPad Slim 3 Intel Core i3 10th Gen 1...</td>\n",
       "      <td></td>\n",
       "      <td>49,990</td>\n",
       "    </tr>\n",
       "    <tr>\n",
       "      <th>8</th>\n",
       "      <td>ASUS VivoBook 15 (2021), 15.6-inch (39.62 cm) ...</td>\n",
       "      <td></td>\n",
       "      <td>47,009</td>\n",
       "    </tr>\n",
       "    <tr>\n",
       "      <th>9</th>\n",
       "      <td>(Renewed) Lenovo Thinkpad L450 5th Gen Intel C...</td>\n",
       "      <td></td>\n",
       "      <td></td>\n",
       "    </tr>\n",
       "  </tbody>\n",
       "</table>\n",
       "</div>"
      ],
      "text/plain": [
       "                                               Title Ratings   Price\n",
       "0  Lenovo IdeaPad Slim 1 AMD Ryzen 3 3250U 15.6\" ...          36,000\n",
       "1  Lenovo Ideapad 3 AMD Ryzen 5 5500U 15.6\" (39.6...          43,500\n",
       "2  AVITA SATUS ULTIMUS S111 NU14A1INC43PN-SG 14.1...          19,999\n",
       "3  Lenovo V15 Intel Celeron N4020 15.6\" (39.62 cm...          19,990\n",
       "4  (Renewed) Dell Latitude E5470 Intel Core i5 6t...          19,289\n",
       "5  Fujitsu UH-X 12th Gen Intel Evo Core i7 13.3 i...          99,990\n",
       "6  HP 14s, Intel Celeron N4500, 8GB RAM/256GB SSD...          42,990\n",
       "7  Lenovo IdeaPad Slim 3 Intel Core i3 10th Gen 1...          49,990\n",
       "8  ASUS VivoBook 15 (2021), 15.6-inch (39.62 cm) ...          47,009\n",
       "9  (Renewed) Lenovo Thinkpad L450 5th Gen Intel C...                "
      ]
     },
     "execution_count": 75,
     "metadata": {},
     "output_type": "execute_result"
    }
   ],
   "source": [
    "#creating the DataFrame from the above data:-\n",
    "\n",
    "df = pd.DataFrame({'Title':Title,'Ratings':Ratings,'Price':Price})\n",
    "df"
   ]
  },
  {
   "cell_type": "markdown",
   "id": "676b02b6",
   "metadata": {},
   "source": [
    "# Q-4)"
   ]
  },
  {
   "cell_type": "code",
   "execution_count": 76,
   "id": "98e8d83b",
   "metadata": {},
   "outputs": [],
   "source": [
    "import selenium\n",
    "import pandas as pd\n",
    "from selenium import webdriver \n",
    "import warnings\n",
    "warnings.filterwarnings('ignore')\n",
    "from selenium.common.exceptions import StaleElementReferenceException,NoSuchElementException\n",
    "from selenium.webdriver.common.by import By\n",
    "import time"
   ]
  },
  {
   "cell_type": "code",
   "execution_count": 77,
   "id": "4b60711c",
   "metadata": {},
   "outputs": [],
   "source": [
    "#Let's Connect the driver:-\n",
    "driver = webdriver.Chrome(r\"C:\\Users\\SUVARCHALA\\Downloads\\chromedriver_win32.chromedriver.exe\")"
   ]
  },
  {
   "cell_type": "code",
   "execution_count": 78,
   "id": "ef22e6fa",
   "metadata": {},
   "outputs": [],
   "source": [
    "# Opening the Flipkart page on automated chrome browser\n",
    "driver.get(\"https://www.flipkart.com/\")"
   ]
  },
  {
   "cell_type": "code",
   "execution_count": 79,
   "id": "b1206841",
   "metadata": {},
   "outputs": [],
   "source": [
    "#entering Sunglasses required in the question-\n",
    "Products = driver.find_element(By.CLASS_NAME,\"_3704LK\")\n",
    "Products.send_keys(\"sunglasses\") "
   ]
  },
  {
   "cell_type": "code",
   "execution_count": 80,
   "id": "285fc675",
   "metadata": {},
   "outputs": [],
   "source": [
    "search = driver.find_element(By.CLASS_NAME,\"L0Z3Pu\")\n",
    "search.click()"
   ]
  },
  {
   "cell_type": "code",
   "execution_count": 81,
   "id": "c592805c",
   "metadata": {},
   "outputs": [],
   "source": [
    "Brand=[]\n",
    "Product_Discription=[]\n",
    "Price=[]"
   ]
  },
  {
   "cell_type": "code",
   "execution_count": 82,
   "id": "b086c4bd",
   "metadata": {},
   "outputs": [],
   "source": [
    "start=0\n",
    "end=3\n",
    "\n",
    "#Scraping Brand Title from the given Page\n",
    "for page in range(start,end):\n",
    "    \n",
    "    brand_tags = driver.find_elements(By.XPATH,\"//a[@class='IRpwTa']\")\n",
    "    for i in brand_tags:\n",
    "        Brand.append(i.text)\n",
    "        \n",
    "    next_button = driver.find_element(By.CLASS_NAME,\"_1LKTO3\")\n",
    "    next_button.click()\n",
    "    time.sleep(5)   \n",
    " "
   ]
  },
  {
   "cell_type": "code",
   "execution_count": 83,
   "id": "d8fe7889",
   "metadata": {},
   "outputs": [
    {
     "data": {
      "text/plain": [
       "120"
      ]
     },
     "execution_count": 83,
     "metadata": {},
     "output_type": "execute_result"
    }
   ],
   "source": [
    "len(Brand)"
   ]
  },
  {
   "cell_type": "code",
   "execution_count": 84,
   "id": "d94ded91",
   "metadata": {},
   "outputs": [],
   "source": [
    "start=0\n",
    "end=3\n",
    "\n",
    "#Scraping Brand Title from the given Page\n",
    "for page in range(start,end):\n",
    "    \n",
    "    product_discription = driver.find_elements(By.XPATH,\"//a[@class='IRpwTa']\")\n",
    "    for i in product_discription:\n",
    "        Product_Discription.append(i.text)\n",
    "        \n",
    "    next_button = driver.find_element(By.CLASS_NAME,\"_1LKTO3\")\n",
    "    next_button.click()\n",
    "    time.sleep(3)"
   ]
  },
  {
   "cell_type": "code",
   "execution_count": 85,
   "id": "70cadd4f",
   "metadata": {},
   "outputs": [
    {
     "data": {
      "text/plain": [
       "120"
      ]
     },
     "execution_count": 85,
     "metadata": {},
     "output_type": "execute_result"
    }
   ],
   "source": [
    "len(Product_Discription)"
   ]
  },
  {
   "cell_type": "code",
   "execution_count": 86,
   "id": "82856cd3",
   "metadata": {},
   "outputs": [],
   "source": [
    "start=0\n",
    "end=3\n",
    "\n",
    "#Scraping Brand Title from the given Page\n",
    "for page in range(start,end):\n",
    "    \n",
    "    price = driver.find_elements(By.XPATH,\"//div[@class='_30jeq3']\")\n",
    "    for i in price:\n",
    "        Price.append(i.text)\n",
    "        \n",
    "    next_button = driver.find_element(By.CLASS_NAME,\"_1LKTO3\")\n",
    "    next_button.click()\n",
    "    time.sleep(3)"
   ]
  },
  {
   "cell_type": "code",
   "execution_count": 87,
   "id": "ced660a4",
   "metadata": {},
   "outputs": [
    {
     "data": {
      "text/plain": [
       "120"
      ]
     },
     "execution_count": 87,
     "metadata": {},
     "output_type": "execute_result"
    }
   ],
   "source": [
    "len(Price)"
   ]
  },
  {
   "cell_type": "code",
   "execution_count": 88,
   "id": "c88c399b",
   "metadata": {},
   "outputs": [
    {
     "data": {
      "text/html": [
       "<div>\n",
       "<style scoped>\n",
       "    .dataframe tbody tr th:only-of-type {\n",
       "        vertical-align: middle;\n",
       "    }\n",
       "\n",
       "    .dataframe tbody tr th {\n",
       "        vertical-align: top;\n",
       "    }\n",
       "\n",
       "    .dataframe thead th {\n",
       "        text-align: right;\n",
       "    }\n",
       "</style>\n",
       "<table border=\"1\" class=\"dataframe\">\n",
       "  <thead>\n",
       "    <tr style=\"text-align: right;\">\n",
       "      <th></th>\n",
       "      <th>Brand</th>\n",
       "      <th>Product Description</th>\n",
       "      <th>Price</th>\n",
       "    </tr>\n",
       "  </thead>\n",
       "  <tbody>\n",
       "    <tr>\n",
       "      <th>0</th>\n",
       "      <td>UV Protection Clubmaster Sunglasses (53)</td>\n",
       "      <td>UV Protection Aviator, Wayfarer Sunglasses (54)</td>\n",
       "      <td>₹199</td>\n",
       "    </tr>\n",
       "    <tr>\n",
       "      <th>1</th>\n",
       "      <td>by Lenskart Polarized, UV Protection Rectangul...</td>\n",
       "      <td>UV Protection Wayfarer Sunglasses (53)</td>\n",
       "      <td>₹597</td>\n",
       "    </tr>\n",
       "    <tr>\n",
       "      <th>2</th>\n",
       "      <td>Riding Glasses, Night Vision Spectacle Sunglas...</td>\n",
       "      <td>Polarized Retro Square Sunglasses (Free Size)</td>\n",
       "      <td>₹129</td>\n",
       "    </tr>\n",
       "    <tr>\n",
       "      <th>3</th>\n",
       "      <td>UV Protection Rectangular Sunglasses (Free Size)</td>\n",
       "      <td>UV Protection Wayfarer Sunglasses (Free Size)</td>\n",
       "      <td>₹489</td>\n",
       "    </tr>\n",
       "    <tr>\n",
       "      <th>4</th>\n",
       "      <td>UV Protection Cat-eye, Retro Square, Oval, Rou...</td>\n",
       "      <td>UV Protection Aviator Sunglasses (Free Size)</td>\n",
       "      <td>₹149</td>\n",
       "    </tr>\n",
       "    <tr>\n",
       "      <th>...</th>\n",
       "      <td>...</td>\n",
       "      <td>...</td>\n",
       "      <td>...</td>\n",
       "    </tr>\n",
       "    <tr>\n",
       "      <th>115</th>\n",
       "      <td>UV Protection Oval Sunglasses (Free Size)</td>\n",
       "      <td>Polarized, UV Protection Retro Square, Over-si...</td>\n",
       "      <td>₹128</td>\n",
       "    </tr>\n",
       "    <tr>\n",
       "      <th>116</th>\n",
       "      <td>by Lenskart Polarized, UV Protection Wayfarer ...</td>\n",
       "      <td>UV Protection Aviator Sunglasses (55)</td>\n",
       "      <td>₹949</td>\n",
       "    </tr>\n",
       "    <tr>\n",
       "      <th>117</th>\n",
       "      <td>UV Protection Aviator Sunglasses (55)</td>\n",
       "      <td>by Lenskart Polarized, UV Protection Wayfarer ...</td>\n",
       "      <td>₹664</td>\n",
       "    </tr>\n",
       "    <tr>\n",
       "      <th>118</th>\n",
       "      <td>Others Cat-eye, Retro Square, Wayfarer Sunglas...</td>\n",
       "      <td>UV Protection Aviator Sunglasses (Free Size)</td>\n",
       "      <td>₹149</td>\n",
       "    </tr>\n",
       "    <tr>\n",
       "      <th>119</th>\n",
       "      <td>UV Protection Wayfarer Sunglasses (Free Size)</td>\n",
       "      <td>UV Protection, Gradient Round, Cat-eye Sunglas...</td>\n",
       "      <td>₹479</td>\n",
       "    </tr>\n",
       "  </tbody>\n",
       "</table>\n",
       "<p>120 rows × 3 columns</p>\n",
       "</div>"
      ],
      "text/plain": [
       "                                                 Brand  \\\n",
       "0             UV Protection Clubmaster Sunglasses (53)   \n",
       "1    by Lenskart Polarized, UV Protection Rectangul...   \n",
       "2    Riding Glasses, Night Vision Spectacle Sunglas...   \n",
       "3     UV Protection Rectangular Sunglasses (Free Size)   \n",
       "4    UV Protection Cat-eye, Retro Square, Oval, Rou...   \n",
       "..                                                 ...   \n",
       "115          UV Protection Oval Sunglasses (Free Size)   \n",
       "116  by Lenskart Polarized, UV Protection Wayfarer ...   \n",
       "117              UV Protection Aviator Sunglasses (55)   \n",
       "118  Others Cat-eye, Retro Square, Wayfarer Sunglas...   \n",
       "119      UV Protection Wayfarer Sunglasses (Free Size)   \n",
       "\n",
       "                                   Product Description Price  \n",
       "0      UV Protection Aviator, Wayfarer Sunglasses (54)  ₹199  \n",
       "1               UV Protection Wayfarer Sunglasses (53)  ₹597  \n",
       "2        Polarized Retro Square Sunglasses (Free Size)  ₹129  \n",
       "3        UV Protection Wayfarer Sunglasses (Free Size)  ₹489  \n",
       "4         UV Protection Aviator Sunglasses (Free Size)  ₹149  \n",
       "..                                                 ...   ...  \n",
       "115  Polarized, UV Protection Retro Square, Over-si...  ₹128  \n",
       "116              UV Protection Aviator Sunglasses (55)  ₹949  \n",
       "117  by Lenskart Polarized, UV Protection Wayfarer ...  ₹664  \n",
       "118       UV Protection Aviator Sunglasses (Free Size)  ₹149  \n",
       "119  UV Protection, Gradient Round, Cat-eye Sunglas...  ₹479  \n",
       "\n",
       "[120 rows x 3 columns]"
      ]
     },
     "execution_count": 88,
     "metadata": {},
     "output_type": "execute_result"
    }
   ],
   "source": [
    "#creating the DataFrame from the above data:-\n",
    "\n",
    "df = pd.DataFrame({'Brand':Brand,'Product Description':Product_Discription,'Price':Price})\n",
    "df"
   ]
  },
  {
   "cell_type": "markdown",
   "id": "a15b27e7",
   "metadata": {},
   "source": [
    "# Q-8)"
   ]
  },
  {
   "cell_type": "code",
   "execution_count": 1,
   "id": "82588653",
   "metadata": {},
   "outputs": [],
   "source": [
    "import selenium\n",
    "import pandas as pd\n",
    "from selenium import webdriver \n",
    "import warnings\n",
    "warnings.filterwarnings('ignore')\n",
    "from selenium.common.exceptions import StaleElementReferenceException,NoSuchElementException\n",
    "from selenium.webdriver.common.by import By\n",
    "import time"
   ]
  },
  {
   "cell_type": "code",
   "execution_count": 2,
   "id": "cc47475a",
   "metadata": {},
   "outputs": [],
   "source": [
    "#Let's Connect the driver:-\n",
    "driver = webdriver.Chrome(r\"C:\\Users\\SUVARCHALA\\Downloads\\chromedriver_win32.chromedriver.exe\")"
   ]
  },
  {
   "cell_type": "code",
   "execution_count": 3,
   "id": "9110173f",
   "metadata": {},
   "outputs": [],
   "source": [
    "# Opening the azquotes page on automated chrome browser\n",
    "driver.get(\"https://www.azquotes.com/\")"
   ]
  },
  {
   "cell_type": "code",
   "execution_count": 4,
   "id": "7a63bc95",
   "metadata": {},
   "outputs": [],
   "source": [
    "Top_Quotes = driver.find_element(By.XPATH,\"/html/body/div[1]/div[1]/div[1]/div/div[3]/ul/li[5]/a\")\n",
    "Top_Quotes.click()"
   ]
  },
  {
   "cell_type": "code",
   "execution_count": 5,
   "id": "71282ad7",
   "metadata": {},
   "outputs": [],
   "source": [
    "Quote=[]\n",
    "Author=[]\n",
    "type_of_quote=[]"
   ]
  },
  {
   "cell_type": "code",
   "execution_count": 6,
   "id": "0c3062f0",
   "metadata": {},
   "outputs": [],
   "source": [
    "start=0\n",
    "end=10\n",
    "\n",
    "for page in range(start,end):\n",
    "    Details=[i.text.split('\\n') for i in driver.find_elements(By.XPATH,\"//div[@class='wrap-block']\")]\n",
    "    \n",
    "    for i in Details:\n",
    "        Quote.append(i[0])\n",
    "        Author.append(i[1])\n",
    "        type_of_quote.append(i[2])"
   ]
  },
  {
   "cell_type": "code",
   "execution_count": 7,
   "id": "8ce71c9b",
   "metadata": {},
   "outputs": [
    {
     "data": {
      "text/plain": [
       "100"
      ]
     },
     "execution_count": 7,
     "metadata": {},
     "output_type": "execute_result"
    }
   ],
   "source": [
    "len(Details)"
   ]
  },
  {
   "cell_type": "code",
   "execution_count": 8,
   "id": "5163cb4d",
   "metadata": {},
   "outputs": [
    {
     "data": {
      "text/html": [
       "<div>\n",
       "<style scoped>\n",
       "    .dataframe tbody tr th:only-of-type {\n",
       "        vertical-align: middle;\n",
       "    }\n",
       "\n",
       "    .dataframe tbody tr th {\n",
       "        vertical-align: top;\n",
       "    }\n",
       "\n",
       "    .dataframe thead th {\n",
       "        text-align: right;\n",
       "    }\n",
       "</style>\n",
       "<table border=\"1\" class=\"dataframe\">\n",
       "  <thead>\n",
       "    <tr style=\"text-align: right;\">\n",
       "      <th></th>\n",
       "      <th>Quote</th>\n",
       "      <th>Author</th>\n",
       "      <th>Type of quotes</th>\n",
       "    </tr>\n",
       "  </thead>\n",
       "  <tbody>\n",
       "    <tr>\n",
       "      <th>0</th>\n",
       "      <td>The essence of strategy is choosing what not t...</td>\n",
       "      <td>Michael Porter</td>\n",
       "      <td>Essence, Deep Thought, Transcendentalism</td>\n",
       "    </tr>\n",
       "    <tr>\n",
       "      <th>1</th>\n",
       "      <td>One cannot and must not try to erase the past ...</td>\n",
       "      <td>Golda Meir</td>\n",
       "      <td>Inspiration, Past, Trying</td>\n",
       "    </tr>\n",
       "    <tr>\n",
       "      <th>2</th>\n",
       "      <td>Patriotism means to stand by the country. It d...</td>\n",
       "      <td>Theodore Roosevelt</td>\n",
       "      <td>Country, Peace, War</td>\n",
       "    </tr>\n",
       "    <tr>\n",
       "      <th>3</th>\n",
       "      <td>Death is something inevitable. When a man has ...</td>\n",
       "      <td>Nelson Mandela</td>\n",
       "      <td>Inspirational, Motivational, Death</td>\n",
       "    </tr>\n",
       "    <tr>\n",
       "      <th>4</th>\n",
       "      <td>You have to love a nation that celebrates its ...</td>\n",
       "      <td>Erma Bombeck</td>\n",
       "      <td>4th Of July, Food, Patriotic</td>\n",
       "    </tr>\n",
       "    <tr>\n",
       "      <th>...</th>\n",
       "      <td>...</td>\n",
       "      <td>...</td>\n",
       "      <td>...</td>\n",
       "    </tr>\n",
       "    <tr>\n",
       "      <th>995</th>\n",
       "      <td>When the going gets weird, the weird turn pro.</td>\n",
       "      <td>Hunter S. Thompson</td>\n",
       "      <td>Music, Sports, Hunting</td>\n",
       "    </tr>\n",
       "    <tr>\n",
       "      <th>996</th>\n",
       "      <td>When a train goes through a tunnel and it gets...</td>\n",
       "      <td>Corrie Ten Boom</td>\n",
       "      <td>Trust, Encouraging, Uplifting</td>\n",
       "    </tr>\n",
       "    <tr>\n",
       "      <th>997</th>\n",
       "      <td>If you think you are too small to make a diffe...</td>\n",
       "      <td>Dalai Lama</td>\n",
       "      <td>Inspirational, Funny, Change</td>\n",
       "    </tr>\n",
       "    <tr>\n",
       "      <th>998</th>\n",
       "      <td>God doesn't require us to succeed, he only req...</td>\n",
       "      <td>Mother Teresa</td>\n",
       "      <td>Success, God, Mother</td>\n",
       "    </tr>\n",
       "    <tr>\n",
       "      <th>999</th>\n",
       "      <td>Change your thoughts and you change your world.</td>\n",
       "      <td>Norman Vincent Peale</td>\n",
       "      <td>Inspirational, Motivational, Change</td>\n",
       "    </tr>\n",
       "  </tbody>\n",
       "</table>\n",
       "<p>1000 rows × 3 columns</p>\n",
       "</div>"
      ],
      "text/plain": [
       "                                                 Quote                Author  \\\n",
       "0    The essence of strategy is choosing what not t...        Michael Porter   \n",
       "1    One cannot and must not try to erase the past ...            Golda Meir   \n",
       "2    Patriotism means to stand by the country. It d...    Theodore Roosevelt   \n",
       "3    Death is something inevitable. When a man has ...        Nelson Mandela   \n",
       "4    You have to love a nation that celebrates its ...          Erma Bombeck   \n",
       "..                                                 ...                   ...   \n",
       "995     When the going gets weird, the weird turn pro.    Hunter S. Thompson   \n",
       "996  When a train goes through a tunnel and it gets...       Corrie Ten Boom   \n",
       "997  If you think you are too small to make a diffe...            Dalai Lama   \n",
       "998  God doesn't require us to succeed, he only req...         Mother Teresa   \n",
       "999    Change your thoughts and you change your world.  Norman Vincent Peale   \n",
       "\n",
       "                               Type of quotes  \n",
       "0    Essence, Deep Thought, Transcendentalism  \n",
       "1                   Inspiration, Past, Trying  \n",
       "2                         Country, Peace, War  \n",
       "3          Inspirational, Motivational, Death  \n",
       "4                4th Of July, Food, Patriotic  \n",
       "..                                        ...  \n",
       "995                    Music, Sports, Hunting  \n",
       "996             Trust, Encouraging, Uplifting  \n",
       "997              Inspirational, Funny, Change  \n",
       "998                      Success, God, Mother  \n",
       "999       Inspirational, Motivational, Change  \n",
       "\n",
       "[1000 rows x 3 columns]"
      ]
     },
     "execution_count": 8,
     "metadata": {},
     "output_type": "execute_result"
    }
   ],
   "source": [
    "df = pd.DataFrame({'Quote':Quote,'Author':Author,'Type of quotes':type_of_quote})\n",
    "df"
   ]
  },
  {
   "cell_type": "markdown",
   "id": "fa994c79",
   "metadata": {},
   "source": [
    "# Q-5"
   ]
  },
  {
   "cell_type": "code",
   "execution_count": 9,
   "id": "d4ed5aed",
   "metadata": {},
   "outputs": [],
   "source": [
    "import selenium\n",
    "import pandas as pd\n",
    "from selenium import webdriver \n",
    "import warnings\n",
    "warnings.filterwarnings('ignore')\n",
    "from selenium.common.exceptions import StaleElementReferenceException,NoSuchElementException\n",
    "from selenium.webdriver.common.by import By\n",
    "import time"
   ]
  },
  {
   "cell_type": "code",
   "execution_count": 10,
   "id": "3e6d825d",
   "metadata": {},
   "outputs": [],
   "source": [
    "#Let's Connect the driver:-\n",
    "driver = webdriver.Chrome(r\"C:\\Users\\SUVARCHALA\\Downloads\\chromedriver_win32.chromedriver.exe\")"
   ]
  },
  {
   "cell_type": "code",
   "execution_count": 11,
   "id": "1ddbaca7",
   "metadata": {},
   "outputs": [],
   "source": [
    "# Opening the Flipkart page on automated chrome browser\n",
    "driver.get(\"https://www.flipkart.com/apple-iphone-11-black-64-gb/product-reviews/itm4e5041ba101fd?pid=MOBFWQ6BXGJCEYNY&lid=LSTMOBFWQ6BXGJCEYNYZXSHRJ&market\")"
   ]
  },
  {
   "cell_type": "code",
   "execution_count": 12,
   "id": "7c88df83",
   "metadata": {},
   "outputs": [],
   "source": [
    "Rating=[]\n",
    "Review_Summary=[]\n",
    "Full_Review=[]"
   ]
  },
  {
   "cell_type": "code",
   "execution_count": 13,
   "id": "4a79aac9",
   "metadata": {},
   "outputs": [],
   "source": [
    "start=0\n",
    "end=10\n",
    "\n",
    "for page in range(start,end):\n",
    "    \n",
    "    ratings = driver.find_elements(By.XPATH,\"//div[@class='_3LWZlK _1BLPMq']\")\n",
    "    \n",
    "    for i in ratings:\n",
    "        Rating.append(i.text)\n",
    "\n",
    "    next_button = driver.find_element(By.XPATH,\"//a[@class='_1LKTO3']\")\n",
    "    next_button.click()\n",
    "    time.sleep(5)"
   ]
  },
  {
   "cell_type": "code",
   "execution_count": 14,
   "id": "f9c01352",
   "metadata": {},
   "outputs": [
    {
     "data": {
      "text/plain": [
       "100"
      ]
     },
     "execution_count": 14,
     "metadata": {},
     "output_type": "execute_result"
    }
   ],
   "source": [
    "len(Rating)"
   ]
  },
  {
   "cell_type": "code",
   "execution_count": 15,
   "id": "584410be",
   "metadata": {},
   "outputs": [],
   "source": [
    "start=0\n",
    "end=10\n",
    "\n",
    "for page in range(start,end):\n",
    "\n",
    "    review_summary = driver.find_elements(By.XPATH,\"//p[@class='_2-N8zT']\")\n",
    "    \n",
    "    for i in review_summary:\n",
    "        Review_Summary.append(i.text)\n",
    "\n",
    "    next_button = driver.find_element(By.XPATH,\"//a[@class='_1LKTO3']\")\n",
    "    next_button.click()\n",
    "    time.sleep(5)"
   ]
  },
  {
   "cell_type": "code",
   "execution_count": 16,
   "id": "78a0dcae",
   "metadata": {},
   "outputs": [
    {
     "data": {
      "text/plain": [
       "100"
      ]
     },
     "execution_count": 16,
     "metadata": {},
     "output_type": "execute_result"
    }
   ],
   "source": [
    "len(Review_Summary)"
   ]
  },
  {
   "cell_type": "code",
   "execution_count": 17,
   "id": "31ea2e8c",
   "metadata": {},
   "outputs": [
    {
     "data": {
      "text/plain": [
       "[<selenium.webdriver.remote.webelement.WebElement (session=\"51a409df1f68326c9fb696940a259149\", element=\"fd43f2c3-9071-4d7a-a037-4c3f04552ce5\")>,\n",
       " <selenium.webdriver.remote.webelement.WebElement (session=\"51a409df1f68326c9fb696940a259149\", element=\"ac399346-a756-4549-a8d4-847a80d14fc3\")>,\n",
       " <selenium.webdriver.remote.webelement.WebElement (session=\"51a409df1f68326c9fb696940a259149\", element=\"50b134ea-d20d-41b9-9149-2d4661798962\")>,\n",
       " <selenium.webdriver.remote.webelement.WebElement (session=\"51a409df1f68326c9fb696940a259149\", element=\"4dff1e1b-38b1-472d-80cd-0cfcd74dedc6\")>,\n",
       " <selenium.webdriver.remote.webelement.WebElement (session=\"51a409df1f68326c9fb696940a259149\", element=\"90fffc95-5114-4772-99e7-1cbbf025ee35\")>,\n",
       " <selenium.webdriver.remote.webelement.WebElement (session=\"51a409df1f68326c9fb696940a259149\", element=\"194ff7a0-befe-4bb5-9d29-195c80e5b176\")>,\n",
       " <selenium.webdriver.remote.webelement.WebElement (session=\"51a409df1f68326c9fb696940a259149\", element=\"bab5dfbc-0f31-41d7-88ff-7489f89e78d9\")>,\n",
       " <selenium.webdriver.remote.webelement.WebElement (session=\"51a409df1f68326c9fb696940a259149\", element=\"21329656-3b09-49a8-9185-6d971a48130b\")>,\n",
       " <selenium.webdriver.remote.webelement.WebElement (session=\"51a409df1f68326c9fb696940a259149\", element=\"5c90b361-aebd-4087-902b-22fb3d0a20d5\")>]"
      ]
     },
     "execution_count": 17,
     "metadata": {},
     "output_type": "execute_result"
    }
   ],
   "source": [
    "url = driver.find_elements(By.XPATH,\"//a[@class='ge-49M']\")\n",
    "url[0:10]"
   ]
  },
  {
   "cell_type": "code",
   "execution_count": 18,
   "id": "a2cd0c38",
   "metadata": {},
   "outputs": [
    {
     "name": "stdout",
     "output_type": "stream",
     "text": [
      "https://www.flipkart.com/apple-iphone-11-black-64-gb/product-reviews/itm4e5041ba101fd?pid=MOBFWQ6BXGJCEYNY&lid=LSTMOBFWQ6BXGJCEYNYZXSHRJ&market=&page=1\n",
      "https://www.flipkart.com/apple-iphone-11-black-64-gb/product-reviews/itm4e5041ba101fd?pid=MOBFWQ6BXGJCEYNY&lid=LSTMOBFWQ6BXGJCEYNYZXSHRJ&market=&page=3\n",
      "https://www.flipkart.com/apple-iphone-11-black-64-gb/product-reviews/itm4e5041ba101fd?pid=MOBFWQ6BXGJCEYNY&lid=LSTMOBFWQ6BXGJCEYNYZXSHRJ&market=&page=4\n",
      "https://www.flipkart.com/apple-iphone-11-black-64-gb/product-reviews/itm4e5041ba101fd?pid=MOBFWQ6BXGJCEYNY&lid=LSTMOBFWQ6BXGJCEYNYZXSHRJ&market=&page=5\n",
      "https://www.flipkart.com/apple-iphone-11-black-64-gb/product-reviews/itm4e5041ba101fd?pid=MOBFWQ6BXGJCEYNY&lid=LSTMOBFWQ6BXGJCEYNYZXSHRJ&market=&page=6\n",
      "https://www.flipkart.com/apple-iphone-11-black-64-gb/product-reviews/itm4e5041ba101fd?pid=MOBFWQ6BXGJCEYNY&lid=LSTMOBFWQ6BXGJCEYNYZXSHRJ&market=&page=7\n",
      "https://www.flipkart.com/apple-iphone-11-black-64-gb/product-reviews/itm4e5041ba101fd?pid=MOBFWQ6BXGJCEYNY&lid=LSTMOBFWQ6BXGJCEYNYZXSHRJ&market=&page=8\n",
      "https://www.flipkart.com/apple-iphone-11-black-64-gb/product-reviews/itm4e5041ba101fd?pid=MOBFWQ6BXGJCEYNY&lid=LSTMOBFWQ6BXGJCEYNYZXSHRJ&market=&page=9\n",
      "https://www.flipkart.com/apple-iphone-11-black-64-gb/product-reviews/itm4e5041ba101fd?pid=MOBFWQ6BXGJCEYNY&lid=LSTMOBFWQ6BXGJCEYNYZXSHRJ&market=&page=10\n"
     ]
    }
   ],
   "source": [
    "for i in url[0:10]:\n",
    "    print(i.get_attribute('href'))"
   ]
  },
  {
   "cell_type": "code",
   "execution_count": 19,
   "id": "3864b39a",
   "metadata": {},
   "outputs": [],
   "source": [
    "start=0\n",
    "end=10\n",
    "\n",
    "for page in range(start,end):\n",
    "\n",
    "    full_review = driver.find_elements(By.XPATH,\"//div[@class='t-ZTKy']/div/div\")   \n",
    "    for i in full_review:\n",
    "        Full_Review.append(i.text)\n",
    "\n",
    "    next_button = driver.find_element(By.XPATH,\"//a[@class='_1LKTO3']\")\n",
    "    next_button.click()\n",
    "    time.sleep(5)"
   ]
  },
  {
   "cell_type": "code",
   "execution_count": 20,
   "id": "4e6dceda",
   "metadata": {},
   "outputs": [
    {
     "data": {
      "text/plain": [
       "100"
      ]
     },
     "execution_count": 20,
     "metadata": {},
     "output_type": "execute_result"
    }
   ],
   "source": [
    "len(Full_Review)"
   ]
  },
  {
   "cell_type": "code",
   "execution_count": 21,
   "id": "4a050b61",
   "metadata": {},
   "outputs": [
    {
     "data": {
      "text/html": [
       "<div>\n",
       "<style scoped>\n",
       "    .dataframe tbody tr th:only-of-type {\n",
       "        vertical-align: middle;\n",
       "    }\n",
       "\n",
       "    .dataframe tbody tr th {\n",
       "        vertical-align: top;\n",
       "    }\n",
       "\n",
       "    .dataframe thead th {\n",
       "        text-align: right;\n",
       "    }\n",
       "</style>\n",
       "<table border=\"1\" class=\"dataframe\">\n",
       "  <thead>\n",
       "    <tr style=\"text-align: right;\">\n",
       "      <th></th>\n",
       "      <th>Rating</th>\n",
       "      <th>Review summary</th>\n",
       "      <th>full review</th>\n",
       "    </tr>\n",
       "  </thead>\n",
       "  <tbody>\n",
       "    <tr>\n",
       "      <th>0</th>\n",
       "      <td>5</td>\n",
       "      <td>Pretty good</td>\n",
       "      <td>I was using Iphone 6s and also Oneplus 6t. Bot...</td>\n",
       "    </tr>\n",
       "    <tr>\n",
       "      <th>1</th>\n",
       "      <td>5</td>\n",
       "      <td>Classy product</td>\n",
       "      <td>Best and amazing product.....phone looks so pr...</td>\n",
       "    </tr>\n",
       "    <tr>\n",
       "      <th>2</th>\n",
       "      <td>5</td>\n",
       "      <td>Worth every penny</td>\n",
       "      <td>i11 is worthy to buy, too much happy with the ...</td>\n",
       "    </tr>\n",
       "    <tr>\n",
       "      <th>3</th>\n",
       "      <td>4</td>\n",
       "      <td>Perfect product!</td>\n",
       "      <td>It’s a must buy who is looking for an upgrade ...</td>\n",
       "    </tr>\n",
       "    <tr>\n",
       "      <th>4</th>\n",
       "      <td>5</td>\n",
       "      <td>Good choice</td>\n",
       "      <td>So far it’s been an AMAZING experience coming ...</td>\n",
       "    </tr>\n",
       "    <tr>\n",
       "      <th>...</th>\n",
       "      <td>...</td>\n",
       "      <td>...</td>\n",
       "      <td>...</td>\n",
       "    </tr>\n",
       "    <tr>\n",
       "      <th>95</th>\n",
       "      <td>5</td>\n",
       "      <td>Perfect product!</td>\n",
       "      <td>Value for money❤️❤️\\nIts awesome mobile phone ...</td>\n",
       "    </tr>\n",
       "    <tr>\n",
       "      <th>96</th>\n",
       "      <td>5</td>\n",
       "      <td>Highly recommended</td>\n",
       "      <td>iphone 11 is a very good phone to buy only if ...</td>\n",
       "    </tr>\n",
       "    <tr>\n",
       "      <th>97</th>\n",
       "      <td>5</td>\n",
       "      <td>Perfect product!</td>\n",
       "      <td>It is just awesome mobile for this price from ...</td>\n",
       "    </tr>\n",
       "    <tr>\n",
       "      <th>98</th>\n",
       "      <td>4</td>\n",
       "      <td>Value-for-money</td>\n",
       "      <td>Just got this iphone 11\\nAnd it is most powerf...</td>\n",
       "    </tr>\n",
       "    <tr>\n",
       "      <th>99</th>\n",
       "      <td>5</td>\n",
       "      <td>Highly recommended</td>\n",
       "      <td>Amazing camera quality as expected, battery al...</td>\n",
       "    </tr>\n",
       "  </tbody>\n",
       "</table>\n",
       "<p>100 rows × 3 columns</p>\n",
       "</div>"
      ],
      "text/plain": [
       "   Rating      Review summary  \\\n",
       "0       5         Pretty good   \n",
       "1       5      Classy product   \n",
       "2       5   Worth every penny   \n",
       "3       4    Perfect product!   \n",
       "4       5         Good choice   \n",
       "..    ...                 ...   \n",
       "95      5    Perfect product!   \n",
       "96      5  Highly recommended   \n",
       "97      5    Perfect product!   \n",
       "98      4     Value-for-money   \n",
       "99      5  Highly recommended   \n",
       "\n",
       "                                          full review  \n",
       "0   I was using Iphone 6s and also Oneplus 6t. Bot...  \n",
       "1   Best and amazing product.....phone looks so pr...  \n",
       "2   i11 is worthy to buy, too much happy with the ...  \n",
       "3   It’s a must buy who is looking for an upgrade ...  \n",
       "4   So far it’s been an AMAZING experience coming ...  \n",
       "..                                                ...  \n",
       "95  Value for money❤️❤️\\nIts awesome mobile phone ...  \n",
       "96  iphone 11 is a very good phone to buy only if ...  \n",
       "97  It is just awesome mobile for this price from ...  \n",
       "98  Just got this iphone 11\\nAnd it is most powerf...  \n",
       "99  Amazing camera quality as expected, battery al...  \n",
       "\n",
       "[100 rows x 3 columns]"
      ]
     },
     "execution_count": 21,
     "metadata": {},
     "output_type": "execute_result"
    }
   ],
   "source": [
    "df = pd.DataFrame({'Rating':Rating,'Review summary':Review_Summary,'full review':Full_Review})\n",
    "df"
   ]
  },
  {
   "cell_type": "markdown",
   "id": "3beb571b",
   "metadata": {},
   "source": [
    "# Q-9"
   ]
  },
  {
   "cell_type": "code",
   "execution_count": 27,
   "id": "e17eb0d3",
   "metadata": {},
   "outputs": [],
   "source": [
    "import selenium\n",
    "import pandas as pd\n",
    "from selenium import webdriver \n",
    "import warnings\n",
    "warnings.filterwarnings('ignore')\n",
    "from selenium.common.exceptions import StaleElementReferenceException,NoSuchElementException\n",
    "from selenium.webdriver.common.by import By\n",
    "import time"
   ]
  },
  {
   "cell_type": "code",
   "execution_count": 28,
   "id": "8f9d70b2",
   "metadata": {},
   "outputs": [],
   "source": [
    "#Let's Connect the driver:-\n",
    "driver = webdriver.Chrome(r\"C:\\Users\\SUVARCHALA\\Downloads\\chromedriver_win32.chromedriver.exe\")"
   ]
  },
  {
   "cell_type": "code",
   "execution_count": 29,
   "id": "04899589",
   "metadata": {},
   "outputs": [],
   "source": [
    "# Opening the jagranjosh page on automated chrome browser\n",
    "driver.get(\"https://www.jagranjosh.com/\")"
   ]
  },
  {
   "cell_type": "code",
   "execution_count": 30,
   "id": "f3068aae",
   "metadata": {},
   "outputs": [],
   "source": [
    "search = driver.find_element(By.XPATH,\"/html/body/div/div[1]/div/div[1]/div/div[6]/div/div[1]/header/div[3]/ul/li[9]/a\")\n",
    "search.click()"
   ]
  },
  {
   "cell_type": "code",
   "execution_count": 31,
   "id": "00dfc8cc",
   "metadata": {},
   "outputs": [],
   "source": [
    "search = driver.find_element(By.XPATH,\"/html/body/div[1]/div/div/div[2]/div/div[10]/div/div/ul/li[2]/a\")\n",
    "search.click()"
   ]
  },
  {
   "cell_type": "code",
   "execution_count": 32,
   "id": "42b0fd60",
   "metadata": {},
   "outputs": [],
   "source": [
    "Name = []\n",
    "Born_dead=[]\n",
    "Term_Of_Office=[]\n",
    "Remarks=[]"
   ]
  },
  {
   "cell_type": "code",
   "execution_count": 33,
   "id": "64ad3f28",
   "metadata": {},
   "outputs": [],
   "source": [
    "#Scraping Name from the given Page\n",
    "name_tag = driver.find_elements(By.XPATH,'//div[@class=\"table-box\"]/table/tbody/tr/td[2]/p')\n",
    "for i in name_tag[0:18]:\n",
    "    name = i.text\n",
    "    Name.append(name)\n",
    "    \n",
    "#Scraping Born-dead from the given page\n",
    "born_dead_tags = driver.find_elements(By.XPATH,'//div[@class=\"table-box\"]/table/tbody/tr/td[3]/p')\n",
    "for i in born_dead_tags[0:18]:\n",
    "    born_dead_tags = i.text\n",
    "    Born_dead.append(born_dead_tags)\n",
    "    \n",
    "#Scraping Term_of_office name from the given page\n",
    "term_of_office = driver.find_elements(By.XPATH,'//div[@class=\"table-box\"]/table/tbody/tr/td[4]/p')\n",
    "for i in term_of_office[0:18]:\n",
    "    term_of_office = i.text\n",
    "    Term_Of_Office.append(term_of_office)\n",
    "    \n",
    "#Scraping Remarks from the given page\n",
    "remarks = driver.find_elements(By.XPATH,\"//div[@class='table-box']/table/tbody/tr/td[5]/p\")\n",
    "for i in remarks[0:18]:\n",
    "    remarks = i.text\n",
    "    Remarks.append(remarks)\n"
   ]
  },
  {
   "cell_type": "code",
   "execution_count": 34,
   "id": "4c31a4fa",
   "metadata": {},
   "outputs": [
    {
     "name": "stdout",
     "output_type": "stream",
     "text": [
      "18 18 18 18\n"
     ]
    }
   ],
   "source": [
    "print(len(Name),len(Born_dead),len(Term_Of_Office),len(Remarks))"
   ]
  },
  {
   "cell_type": "code",
   "execution_count": 35,
   "id": "f2531900",
   "metadata": {},
   "outputs": [
    {
     "data": {
      "text/html": [
       "<div>\n",
       "<style scoped>\n",
       "    .dataframe tbody tr th:only-of-type {\n",
       "        vertical-align: middle;\n",
       "    }\n",
       "\n",
       "    .dataframe tbody tr th {\n",
       "        vertical-align: top;\n",
       "    }\n",
       "\n",
       "    .dataframe thead th {\n",
       "        text-align: right;\n",
       "    }\n",
       "</style>\n",
       "<table border=\"1\" class=\"dataframe\">\n",
       "  <thead>\n",
       "    <tr style=\"text-align: right;\">\n",
       "      <th></th>\n",
       "      <th>NAME</th>\n",
       "      <th>BORN-DEAD</th>\n",
       "      <th>TERM-OF-OFFICE</th>\n",
       "      <th>REMARKS</th>\n",
       "    </tr>\n",
       "  </thead>\n",
       "  <tbody>\n",
       "    <tr>\n",
       "      <th>0</th>\n",
       "      <td>Jawahar Lal Nehru</td>\n",
       "      <td>(1889–1964)</td>\n",
       "      <td>15 August 1947 to 27 May 1964</td>\n",
       "      <td>The first prime minister of India and the long...</td>\n",
       "    </tr>\n",
       "    <tr>\n",
       "      <th>1</th>\n",
       "      <td>Gulzarilal Nanda (Acting)</td>\n",
       "      <td>(1898-1998)</td>\n",
       "      <td>16 years, 286 days</td>\n",
       "      <td>First acting PM of India</td>\n",
       "    </tr>\n",
       "    <tr>\n",
       "      <th>2</th>\n",
       "      <td>Lal Bahadur Shastri</td>\n",
       "      <td>(1904–1966)</td>\n",
       "      <td>27 May 1964 to 9 June 1964,</td>\n",
       "      <td>He has given the slogan of 'Jai Jawan Jai Kisa...</td>\n",
       "    </tr>\n",
       "    <tr>\n",
       "      <th>3</th>\n",
       "      <td>Gulzari Lal Nanda  (Acting)</td>\n",
       "      <td>(1898-1998)</td>\n",
       "      <td>13 days</td>\n",
       "      <td>-</td>\n",
       "    </tr>\n",
       "    <tr>\n",
       "      <th>4</th>\n",
       "      <td>Indira Gandhi</td>\n",
       "      <td>(1917–1984)</td>\n",
       "      <td>9 June 1964 to 11 January 1966</td>\n",
       "      <td>First female Prime Minister of India</td>\n",
       "    </tr>\n",
       "    <tr>\n",
       "      <th>5</th>\n",
       "      <td>Morarji Desai</td>\n",
       "      <td>(1896–1995)</td>\n",
       "      <td>1 year, 216 days</td>\n",
       "      <td>Oldest to become PM (81 years old) and first t...</td>\n",
       "    </tr>\n",
       "    <tr>\n",
       "      <th>6</th>\n",
       "      <td>Charan Singh</td>\n",
       "      <td>(1902–1987)</td>\n",
       "      <td>11 January 1966 to 24 January 1966</td>\n",
       "      <td>Only PM who did not face the Parliament</td>\n",
       "    </tr>\n",
       "    <tr>\n",
       "      <th>7</th>\n",
       "      <td>Indira Gandhi</td>\n",
       "      <td>(1917–1984)</td>\n",
       "      <td>13 days</td>\n",
       "      <td>The first lady who served as PM for the second...</td>\n",
       "    </tr>\n",
       "    <tr>\n",
       "      <th>8</th>\n",
       "      <td>Rajiv Gandhi</td>\n",
       "      <td>(1944–1991)</td>\n",
       "      <td>24 January 1966 to 24 March 1977</td>\n",
       "      <td>Youngest to become PM (40 years old)</td>\n",
       "    </tr>\n",
       "    <tr>\n",
       "      <th>9</th>\n",
       "      <td>V. P. Singh</td>\n",
       "      <td>(1931–2008)</td>\n",
       "      <td>11 years, 59 days</td>\n",
       "      <td>First PM to step down after a vote of no confi...</td>\n",
       "    </tr>\n",
       "    <tr>\n",
       "      <th>10</th>\n",
       "      <td>Chandra Shekhar</td>\n",
       "      <td>(1927–2007)</td>\n",
       "      <td>24 March 1977 to  28 July 1979</td>\n",
       "      <td>He belongs to  Samajwadi Janata Party</td>\n",
       "    </tr>\n",
       "    <tr>\n",
       "      <th>11</th>\n",
       "      <td>P. V. Narasimha Rao</td>\n",
       "      <td>(1921–2004)</td>\n",
       "      <td>2 year, 126 days</td>\n",
       "      <td>First PM from south India</td>\n",
       "    </tr>\n",
       "    <tr>\n",
       "      <th>12</th>\n",
       "      <td>Atal Bihari Vajpayee</td>\n",
       "      <td>(1924- 2018)</td>\n",
       "      <td>28 July 1979 to 14 January 1980</td>\n",
       "      <td>PM for shortest tenure</td>\n",
       "    </tr>\n",
       "    <tr>\n",
       "      <th>13</th>\n",
       "      <td>H. D. Deve Gowda</td>\n",
       "      <td>(born 1933)</td>\n",
       "      <td>170 days</td>\n",
       "      <td>He belongs to  Janata Dal</td>\n",
       "    </tr>\n",
       "    <tr>\n",
       "      <th>14</th>\n",
       "      <td>Inder Kumar Gujral</td>\n",
       "      <td>(1919–2012)</td>\n",
       "      <td>14 January 1980 to 31 October 1984</td>\n",
       "      <td>------</td>\n",
       "    </tr>\n",
       "    <tr>\n",
       "      <th>15</th>\n",
       "      <td>Atal Bihari Vajpayee</td>\n",
       "      <td>(1924-2018)</td>\n",
       "      <td>4 years, 291 days</td>\n",
       "      <td>The first non-congress PM who completed a ful...</td>\n",
       "    </tr>\n",
       "    <tr>\n",
       "      <th>16</th>\n",
       "      <td>Manmohan Singh</td>\n",
       "      <td>(born 1932)</td>\n",
       "      <td>31 October 1984 to 2 December 1989</td>\n",
       "      <td>First Sikh PM</td>\n",
       "    </tr>\n",
       "    <tr>\n",
       "      <th>17</th>\n",
       "      <td>Narendra Modi</td>\n",
       "      <td>(born 1950)</td>\n",
       "      <td>5 years, 32 days</td>\n",
       "      <td>4th Prime Minister of India who served two con...</td>\n",
       "    </tr>\n",
       "  </tbody>\n",
       "</table>\n",
       "</div>"
      ],
      "text/plain": [
       "                           NAME     BORN-DEAD  \\\n",
       "0             Jawahar Lal Nehru   (1889–1964)   \n",
       "1     Gulzarilal Nanda (Acting)   (1898-1998)   \n",
       "2           Lal Bahadur Shastri   (1904–1966)   \n",
       "3   Gulzari Lal Nanda  (Acting)   (1898-1998)   \n",
       "4                 Indira Gandhi   (1917–1984)   \n",
       "5                 Morarji Desai   (1896–1995)   \n",
       "6                  Charan Singh   (1902–1987)   \n",
       "7                 Indira Gandhi   (1917–1984)   \n",
       "8                  Rajiv Gandhi   (1944–1991)   \n",
       "9                   V. P. Singh   (1931–2008)   \n",
       "10              Chandra Shekhar   (1927–2007)   \n",
       "11          P. V. Narasimha Rao   (1921–2004)   \n",
       "12         Atal Bihari Vajpayee  (1924- 2018)   \n",
       "13             H. D. Deve Gowda   (born 1933)   \n",
       "14           Inder Kumar Gujral   (1919–2012)   \n",
       "15         Atal Bihari Vajpayee   (1924-2018)   \n",
       "16               Manmohan Singh   (born 1932)   \n",
       "17                Narendra Modi   (born 1950)   \n",
       "\n",
       "                        TERM-OF-OFFICE  \\\n",
       "0        15 August 1947 to 27 May 1964   \n",
       "1                   16 years, 286 days   \n",
       "2          27 May 1964 to 9 June 1964,   \n",
       "3                              13 days   \n",
       "4       9 June 1964 to 11 January 1966   \n",
       "5                     1 year, 216 days   \n",
       "6   11 January 1966 to 24 January 1966   \n",
       "7                              13 days   \n",
       "8     24 January 1966 to 24 March 1977   \n",
       "9                    11 years, 59 days   \n",
       "10     24 March 1977 to  28 July 1979    \n",
       "11                    2 year, 126 days   \n",
       "12     28 July 1979 to 14 January 1980   \n",
       "13                            170 days   \n",
       "14  14 January 1980 to 31 October 1984   \n",
       "15                   4 years, 291 days   \n",
       "16  31 October 1984 to 2 December 1989   \n",
       "17                    5 years, 32 days   \n",
       "\n",
       "                                              REMARKS  \n",
       "0   The first prime minister of India and the long...  \n",
       "1                            First acting PM of India  \n",
       "2   He has given the slogan of 'Jai Jawan Jai Kisa...  \n",
       "3                                                   -  \n",
       "4                First female Prime Minister of India  \n",
       "5   Oldest to become PM (81 years old) and first t...  \n",
       "6             Only PM who did not face the Parliament  \n",
       "7   The first lady who served as PM for the second...  \n",
       "8                Youngest to become PM (40 years old)  \n",
       "9   First PM to step down after a vote of no confi...  \n",
       "10              He belongs to  Samajwadi Janata Party  \n",
       "11                          First PM from south India  \n",
       "12                             PM for shortest tenure  \n",
       "13                          He belongs to  Janata Dal  \n",
       "14                                             ------  \n",
       "15   The first non-congress PM who completed a ful...  \n",
       "16                                      First Sikh PM  \n",
       "17  4th Prime Minister of India who served two con...  "
      ]
     },
     "execution_count": 35,
     "metadata": {},
     "output_type": "execute_result"
    }
   ],
   "source": [
    "df = pd.DataFrame({'NAME':Name,'BORN-DEAD':Born_dead,'TERM-OF-OFFICE':Term_Of_Office,'REMARKS':Remarks})\n",
    "df"
   ]
  },
  {
   "cell_type": "markdown",
   "id": "b664c9ba",
   "metadata": {},
   "source": [
    "# Q-6"
   ]
  },
  {
   "cell_type": "code",
   "execution_count": 118,
   "id": "c438f7a7",
   "metadata": {},
   "outputs": [],
   "source": [
    "import selenium\n",
    "import pandas as pd\n",
    "from selenium import webdriver \n",
    "import warnings\n",
    "warnings.filterwarnings('ignore')\n",
    "from selenium.common.exceptions import StaleElementReferenceException,NoSuchElementException\n",
    "from selenium.webdriver.common.by import By\n",
    "import time"
   ]
  },
  {
   "cell_type": "code",
   "execution_count": 119,
   "id": "a02bc856",
   "metadata": {},
   "outputs": [],
   "source": [
    "#Let's Connect the driver:-\n",
    "driver = webdriver.Chrome(r\"C:\\Users\\SUVARCHALA\\Downloads\\chromedriver_win32.chromedriver.exe\")"
   ]
  },
  {
   "cell_type": "code",
   "execution_count": 120,
   "id": "6a93e23f",
   "metadata": {},
   "outputs": [],
   "source": [
    "# Opening the Flipkart page on automated chrome browser\n",
    "driver.get(\"https://www.flipkart.com/\")"
   ]
  },
  {
   "cell_type": "code",
   "execution_count": 121,
   "id": "ba797365",
   "metadata": {},
   "outputs": [],
   "source": [
    "#entering sneakers required in the question-\n",
    "Products = driver.find_element(By.CLASS_NAME,\"_3704LK\")\n",
    "Products.send_keys(\"sneakers\") "
   ]
  },
  {
   "cell_type": "code",
   "execution_count": 122,
   "id": "07244bb0",
   "metadata": {},
   "outputs": [],
   "source": [
    "search = driver.find_element(By.CLASS_NAME,\"L0Z3Pu\")\n",
    "search.click()"
   ]
  },
  {
   "cell_type": "code",
   "execution_count": 123,
   "id": "743fd38f",
   "metadata": {},
   "outputs": [],
   "source": [
    "Brand=[]\n",
    "Product_Discription=[]\n",
    "Price=[]"
   ]
  },
  {
   "cell_type": "code",
   "execution_count": 126,
   "id": "4fc48f6f",
   "metadata": {},
   "outputs": [],
   "source": [
    "start=0\n",
    "end=3\n",
    "\n",
    "#Scraping Brand Title from the given Page\n",
    "for page in range(start,end):\n",
    "    \n",
    "    brand_tags = driver.find_elements(By.XPATH,\"//div[@class='_2WkVRV']\")\n",
    "    for i in brand_tags:\n",
    "        Brand.append(i.text)\n",
    "        \n",
    "    next_button = driver.find_element(By.CLASS_NAME,\"_1LKTO3\")\n",
    "    next_button.click()\n",
    "    time.sleep(5)\n",
    "BRAND = Brand[0:100]"
   ]
  },
  {
   "cell_type": "code",
   "execution_count": 127,
   "id": "d38070d4",
   "metadata": {},
   "outputs": [
    {
     "data": {
      "text/plain": [
       "100"
      ]
     },
     "execution_count": 127,
     "metadata": {},
     "output_type": "execute_result"
    }
   ],
   "source": [
    "len(BRAND)"
   ]
  },
  {
   "cell_type": "code",
   "execution_count": 128,
   "id": "f9328cee",
   "metadata": {},
   "outputs": [
    {
     "data": {
      "text/plain": [
       "[<selenium.webdriver.remote.webelement.WebElement (session=\"6b26a2b44de17ee3a8e4e69a480e6a89\", element=\"7543c6b2-07cf-4841-bbac-c64710767e87\")>,\n",
       " <selenium.webdriver.remote.webelement.WebElement (session=\"6b26a2b44de17ee3a8e4e69a480e6a89\", element=\"2b2ef81e-a3b2-49f0-bae9-62eed8126e12\")>,\n",
       " <selenium.webdriver.remote.webelement.WebElement (session=\"6b26a2b44de17ee3a8e4e69a480e6a89\", element=\"5bc649a7-da33-4401-8380-3c901c20475a\")>,\n",
       " <selenium.webdriver.remote.webelement.WebElement (session=\"6b26a2b44de17ee3a8e4e69a480e6a89\", element=\"c34d7038-1f58-41d4-9a32-30bd23f2a484\")>,\n",
       " <selenium.webdriver.remote.webelement.WebElement (session=\"6b26a2b44de17ee3a8e4e69a480e6a89\", element=\"1a2705d7-373c-4546-a318-3016561b25e0\")>,\n",
       " <selenium.webdriver.remote.webelement.WebElement (session=\"6b26a2b44de17ee3a8e4e69a480e6a89\", element=\"0b37f206-a3d4-4c26-8bdb-b1f856760bcf\")>,\n",
       " <selenium.webdriver.remote.webelement.WebElement (session=\"6b26a2b44de17ee3a8e4e69a480e6a89\", element=\"e01f7bb2-9963-47d9-afc4-e2508cecddd9\")>,\n",
       " <selenium.webdriver.remote.webelement.WebElement (session=\"6b26a2b44de17ee3a8e4e69a480e6a89\", element=\"2f864f4b-e1fe-41e5-9afb-c67588ef1db3\")>,\n",
       " <selenium.webdriver.remote.webelement.WebElement (session=\"6b26a2b44de17ee3a8e4e69a480e6a89\", element=\"87a4f76d-58a1-49eb-8de0-36b3e72a445a\")>,\n",
       " <selenium.webdriver.remote.webelement.WebElement (session=\"6b26a2b44de17ee3a8e4e69a480e6a89\", element=\"2241cb3f-90ca-48b2-9570-d425bac6e81e\")>,\n",
       " <selenium.webdriver.remote.webelement.WebElement (session=\"6b26a2b44de17ee3a8e4e69a480e6a89\", element=\"093effb6-911c-4b30-afa6-2ba5a86cfa32\")>,\n",
       " <selenium.webdriver.remote.webelement.WebElement (session=\"6b26a2b44de17ee3a8e4e69a480e6a89\", element=\"30f02b2f-ac2e-4f35-ab53-b9d860b85182\")>,\n",
       " <selenium.webdriver.remote.webelement.WebElement (session=\"6b26a2b44de17ee3a8e4e69a480e6a89\", element=\"585144f0-5b27-484b-9eca-344283612235\")>,\n",
       " <selenium.webdriver.remote.webelement.WebElement (session=\"6b26a2b44de17ee3a8e4e69a480e6a89\", element=\"f1c78b66-7e3e-454d-9f59-a8d7ade0a1bd\")>,\n",
       " <selenium.webdriver.remote.webelement.WebElement (session=\"6b26a2b44de17ee3a8e4e69a480e6a89\", element=\"28cbdea4-e784-4061-b8d1-3dfc2f96e642\")>,\n",
       " <selenium.webdriver.remote.webelement.WebElement (session=\"6b26a2b44de17ee3a8e4e69a480e6a89\", element=\"1299e2ae-f52b-491c-91f7-91b55346b215\")>,\n",
       " <selenium.webdriver.remote.webelement.WebElement (session=\"6b26a2b44de17ee3a8e4e69a480e6a89\", element=\"b881f973-795f-40b3-995c-1dddff664c48\")>,\n",
       " <selenium.webdriver.remote.webelement.WebElement (session=\"6b26a2b44de17ee3a8e4e69a480e6a89\", element=\"2941993d-9697-47c7-808b-24bf5d1bf720\")>,\n",
       " <selenium.webdriver.remote.webelement.WebElement (session=\"6b26a2b44de17ee3a8e4e69a480e6a89\", element=\"ce8d0d36-7456-43d6-81df-7ad1efea5017\")>,\n",
       " <selenium.webdriver.remote.webelement.WebElement (session=\"6b26a2b44de17ee3a8e4e69a480e6a89\", element=\"076681c1-0883-457f-889a-262c96ce0cf9\")>,\n",
       " <selenium.webdriver.remote.webelement.WebElement (session=\"6b26a2b44de17ee3a8e4e69a480e6a89\", element=\"b7e89dd2-36a3-4896-8ab3-a41827628542\")>,\n",
       " <selenium.webdriver.remote.webelement.WebElement (session=\"6b26a2b44de17ee3a8e4e69a480e6a89\", element=\"6e2ef821-df26-457b-b5ab-235aa8cc1cba\")>,\n",
       " <selenium.webdriver.remote.webelement.WebElement (session=\"6b26a2b44de17ee3a8e4e69a480e6a89\", element=\"821210a1-a97b-463c-92af-459625b92975\")>,\n",
       " <selenium.webdriver.remote.webelement.WebElement (session=\"6b26a2b44de17ee3a8e4e69a480e6a89\", element=\"a1b92015-288b-426a-9218-d01c8039646a\")>,\n",
       " <selenium.webdriver.remote.webelement.WebElement (session=\"6b26a2b44de17ee3a8e4e69a480e6a89\", element=\"1be813ca-44ad-49e0-99c2-bb5a12cc857e\")>,\n",
       " <selenium.webdriver.remote.webelement.WebElement (session=\"6b26a2b44de17ee3a8e4e69a480e6a89\", element=\"e06787f6-f4ab-4a99-8181-58e5c907f69a\")>,\n",
       " <selenium.webdriver.remote.webelement.WebElement (session=\"6b26a2b44de17ee3a8e4e69a480e6a89\", element=\"7a5fffb3-ba3f-4389-9a62-50d0b86013a5\")>,\n",
       " <selenium.webdriver.remote.webelement.WebElement (session=\"6b26a2b44de17ee3a8e4e69a480e6a89\", element=\"77c716e3-29f4-4433-99f1-556a9271750e\")>,\n",
       " <selenium.webdriver.remote.webelement.WebElement (session=\"6b26a2b44de17ee3a8e4e69a480e6a89\", element=\"8e2f4023-9f54-4ade-9152-d466a489c946\")>,\n",
       " <selenium.webdriver.remote.webelement.WebElement (session=\"6b26a2b44de17ee3a8e4e69a480e6a89\", element=\"5a55d046-6522-446f-927b-8f7f66d79774\")>,\n",
       " <selenium.webdriver.remote.webelement.WebElement (session=\"6b26a2b44de17ee3a8e4e69a480e6a89\", element=\"0a79efb7-7f4f-406b-9f4f-47ef1e89fd51\")>,\n",
       " <selenium.webdriver.remote.webelement.WebElement (session=\"6b26a2b44de17ee3a8e4e69a480e6a89\", element=\"cf452ecd-ef5b-4c0c-8ad3-f97d8a56b810\")>,\n",
       " <selenium.webdriver.remote.webelement.WebElement (session=\"6b26a2b44de17ee3a8e4e69a480e6a89\", element=\"efef86d8-2b8a-471b-9436-9b6a879779a4\")>,\n",
       " <selenium.webdriver.remote.webelement.WebElement (session=\"6b26a2b44de17ee3a8e4e69a480e6a89\", element=\"3a44b4d6-77f4-401d-9752-64fa0aed5bb6\")>,\n",
       " <selenium.webdriver.remote.webelement.WebElement (session=\"6b26a2b44de17ee3a8e4e69a480e6a89\", element=\"59d0c932-47e2-414d-87ca-b88b0c4cf9b4\")>,\n",
       " <selenium.webdriver.remote.webelement.WebElement (session=\"6b26a2b44de17ee3a8e4e69a480e6a89\", element=\"da261b01-042d-4001-a9fc-22c9c04b21d8\")>,\n",
       " <selenium.webdriver.remote.webelement.WebElement (session=\"6b26a2b44de17ee3a8e4e69a480e6a89\", element=\"57b59631-f31b-4114-bbe3-4401eb6e05fe\")>,\n",
       " <selenium.webdriver.remote.webelement.WebElement (session=\"6b26a2b44de17ee3a8e4e69a480e6a89\", element=\"07f7a2ef-e828-42ff-88bc-093f10938b25\")>,\n",
       " <selenium.webdriver.remote.webelement.WebElement (session=\"6b26a2b44de17ee3a8e4e69a480e6a89\", element=\"b33e3bf6-9934-44d7-8799-223f02a94330\")>]"
      ]
     },
     "execution_count": 128,
     "metadata": {},
     "output_type": "execute_result"
    }
   ],
   "source": [
    "url = driver.find_elements(By.XPATH,'//a[@class=\"IRpwTa\"]')\n",
    "url[0:120]"
   ]
  },
  {
   "cell_type": "code",
   "execution_count": 129,
   "id": "17f5d099",
   "metadata": {},
   "outputs": [
    {
     "name": "stdout",
     "output_type": "stream",
     "text": [
      "https://www.flipkart.com/asian-trendy-21-white-girls-casuals-loafers-stylish-color-changing-sneakers-women/p/itm92e2ba322fa94?pid=SHOGJ69ZHHVZA6BK&lid=LSTSHOGJ69ZHHVZA6BKAPKKCT&marketplace=FLIPKART&q=sneakers&store=osp&srno=s_1_1&otracker=search&otracker1=search&fm=Search&iid=en_E2xqVlMwDKfXKzqy8IGFvzZpOLYdxfDOq%2F67Ahjn%2FRglxbiBxi6gfzOFcJgbGcpSwz1SuY96VYyAtWpLS0Xoaw%3D%3D&ppt=sp&ppn=sp&ssid=2a6d247cao0000001670691629888&qH=a1743c0d39461290\n",
      "https://www.flipkart.com/tr-running-walking-sport-shoes-men-sneakers/p/itm874a349cbf2d5?pid=SHOGGZEFCHRSFPGF&lid=LSTSHOGGZEFCHRSFPGFYKWXWF&marketplace=FLIPKART&q=sneakers&store=osp&srno=s_1_2&otracker=search&otracker1=search&fm=Search&iid=en_E2xqVlMwDKfXKzqy8IGFvzZpOLYdxfDOq%2F67Ahjn%2FRjLomJvFUUa%2F3rNErwEDZgTqsNUGvEYIkTZcUXbGhslYQ%3D%3D&ppt=sp&ppn=sp&ssid=2a6d247cao0000001670691629888&qH=a1743c0d39461290\n",
      "https://www.flipkart.com/labbin-sneakers-men/p/itm22551963c0809?pid=SHOG497GM6AVWCEU&lid=LSTSHOG497GM6AVWCEUBBOTEM&marketplace=FLIPKART&q=sneakers&store=osp&srno=s_1_3&otracker=search&otracker1=search&fm=Search&iid=63037a27-fcc2-49f0-b914-6bcf40aad039.SHOG497GM6AVWCEU.SEARCH&ppt=sp&ppn=sp&ssid=2a6d247cao0000001670691629888&qH=a1743c0d39461290\n",
      "https://www.flipkart.com/shozie-sneakers-men/p/itmcd8e2b913c36f?pid=SHOFZDYHFZ5W3R7E&lid=LSTSHOFZDYHFZ5W3R7EFUGD6F&marketplace=FLIPKART&q=sneakers&store=osp&srno=s_1_4&otracker=search&otracker1=search&fm=Search&iid=63037a27-fcc2-49f0-b914-6bcf40aad039.SHOFZDYHFZ5W3R7E.SEARCH&ppt=sp&ppn=sp&ssid=2a6d247cao0000001670691629888&qH=a1743c0d39461290\n",
      "https://www.flipkart.com/sfr-planck-smart-grey-lace-ups-casuals-sneakers-men/p/itm235876f38d67e?pid=SHOGHXGUPVVFMTMH&lid=LSTSHOGHXGUPVVFMTMHV7SEDW&marketplace=FLIPKART&q=sneakers&store=osp&srno=s_1_5&otracker=search&otracker1=search&fm=Search&iid=63037a27-fcc2-49f0-b914-6bcf40aad039.SHOGHXGUPVVFMTMH.SEARCH&ppt=sp&ppn=sp&ssid=2a6d247cao0000001670691629888&qH=a1743c0d39461290\n",
      "https://www.flipkart.com/sfr-fast-trenddy-tainer-lace-ups-sporty-casuals-sneakers-men/p/itmbc03267df97fd?pid=SHOGEAGYTQWJSRBP&lid=LSTSHOGEAGYTQWJSRBPAEB5SC&marketplace=FLIPKART&q=sneakers&store=osp&srno=s_1_6&otracker=search&otracker1=search&fm=Search&iid=63037a27-fcc2-49f0-b914-6bcf40aad039.SHOGEAGYTQWJSRBP.SEARCH&ppt=sp&ppn=sp&ssid=2a6d247cao0000001670691629888&qH=a1743c0d39461290\n",
      "https://www.flipkart.com/kzaara-sneakers-men/p/itm540d765c42d7d?pid=SHOG8YYWE9UKXXPS&lid=LSTSHOG8YYWE9UKXXPSVI3SSU&marketplace=FLIPKART&q=sneakers&store=osp&srno=s_1_7&otracker=search&otracker1=search&fm=Search&iid=63037a27-fcc2-49f0-b914-6bcf40aad039.SHOG8YYWE9UKXXPS.SEARCH&ppt=sp&ppn=sp&ssid=2a6d247cao0000001670691629888&qH=a1743c0d39461290\n",
      "https://www.flipkart.com/elevarse-smart-sports-running-shoes-men-boys-sneakers/p/itmaa46cf10d0fbb?pid=SHOGHZH9HWKA5RHW&lid=LSTSHOGHZH9HWKA5RHWAMTP1Z&marketplace=FLIPKART&q=sneakers&store=osp&srno=s_1_8&otracker=search&otracker1=search&fm=Search&iid=en_E2xqVlMwDKfXKzqy8IGFvzZpOLYdxfDOq%2F67Ahjn%2FRgoJC%2FS%2B4ptr5zCJr4AVyTFquYGEySAMEL0blwzL6HqBA%3D%3D&ppt=sp&ppn=sp&ssid=2a6d247cao0000001670691629888&qH=a1743c0d39461290\n",
      "https://www.flipkart.com/aadi-mesh-ultralightweight-comfortable-breathable-walking-outdoor-daily-use-sneakers-men/p/itma442bf9226209?pid=SHOGDZZETU2Z9TKH&lid=LSTSHOGDZZETU2Z9TKHMX4LMI&marketplace=FLIPKART&q=sneakers&store=osp&spotlightTagId=BestsellerId_osp&srno=s_1_9&otracker=search&otracker1=search&fm=Search&iid=63037a27-fcc2-49f0-b914-6bcf40aad039.SHOGDZZETU2Z9TKH.SEARCH&ppt=sp&ppn=sp&ssid=2a6d247cao0000001670691629888&qH=a1743c0d39461290\n",
      "https://www.flipkart.com/bruton-modern-trendy-sneakers-shoes-men/p/itm6036f913ec47f?pid=SHOG293HVNGZFYYG&lid=LSTSHOG293HVNGZFYYGKWCPDF&marketplace=FLIPKART&q=sneakers&store=osp&srno=s_1_10&otracker=search&otracker1=search&fm=Search&iid=63037a27-fcc2-49f0-b914-6bcf40aad039.SHOG293HVNGZFYYG.SEARCH&ppt=sp&ppn=sp&ssid=2a6d247cao0000001670691629888&qH=a1743c0d39461290\n",
      "https://www.flipkart.com/sfr-sneakers-men/p/itm0ae40ea4142eb?pid=SHOGFD3CZFTT4DQ2&lid=LSTSHOGFD3CZFTT4DQ2SSBU0P&marketplace=FLIPKART&q=sneakers&store=osp&srno=s_1_11&otracker=search&otracker1=search&fm=Search&iid=63037a27-fcc2-49f0-b914-6bcf40aad039.SHOGFD3CZFTT4DQ2.SEARCH&ppt=sp&ppn=sp&ssid=2a6d247cao0000001670691629888&qH=a1743c0d39461290\n",
      "https://www.flipkart.com/puma-fiona-wn-s-slipon-sneakers-women/p/itmb3f65f3f57bca?pid=SHOG9BHZ4RRRNJBH&lid=LSTSHOG9BHZ4RRRNJBHHCXBJJ&marketplace=FLIPKART&q=sneakers&store=osp&srno=s_1_12&otracker=search&otracker1=search&fm=Search&iid=en_E2xqVlMwDKfXKzqy8IGFvzZpOLYdxfDOq%2F67Ahjn%2FRjNsm9VZyVa%2BnY69gLghRSxvj29XPPZseEq2BxKVnxS%2Bg%3D%3D&ppt=sp&ppn=sp&ssid=2a6d247cao0000001670691629888&qH=a1743c0d39461290\n",
      "https://www.flipkart.com/scatchite-sneakers-men/p/itmc13680b1d9604?pid=SHOFUDSUHXHE67UG&lid=LSTSHOFUDSUHXHE67UGSXKTQ1&marketplace=FLIPKART&q=sneakers&store=osp&srno=s_1_13&otracker=search&otracker1=search&fm=Search&iid=63037a27-fcc2-49f0-b914-6bcf40aad039.SHOFUDSUHXHE67UG.SEARCH&ppt=sp&ppn=sp&ssid=2a6d247cao0000001670691629888&qH=a1743c0d39461290\n",
      "https://www.flipkart.com/world-wear-footwear-exclusive-affordable-collection-trendy-stylish-casual-sneakers-shoes-men/p/itmf1f2267bb145c?pid=SHOGFDGVVMZG7KYA&lid=LSTSHOGFDGVVMZG7KYAHNUB0B&marketplace=FLIPKART&q=sneakers&store=osp&srno=s_1_14&otracker=search&otracker1=search&fm=Search&iid=63037a27-fcc2-49f0-b914-6bcf40aad039.SHOGFDGVVMZG7KYA.SEARCH&ppt=sp&ppn=sp&ssid=2a6d247cao0000001670691629888&qH=a1743c0d39461290\n",
      "https://www.flipkart.com/reevas-stylish-trending-collection-textured-comfortable-sneakers-men-black/p/itm458f929ef3070?pid=SHOGJYHAEVGKG78M&lid=LSTSHOGJYHAEVGKG78MYLI7FA&marketplace=FLIPKART&q=sneakers&store=osp&srno=s_1_16&otracker=search&otracker1=search&fm=Search&iid=en_E2xqVlMwDKfXKzqy8IGFvzZpOLYdxfDOq%2F67Ahjn%2FRhjjjJZSaZKyt3y1hTxAJGlxRGUvT6PVEAXvU%2BaZwb4hw%3D%3D&ppt=sp&ppn=sp&ssid=2a6d247cao0000001670691629888&qH=a1743c0d39461290\n",
      "https://www.flipkart.com/bond-street-red-tape-high-top-sneakers-men/p/itm8487870f69b9a?pid=SHOGJVHYS9VNF6VS&lid=LSTSHOGJVHYS9VNF6VSAQ0AQH&marketplace=FLIPKART&q=sneakers&store=osp&srno=s_1_17&otracker=search&otracker1=search&fm=Search&iid=63037a27-fcc2-49f0-b914-6bcf40aad039.SHOGJVHYS9VNF6VS.SEARCH&ppt=sp&ppn=sp&ssid=2a6d247cao0000001670691629888&qH=a1743c0d39461290\n",
      "https://www.flipkart.com/deals4you-sneakers-women/p/itmd1241f2f24eb8?pid=SHOG7PJ6CBYM4AVD&lid=LSTSHOG7PJ6CBYM4AVDGU3MZK&marketplace=FLIPKART&q=sneakers&store=osp&srno=s_1_18&otracker=search&otracker1=search&fm=Search&iid=63037a27-fcc2-49f0-b914-6bcf40aad039.SHOG7PJ6CBYM4AVD.SEARCH&ppt=sp&ppn=sp&ssid=2a6d247cao0000001670691629888&qH=a1743c0d39461290\n",
      "https://www.flipkart.com/kraasa-casuals-canvas-partywear-sneakers-men/p/itm3b6ebb856eb64?pid=SHOFGGF775EQNSMW&lid=LSTSHOFGGF775EQNSMWJWRGWA&marketplace=FLIPKART&q=sneakers&store=osp&srno=s_1_19&otracker=search&otracker1=search&fm=Search&iid=63037a27-fcc2-49f0-b914-6bcf40aad039.SHOFGGF775EQNSMW.SEARCH&ppt=sp&ppn=sp&ssid=2a6d247cao0000001670691629888&qH=a1743c0d39461290\n",
      "https://www.flipkart.com/puma-wired-slipon-sneakers-men/p/itm22b7e1757f786?pid=SHOFNU2XX4YGUZ57&lid=LSTSHOFNU2XX4YGUZ574PCCOE&marketplace=FLIPKART&q=sneakers&store=osp&srno=s_1_20&otracker=search&otracker1=search&fm=Search&iid=en_E2xqVlMwDKfXKzqy8IGFvzZpOLYdxfDOq%2F67Ahjn%2FRgC0xXl5GK4OBlaG1jI8Whu1GVN5W6KtSQkaabu49Su%2Bg%3D%3D&ppt=sp&ppn=sp&ssid=2a6d247cao0000001670691629888&qH=a1743c0d39461290\n",
      "https://www.flipkart.com/rzisbo-sneakers-men/p/itm0684b7d811ad8?pid=SHOG6H3DCGWRR3NG&lid=LSTSHOG6H3DCGWRR3NGDXYTI0&marketplace=FLIPKART&q=sneakers&store=osp&srno=s_1_21&otracker=search&otracker1=search&fm=Search&iid=63037a27-fcc2-49f0-b914-6bcf40aad039.SHOG6H3DCGWRR3NG.SEARCH&ppt=sp&ppn=sp&ssid=2a6d247cao0000001670691629888&qH=a1743c0d39461290\n",
      "https://www.flipkart.com/asian-waterproof-05cfullwhite-sneakers-men/p/itm030b374a7fff9?pid=SHOG6YHFFZR7P7HH&lid=LSTSHOG6YHFFZR7P7HHQ88FLV&marketplace=FLIPKART&q=sneakers&store=osp&srno=s_1_22&otracker=search&otracker1=search&fm=Search&iid=63037a27-fcc2-49f0-b914-6bcf40aad039.SHOG6YHFFZR7P7HH.SEARCH&ppt=sp&ppn=sp&ssid=2a6d247cao0000001670691629888&qH=a1743c0d39461290\n",
      "https://www.flipkart.com/sfr-planck-smart-red-lace-ups-casuals-sneakers-men/p/itm3418862c636f2?pid=SHOGE9EM9QXXR2GM&lid=LSTSHOGE9EM9QXXR2GMOAESMB&marketplace=FLIPKART&q=sneakers&store=osp&srno=s_1_23&otracker=search&otracker1=search&fm=Search&iid=63037a27-fcc2-49f0-b914-6bcf40aad039.SHOGE9EM9QXXR2GM.SEARCH&ppt=sp&ppn=sp&ssid=2a6d247cao0000001670691629888&qH=a1743c0d39461290\n",
      "https://www.flipkart.com/puma-mapf1-a3rocat-mid-sneakers-men/p/itm7c1192676957d?pid=SHOG5HF2WC5D69QD&lid=LSTSHOG5HF2WC5D69QDCEQKSP&marketplace=FLIPKART&q=sneakers&store=osp&srno=s_1_24&otracker=search&otracker1=search&fm=Search&iid=en_E2xqVlMwDKfXKzqy8IGFvzZpOLYdxfDOq%2F67Ahjn%2FRiaYCbZ7msR2QaqMg%2FPQy5hkkKP9evmk%2BJXpmBpaclpkg%3D%3D&ppt=sp&ppn=sp&ssid=2a6d247cao0000001670691629888&qH=a1743c0d39461290\n",
      "https://www.flipkart.com/robbie-jones-sneakers-men/p/itmed5242b75c69f?pid=SHOG5Y5AKNTT8DPC&lid=LSTSHOG5Y5AKNTT8DPCNVIEV5&marketplace=FLIPKART&q=sneakers&store=osp&spotlightTagId=BestsellerId_osp&srno=s_1_25&otracker=search&otracker1=search&fm=Search&iid=63037a27-fcc2-49f0-b914-6bcf40aad039.SHOG5Y5AKNTT8DPC.SEARCH&ppt=sp&ppn=sp&ssid=2a6d247cao0000001670691629888&qH=a1743c0d39461290\n",
      "https://www.flipkart.com/gvr-sneakers-men/p/itmd3506c2a43727?pid=SHOGHBEAWU8UXWAM&lid=LSTSHOGHBEAWU8UXWAMKS0MXG&marketplace=FLIPKART&q=sneakers&store=osp&srno=s_1_26&otracker=search&otracker1=search&fm=Search&iid=63037a27-fcc2-49f0-b914-6bcf40aad039.SHOGHBEAWU8UXWAM.SEARCH&ppt=sp&ppn=sp&ssid=2a6d247cao0000001670691629888&qH=a1743c0d39461290\n",
      "https://www.flipkart.com/shozie-sneakers-men/p/itme6dd12e873e23?pid=SHOGHCG4WQYSWYZE&lid=LSTSHOGHCG4WQYSWYZEWEP3HN&marketplace=FLIPKART&q=sneakers&store=osp&srno=s_1_27&otracker=search&otracker1=search&fm=Search&iid=63037a27-fcc2-49f0-b914-6bcf40aad039.SHOGHCG4WQYSWYZE.SEARCH&ppt=sp&ppn=sp&ssid=2a6d247cao0000001670691629888&qH=a1743c0d39461290\n",
      "https://www.flipkart.com/puma-jada-night-out-sneakers-women/p/itmd38630108065d?pid=SHOGFXJHZYWKERBF&lid=LSTSHOGFXJHZYWKERBFY0RR5A&marketplace=FLIPKART&q=sneakers&store=osp&srno=s_1_28&otracker=search&otracker1=search&fm=Search&iid=en_E2xqVlMwDKfXKzqy8IGFvzZpOLYdxfDOq%2F67Ahjn%2FRh1iljFaA%2FKBv0muFdWf9Wpk8kOTY8cZ2O8kryps1NHNw%3D%3D&ppt=sp&ppn=sp&ssid=2a6d247cao0000001670691629888&qH=a1743c0d39461290\n",
      "https://www.flipkart.com/asian-shoes-future-04-casual-men-latest-stylish-sport-running-boys-lace-up-lightweight-navy-running-walking-gym-trekking-hiking-party-sneakers/p/itm80f9dcd3cf969?pid=SHOG5PG5CJN2SA29&lid=LSTSHOG5PG5CJN2SA29PRNFPZ&marketplace=FLIPKART&q=sneakers&store=osp&srno=s_1_29&otracker=search&otracker1=search&fm=Search&iid=63037a27-fcc2-49f0-b914-6bcf40aad039.SHOG5PG5CJN2SA29.SEARCH&ppt=sp&ppn=sp&ssid=2a6d247cao0000001670691629888&qH=a1743c0d39461290\n",
      "https://www.flipkart.com/robbie-jones-sneakers-men/p/itme831dc6090a19?pid=SHOG5FA5GEHYZHJ4&lid=LSTSHOG5FA5GEHYZHJ4DPJ9C7&marketplace=FLIPKART&q=sneakers&store=osp&srno=s_1_30&otracker=search&otracker1=search&fm=Search&iid=63037a27-fcc2-49f0-b914-6bcf40aad039.SHOG5FA5GEHYZHJ4.SEARCH&ppt=sp&ppn=sp&ssid=2a6d247cao0000001670691629888&qH=a1743c0d39461290\n",
      "https://www.flipkart.com/tr-sneakers-men/p/itme2fda2cd5f2ff?pid=SHOGAB52YDCV6BQZ&lid=LSTSHOGAB52YDCV6BQZ618H7F&marketplace=FLIPKART&q=sneakers&store=osp&srno=s_1_31&otracker=search&otracker1=search&fm=Search&iid=63037a27-fcc2-49f0-b914-6bcf40aad039.SHOGAB52YDCV6BQZ.SEARCH&ppt=sp&ppn=sp&ssid=2a6d247cao0000001670691629888&qH=a1743c0d39461290\n",
      "https://www.flipkart.com/edisson-casual-sneakers-black-outdoor-shoes-boys-men-black/p/itm460eaf5c28945?pid=SHOGHABYYY4MVEJC&lid=LSTSHOGHABYYY4MVEJCABS6Y9&marketplace=FLIPKART&q=sneakers&store=osp&srno=s_1_32&otracker=search&otracker1=search&fm=Search&iid=en_E2xqVlMwDKfXKzqy8IGFvzZpOLYdxfDOq%2F67Ahjn%2FRg2lR48Y90zKbUCYWJtiNXZQEF84MHobwHL7XqL1mie0w%3D%3D&ppt=sp&ppn=sp&ssid=2a6d247cao0000001670691629888&qH=a1743c0d39461290\n",
      "https://www.flipkart.com/bacan-sneakers-men/p/itm470a41fad5e75?pid=SHOGCYGACUHTNE2G&lid=LSTSHOGCYGACUHTNE2GDH6XXQ&marketplace=FLIPKART&q=sneakers&store=osp&srno=s_1_33&otracker=search&otracker1=search&fm=Search&iid=63037a27-fcc2-49f0-b914-6bcf40aad039.SHOGCYGACUHTNE2G.SEARCH&ppt=sp&ppn=sp&ssid=2a6d247cao0000001670691629888&qH=a1743c0d39461290\n",
      "https://www.flipkart.com/puma-mirage-sport-tech-sneakers-men/p/itmf3037e784bd68?pid=SHOGFZKKUZXGHG3H&lid=LSTSHOGFZKKUZXGHG3HPP0PQO&marketplace=FLIPKART&q=sneakers&store=osp&srno=s_1_34&otracker=search&otracker1=search&fm=Search&iid=63037a27-fcc2-49f0-b914-6bcf40aad039.SHOGFZKKUZXGHG3H.SEARCH&ppt=sp&ppn=sp&ssid=2a6d247cao0000001670691629888&qH=a1743c0d39461290\n",
      "https://www.flipkart.com/kraasa-sneakers-women/p/itm414d255dba994?pid=SHOGEXNFUU3WFUTU&lid=LSTSHOGEXNFUU3WFUTUX4VHZQ&marketplace=FLIPKART&q=sneakers&store=osp&srno=s_1_35&otracker=search&otracker1=search&fm=Search&iid=63037a27-fcc2-49f0-b914-6bcf40aad039.SHOGEXNFUU3WFUTU.SEARCH&ppt=sp&ppn=sp&ssid=2a6d247cao0000001670691629888&qH=a1743c0d39461290\n",
      "https://www.flipkart.com/puma-bella-v-patent-sneakers-women/p/itmcbd58ca50f9ac?pid=SHOG536KQ2MU8UGP&lid=LSTSHOG536KQ2MU8UGPYM9WYK&marketplace=FLIPKART&q=sneakers&store=osp&srno=s_1_36&otracker=search&otracker1=search&fm=Search&iid=en_E2xqVlMwDKfXKzqy8IGFvzZpOLYdxfDOq%2F67Ahjn%2FRiKhZcm9Ac%2FAwK0hULkfUsjKQDwGpq0DLgKqAxSi6HLIA%3D%3D&ppt=sp&ppn=sp&ssid=2a6d247cao0000001670691629888&qH=a1743c0d39461290\n",
      "https://www.flipkart.com/aadi-synthetic-lightweight-premiun-comfort-summer-tendy-outdoor-sneakers-men/p/itm62a28aae2ef59?pid=SHOGG3KSTXYYGYJV&lid=LSTSHOGG3KSTXYYGYJVJCF8ZD&marketplace=FLIPKART&q=sneakers&store=osp&srno=s_1_37&otracker=search&otracker1=search&fm=Search&iid=63037a27-fcc2-49f0-b914-6bcf40aad039.SHOGG3KSTXYYGYJV.SEARCH&ppt=sp&ppn=sp&ssid=2a6d247cao0000001670691629888&qH=a1743c0d39461290\n",
      "https://www.flipkart.com/rapidbox-sneakers-men/p/itm00df7333b67b8?pid=SHOG72GEFGHKUQFG&lid=LSTSHOG72GEFGHKUQFGX0KXEK&marketplace=FLIPKART&q=sneakers&store=osp&srno=s_1_38&otracker=search&otracker1=search&fm=Search&iid=63037a27-fcc2-49f0-b914-6bcf40aad039.SHOG72GEFGHKUQFG.SEARCH&ppt=sp&ppn=sp&ssid=2a6d247cao0000001670691629888&qH=a1743c0d39461290\n",
      "https://www.flipkart.com/white-walkers-stylish-trending-outdoor-walking-comfortable-sneakers-men/p/itmb05f2f0511794?pid=SHOG5Y966AFBRDGJ&lid=LSTSHOG5Y966AFBRDGJZNWTVH&marketplace=FLIPKART&q=sneakers&store=osp&srno=s_1_39&otracker=search&otracker1=search&fm=Search&iid=63037a27-fcc2-49f0-b914-6bcf40aad039.SHOG5Y966AFBRDGJ.SEARCH&ppt=sp&ppn=sp&ssid=2a6d247cao0000001670691629888&qH=a1743c0d39461290\n",
      "https://www.flipkart.com/puma-lia-wn-s-sneakers-women/p/itm254e1630a791e?pid=SHOGB68M46Z3XPUB&lid=LSTSHOGB68M46Z3XPUB4FR2MP&marketplace=FLIPKART&q=sneakers&store=osp&srno=s_1_40&otracker=search&otracker1=search&fm=Search&iid=en_E2xqVlMwDKfXKzqy8IGFvzZpOLYdxfDOq%2F67Ahjn%2FRgkHGlGrUcwRK0nzVf4vKzfTIgRb5VV5TgMzfEL42iiMQ%3D%3D&ppt=sp&ppn=sp&ssid=2a6d247cao0000001670691629888&qH=a1743c0d39461290\n"
     ]
    }
   ],
   "source": [
    "for i in url[0:120]:\n",
    "    print(i.get_attribute('href'))"
   ]
  },
  {
   "cell_type": "code",
   "execution_count": 133,
   "id": "e71dc946",
   "metadata": {},
   "outputs": [],
   "source": [
    "#Scraping Product description  from the given Page\n",
    "for page in range(start,end):\n",
    "    \n",
    "    product_discription = driver.find_elements(By.XPATH,'//a[@class=\"IRpwTa\"]')\n",
    "    for i in product_discription:\n",
    "        Product_Discription.append(i.text)\n",
    "        \n",
    "    next_button = driver.find_element(By.CLASS_NAME,\"_1LKTO3\")\n",
    "    next_button.click()\n",
    "    time.sleep(5)\n",
    "PRODUCT_DESCRIPTION = Product_Discription[0:100]"
   ]
  },
  {
   "cell_type": "code",
   "execution_count": 134,
   "id": "30651c31",
   "metadata": {},
   "outputs": [
    {
     "data": {
      "text/plain": [
       "100"
      ]
     },
     "execution_count": 134,
     "metadata": {},
     "output_type": "execute_result"
    }
   ],
   "source": [
    "len(PRODUCT_DESCRIPTION)"
   ]
  },
  {
   "cell_type": "code",
   "execution_count": 135,
   "id": "9218aa81",
   "metadata": {},
   "outputs": [],
   "source": [
    "start=0\n",
    "end=3\n",
    "\n",
    "#Scraping price from the given Page\n",
    "for page in range(start,end):\n",
    "    \n",
    "    price_tags = driver.find_elements(By.XPATH,\"//div[@class='_30jeq3']\")\n",
    "    for i in price_tags:\n",
    "        Price.append(i.text)\n",
    "        \n",
    "    next_button = driver.find_element(By.CLASS_NAME,\"_1LKTO3\")\n",
    "    next_button.click()\n",
    "    time.sleep(5)\n",
    "PRICE = Price[0:100]"
   ]
  },
  {
   "cell_type": "code",
   "execution_count": 136,
   "id": "30ecbff8",
   "metadata": {},
   "outputs": [
    {
     "data": {
      "text/plain": [
       "100"
      ]
     },
     "execution_count": 136,
     "metadata": {},
     "output_type": "execute_result"
    }
   ],
   "source": [
    "len(PRICE)"
   ]
  },
  {
   "cell_type": "code",
   "execution_count": 137,
   "id": "0d96a04d",
   "metadata": {},
   "outputs": [
    {
     "data": {
      "text/html": [
       "<div>\n",
       "<style scoped>\n",
       "    .dataframe tbody tr th:only-of-type {\n",
       "        vertical-align: middle;\n",
       "    }\n",
       "\n",
       "    .dataframe tbody tr th {\n",
       "        vertical-align: top;\n",
       "    }\n",
       "\n",
       "    .dataframe thead th {\n",
       "        text-align: right;\n",
       "    }\n",
       "</style>\n",
       "<table border=\"1\" class=\"dataframe\">\n",
       "  <thead>\n",
       "    <tr style=\"text-align: right;\">\n",
       "      <th></th>\n",
       "      <th>Brand</th>\n",
       "      <th>Product_Discription</th>\n",
       "      <th>Price</th>\n",
       "    </tr>\n",
       "  </thead>\n",
       "  <tbody>\n",
       "    <tr>\n",
       "      <th>0</th>\n",
       "      <td>TR</td>\n",
       "      <td>Trendy-21 White Girls Casuals,Loafers,Stylish ...</td>\n",
       "      <td>₹849</td>\n",
       "    </tr>\n",
       "    <tr>\n",
       "      <th>1</th>\n",
       "      <td>Elevarse</td>\n",
       "      <td>Running / Walking / Sport Shoes For Men Sneake...</td>\n",
       "      <td>₹399</td>\n",
       "    </tr>\n",
       "    <tr>\n",
       "      <th>2</th>\n",
       "      <td>Labbin</td>\n",
       "      <td>Sneakers For Men</td>\n",
       "      <td>₹349</td>\n",
       "    </tr>\n",
       "    <tr>\n",
       "      <th>3</th>\n",
       "      <td>Shozie</td>\n",
       "      <td>Sneakers For Men</td>\n",
       "      <td>₹499</td>\n",
       "    </tr>\n",
       "    <tr>\n",
       "      <th>4</th>\n",
       "      <td>SFR</td>\n",
       "      <td>PLANCK Smart Grey Lace-Ups Casuals Sneakers Sn...</td>\n",
       "      <td>₹599</td>\n",
       "    </tr>\n",
       "    <tr>\n",
       "      <th>...</th>\n",
       "      <td>...</td>\n",
       "      <td>...</td>\n",
       "      <td>...</td>\n",
       "    </tr>\n",
       "    <tr>\n",
       "      <th>95</th>\n",
       "      <td>ASTEROID</td>\n",
       "      <td>Sneakers For Men</td>\n",
       "      <td>₹399</td>\n",
       "    </tr>\n",
       "    <tr>\n",
       "      <th>96</th>\n",
       "      <td>Bond Street By Red Tape</td>\n",
       "      <td>WATERPROOF-05cFULLWHITE Sneakers For Men</td>\n",
       "      <td>₹599</td>\n",
       "    </tr>\n",
       "    <tr>\n",
       "      <th>97</th>\n",
       "      <td>Deals4you</td>\n",
       "      <td>PLANCK Smart Red Lace-Ups Casuals Sneakers Sne...</td>\n",
       "      <td>₹1,099</td>\n",
       "    </tr>\n",
       "    <tr>\n",
       "      <th>98</th>\n",
       "      <td>Kraasa</td>\n",
       "      <td>Casual Sneakers Black Outdoor Shoes For Boys A...</td>\n",
       "      <td>₹399</td>\n",
       "    </tr>\n",
       "    <tr>\n",
       "      <th>99</th>\n",
       "      <td>OZJI</td>\n",
       "      <td>Sneakers For Men</td>\n",
       "      <td>₹559</td>\n",
       "    </tr>\n",
       "  </tbody>\n",
       "</table>\n",
       "<p>100 rows × 3 columns</p>\n",
       "</div>"
      ],
      "text/plain": [
       "                      Brand  \\\n",
       "0                        TR   \n",
       "1                  Elevarse   \n",
       "2                    Labbin   \n",
       "3                    Shozie   \n",
       "4                       SFR   \n",
       "..                      ...   \n",
       "95                 ASTEROID   \n",
       "96  Bond Street By Red Tape   \n",
       "97                Deals4you   \n",
       "98                   Kraasa   \n",
       "99                     OZJI   \n",
       "\n",
       "                                  Product_Discription   Price  \n",
       "0   Trendy-21 White Girls Casuals,Loafers,Stylish ...    ₹849  \n",
       "1   Running / Walking / Sport Shoes For Men Sneake...    ₹399  \n",
       "2                                    Sneakers For Men    ₹349  \n",
       "3                                    Sneakers For Men    ₹499  \n",
       "4   PLANCK Smart Grey Lace-Ups Casuals Sneakers Sn...    ₹599  \n",
       "..                                                ...     ...  \n",
       "95                                   Sneakers For Men    ₹399  \n",
       "96           WATERPROOF-05cFULLWHITE Sneakers For Men    ₹599  \n",
       "97  PLANCK Smart Red Lace-Ups Casuals Sneakers Sne...  ₹1,099  \n",
       "98  Casual Sneakers Black Outdoor Shoes For Boys A...    ₹399  \n",
       "99                                   Sneakers For Men    ₹559  \n",
       "\n",
       "[100 rows x 3 columns]"
      ]
     },
     "execution_count": 137,
     "metadata": {},
     "output_type": "execute_result"
    }
   ],
   "source": [
    "df = pd.DataFrame({'Brand':BRAND,'Product_Discription':PRODUCT_DESCRIPTION,'Price':PRICE})\n",
    "df"
   ]
  },
  {
   "cell_type": "markdown",
   "id": "a0556dca",
   "metadata": {},
   "source": [
    "# Q-10)"
   ]
  },
  {
   "cell_type": "code",
   "execution_count": 1,
   "id": "007c4835",
   "metadata": {},
   "outputs": [],
   "source": [
    "import selenium\n",
    "import pandas as pd\n",
    "from selenium import webdriver \n",
    "import warnings\n",
    "warnings.filterwarnings('ignore')\n",
    "from selenium.common.exceptions import StaleElementReferenceException,NoSuchElementException\n",
    "from selenium.webdriver.common.by import By\n",
    "import time"
   ]
  },
  {
   "cell_type": "code",
   "execution_count": 2,
   "id": "f6cb6f89",
   "metadata": {},
   "outputs": [],
   "source": [
    "#Let's Connect the driver:-\n",
    "driver = webdriver.Chrome(r\"C:\\Users\\SUVARCHALA\\Downloads\\chromedriver_win32.chromedriver.exe\")"
   ]
  },
  {
   "cell_type": "code",
   "execution_count": 3,
   "id": "acbc2528",
   "metadata": {},
   "outputs": [],
   "source": [
    "# Opening the motor1 page on automated chrome browser\n",
    "driver.get(\"https://www.motor1.com/\")"
   ]
  },
  {
   "cell_type": "code",
   "execution_count": 4,
   "id": "a3f03e57",
   "metadata": {},
   "outputs": [],
   "source": [
    "#clicking box item left \n",
    "search = driver.find_element(By.CLASS_NAME,'box-item-left')\n",
    "search.click()"
   ]
  },
  {
   "cell_type": "code",
   "execution_count": 5,
   "id": "092ab444",
   "metadata": {},
   "outputs": [],
   "source": [
    "#clicking on features dropdown\n",
    "search = driver.find_element(By.XPATH,'/html/body/div[4]/div[1]/div[3]/ul/li[5]/button')\n",
    "search.click()"
   ]
  },
  {
   "cell_type": "code",
   "execution_count": 6,
   "id": "d6a5e7ff",
   "metadata": {},
   "outputs": [],
   "source": [
    "#clicking on list\n",
    "search = driver.find_element(By.XPATH,'/html/body/div[4]/div[1]/div[3]/ul/li[6]/ul/li[1]/a')\n",
    "search.click()"
   ]
  },
  {
   "cell_type": "code",
   "execution_count": 7,
   "id": "2ba76cd1",
   "metadata": {},
   "outputs": [],
   "source": [
    "#clicking on most 50expensive cars in the world\n",
    "search = driver.find_element(By.XPATH,'/html/body/div[3]/div[9]/div[1]/div[1]/div/div/div[2]/div/div[1]/h3/a')\n",
    "search.click()"
   ]
  },
  {
   "cell_type": "code",
   "execution_count": 8,
   "id": "b765a380",
   "metadata": {},
   "outputs": [],
   "source": [
    "CAR_NAME=[]\n",
    "DESCRIPTION = []\n",
    "PRICE=[]"
   ]
  },
  {
   "cell_type": "code",
   "execution_count": 9,
   "id": "914009ee",
   "metadata": {},
   "outputs": [],
   "source": [
    "#Scraping 50 most-expensive cars from the given Page\n",
    "car_name_tags = driver.find_elements(By.XPATH,\"//h3[@class='subheader']\")\n",
    "for i in car_name_tags[0:50]:\n",
    "    carname = i.text\n",
    "    CAR_NAME.append(carname)\n",
    "\n",
    "#Scraping Car description from the given page\n",
    "description_tags = driver.find_elements(By.XPATH,'/html/body/div[2]/div[7]/div[2]/div[1]/div[2]/div[1]/p')\n",
    "for i in description_tags[0:50]:\n",
    "    description = i.text\n",
    "    DESCRIPTION.append(description)\n",
    "\n",
    "#Scraping Car Price\n",
    "price_tags = driver.find_elements(By.XPATH,\"//strong\")\n",
    "for i in price_tags[0:50]:\n",
    "    price = i.text\n",
    "    PRICE.append(price)"
   ]
  },
  {
   "cell_type": "code",
   "execution_count": 10,
   "id": "a91d00a9",
   "metadata": {},
   "outputs": [
    {
     "name": "stdout",
     "output_type": "stream",
     "text": [
      "50 0 50\n"
     ]
    }
   ],
   "source": [
    "print(len(CAR_NAME),len(DESCRIPTION),len(PRICE))"
   ]
  },
  {
   "cell_type": "code",
   "execution_count": 11,
   "id": "2713d3ef",
   "metadata": {},
   "outputs": [
    {
     "data": {
      "text/html": [
       "<div>\n",
       "<style scoped>\n",
       "    .dataframe tbody tr th:only-of-type {\n",
       "        vertical-align: middle;\n",
       "    }\n",
       "\n",
       "    .dataframe tbody tr th {\n",
       "        vertical-align: top;\n",
       "    }\n",
       "\n",
       "    .dataframe thead th {\n",
       "        text-align: right;\n",
       "    }\n",
       "</style>\n",
       "<table border=\"1\" class=\"dataframe\">\n",
       "  <thead>\n",
       "    <tr style=\"text-align: right;\">\n",
       "      <th></th>\n",
       "      <th>CAR NAME</th>\n",
       "      <th>PRICE</th>\n",
       "    </tr>\n",
       "  </thead>\n",
       "  <tbody>\n",
       "    <tr>\n",
       "      <th>0</th>\n",
       "      <td>Drako GTE</td>\n",
       "      <td>Price: $1.2 Million</td>\n",
       "    </tr>\n",
       "    <tr>\n",
       "      <th>1</th>\n",
       "      <td>De Tomaso P72</td>\n",
       "      <td>Price: $1.3 Million</td>\n",
       "    </tr>\n",
       "    <tr>\n",
       "      <th>2</th>\n",
       "      <td>Ferrari LaFerrari</td>\n",
       "      <td>Price: $1.4 Million</td>\n",
       "    </tr>\n",
       "    <tr>\n",
       "      <th>3</th>\n",
       "      <td>Pagani Huayra</td>\n",
       "      <td>Price: $1.4 Million</td>\n",
       "    </tr>\n",
       "    <tr>\n",
       "      <th>4</th>\n",
       "      <td>McLaren Elva</td>\n",
       "      <td></td>\n",
       "    </tr>\n",
       "    <tr>\n",
       "      <th>5</th>\n",
       "      <td>Czinger 21C</td>\n",
       "      <td>Price: $1.7 Million</td>\n",
       "    </tr>\n",
       "    <tr>\n",
       "      <th>6</th>\n",
       "      <td>Ferrari Monza</td>\n",
       "      <td>Price: $1.7 Million</td>\n",
       "    </tr>\n",
       "    <tr>\n",
       "      <th>7</th>\n",
       "      <td>Gordon Murray T.33</td>\n",
       "      <td>Price: $1.7 Million</td>\n",
       "    </tr>\n",
       "    <tr>\n",
       "      <th>8</th>\n",
       "      <td>Koenigsegg Gemera</td>\n",
       "      <td>Price: $1.7 Million</td>\n",
       "    </tr>\n",
       "    <tr>\n",
       "      <th>9</th>\n",
       "      <td>Zenvo TSR-S</td>\n",
       "      <td>Price: $1.7 Million</td>\n",
       "    </tr>\n",
       "    <tr>\n",
       "      <th>10</th>\n",
       "      <td>Hennessey Venom F5</td>\n",
       "      <td>Price: $1.7 Million</td>\n",
       "    </tr>\n",
       "    <tr>\n",
       "      <th>11</th>\n",
       "      <td>Bentley Bacalar</td>\n",
       "      <td>Price: $1.8 Million</td>\n",
       "    </tr>\n",
       "    <tr>\n",
       "      <th>12</th>\n",
       "      <td>Hispano Suiza Carmen Boulogne</td>\n",
       "      <td>Price: $1.9 Million</td>\n",
       "    </tr>\n",
       "    <tr>\n",
       "      <th>13</th>\n",
       "      <td>Bentley Mulliner Batur</td>\n",
       "      <td>Price: $1.9 Million</td>\n",
       "    </tr>\n",
       "    <tr>\n",
       "      <th>14</th>\n",
       "      <td>Deus Vayanne</td>\n",
       "      <td>Price: $2.0 Million</td>\n",
       "    </tr>\n",
       "    <tr>\n",
       "      <th>15</th>\n",
       "      <td>SSC Tuatara</td>\n",
       "      <td>Price: $2.0 Million</td>\n",
       "    </tr>\n",
       "    <tr>\n",
       "      <th>16</th>\n",
       "      <td>Lotus Evija</td>\n",
       "      <td>Price: $2.0 Million*</td>\n",
       "    </tr>\n",
       "    <tr>\n",
       "      <th>17</th>\n",
       "      <td>Aston Martin Vulcan</td>\n",
       "      <td>Price: $2.1 Million</td>\n",
       "    </tr>\n",
       "    <tr>\n",
       "      <th>18</th>\n",
       "      <td>Delage D12</td>\n",
       "      <td>Price: $2.3 Million</td>\n",
       "    </tr>\n",
       "    <tr>\n",
       "      <th>19</th>\n",
       "      <td>McLaren Speedtail</td>\n",
       "      <td>Price: $2.3 Million</td>\n",
       "    </tr>\n",
       "    <tr>\n",
       "      <th>20</th>\n",
       "      <td>Rimac Nevera</td>\n",
       "      <td>Price: $2.3 Million</td>\n",
       "    </tr>\n",
       "    <tr>\n",
       "      <th>21</th>\n",
       "      <td>Pagani Utopia</td>\n",
       "      <td>Price: $2.4 Million</td>\n",
       "    </tr>\n",
       "    <tr>\n",
       "      <th>22</th>\n",
       "      <td>Pininfarina Battista</td>\n",
       "      <td>Price: $2.5 Million</td>\n",
       "    </tr>\n",
       "    <tr>\n",
       "      <th>23</th>\n",
       "      <td>Ferrari FXX K Evo</td>\n",
       "      <td>Price: $2.5 Million</td>\n",
       "    </tr>\n",
       "    <tr>\n",
       "      <th>24</th>\n",
       "      <td>Gordon Murray T.50</td>\n",
       "      <td>Price: $2.6 Million</td>\n",
       "    </tr>\n",
       "    <tr>\n",
       "      <th>25</th>\n",
       "      <td>Lamborghini Countach</td>\n",
       "      <td>Price: $2.6 Million</td>\n",
       "    </tr>\n",
       "    <tr>\n",
       "      <th>26</th>\n",
       "      <td>Mercedes-AMG Project One</td>\n",
       "      <td>Price: $2.6 Million</td>\n",
       "    </tr>\n",
       "    <tr>\n",
       "      <th>27</th>\n",
       "      <td>Aston Martin Victor</td>\n",
       "      <td>Price: $2.7 Million</td>\n",
       "    </tr>\n",
       "    <tr>\n",
       "      <th>28</th>\n",
       "      <td>Hennessey Venom F5 Roadster</td>\n",
       "      <td>Price: $3.0 Million</td>\n",
       "    </tr>\n",
       "    <tr>\n",
       "      <th>29</th>\n",
       "      <td>Koenigsegg Jesko</td>\n",
       "      <td>$3.0 Million</td>\n",
       "    </tr>\n",
       "    <tr>\n",
       "      <th>30</th>\n",
       "      <td>Aston Martin Valkyrie</td>\n",
       "      <td>Price: $3.0 Million</td>\n",
       "    </tr>\n",
       "    <tr>\n",
       "      <th>31</th>\n",
       "      <td>W Motors Lykan Hypersport</td>\n",
       "      <td>Price: $3.2 Million</td>\n",
       "    </tr>\n",
       "    <tr>\n",
       "      <th>32</th>\n",
       "      <td>McLaren Solus</td>\n",
       "      <td>Price: $3.4 Million</td>\n",
       "    </tr>\n",
       "    <tr>\n",
       "      <th>33</th>\n",
       "      <td>Pagani Huayra Roadster BC</td>\n",
       "      <td>$3.5 Million</td>\n",
       "    </tr>\n",
       "    <tr>\n",
       "      <th>34</th>\n",
       "      <td>Bugatti Chiron Pur Sport</td>\n",
       "      <td>Price: $3.5 Million</td>\n",
       "    </tr>\n",
       "    <tr>\n",
       "      <th>35</th>\n",
       "      <td>Lamborghini Sian</td>\n",
       "      <td>Price: $3.6 Million</td>\n",
       "    </tr>\n",
       "    <tr>\n",
       "      <th>36</th>\n",
       "      <td>Koenigsegg CC850</td>\n",
       "      <td>Price: $3.6 million</td>\n",
       "    </tr>\n",
       "    <tr>\n",
       "      <th>37</th>\n",
       "      <td>Bugatti Chiron Super Sport 300+</td>\n",
       "      <td>Price: $3.7 Million</td>\n",
       "    </tr>\n",
       "    <tr>\n",
       "      <th>38</th>\n",
       "      <td>Lamborghini Veneno</td>\n",
       "      <td>Price: $3.9 Million</td>\n",
       "    </tr>\n",
       "    <tr>\n",
       "      <th>39</th>\n",
       "      <td>Bugatti Bolide</td>\n",
       "      <td>Price: $4.5 Million</td>\n",
       "    </tr>\n",
       "    <tr>\n",
       "      <th>40</th>\n",
       "      <td>Bugatti Mistral</td>\n",
       "      <td>Price: $4.7 Million</td>\n",
       "    </tr>\n",
       "    <tr>\n",
       "      <th>41</th>\n",
       "      <td>Pagani Huayra Imola</td>\n",
       "      <td>Price: $5.0 Million</td>\n",
       "    </tr>\n",
       "    <tr>\n",
       "      <th>42</th>\n",
       "      <td>Bugatti Divo</td>\n",
       "      <td>Price: $5.4 Million</td>\n",
       "    </tr>\n",
       "    <tr>\n",
       "      <th>43</th>\n",
       "      <td>SP Automotive Chaos</td>\n",
       "      <td>Price: $5.8 Million</td>\n",
       "    </tr>\n",
       "    <tr>\n",
       "      <th>44</th>\n",
       "      <td>Pagani Codalunga</td>\n",
       "      <td>Price: $6.4 Million</td>\n",
       "    </tr>\n",
       "    <tr>\n",
       "      <th>45</th>\n",
       "      <td>Mercedes-Maybach Exelero</td>\n",
       "      <td>Price: $7.4 Million</td>\n",
       "    </tr>\n",
       "    <tr>\n",
       "      <th>46</th>\n",
       "      <td>Bugatti Centodieci</td>\n",
       "      <td>Price: $8.0 Million</td>\n",
       "    </tr>\n",
       "    <tr>\n",
       "      <th>47</th>\n",
       "      <td>Rolls-Royce Sweptail</td>\n",
       "      <td>Price: $9.0 Million</td>\n",
       "    </tr>\n",
       "    <tr>\n",
       "      <th>48</th>\n",
       "      <td>Bugatti La Voiture Noire</td>\n",
       "      <td>Price: $12.8 Million</td>\n",
       "    </tr>\n",
       "    <tr>\n",
       "      <th>49</th>\n",
       "      <td>Rolls-Royce Boat Tail*</td>\n",
       "      <td>Price: $13.4 Million</td>\n",
       "    </tr>\n",
       "  </tbody>\n",
       "</table>\n",
       "</div>"
      ],
      "text/plain": [
       "                           CAR NAME                 PRICE\n",
       "0                         Drako GTE   Price: $1.2 Million\n",
       "1                     De Tomaso P72   Price: $1.3 Million\n",
       "2                 Ferrari LaFerrari   Price: $1.4 Million\n",
       "3                     Pagani Huayra   Price: $1.4 Million\n",
       "4                      McLaren Elva                      \n",
       "5                       Czinger 21C   Price: $1.7 Million\n",
       "6                     Ferrari Monza   Price: $1.7 Million\n",
       "7                Gordon Murray T.33   Price: $1.7 Million\n",
       "8                 Koenigsegg Gemera   Price: $1.7 Million\n",
       "9                       Zenvo TSR-S   Price: $1.7 Million\n",
       "10               Hennessey Venom F5   Price: $1.7 Million\n",
       "11                  Bentley Bacalar   Price: $1.8 Million\n",
       "12    Hispano Suiza Carmen Boulogne   Price: $1.9 Million\n",
       "13           Bentley Mulliner Batur   Price: $1.9 Million\n",
       "14                     Deus Vayanne   Price: $2.0 Million\n",
       "15                      SSC Tuatara   Price: $2.0 Million\n",
       "16                      Lotus Evija  Price: $2.0 Million*\n",
       "17              Aston Martin Vulcan   Price: $2.1 Million\n",
       "18                       Delage D12   Price: $2.3 Million\n",
       "19                McLaren Speedtail   Price: $2.3 Million\n",
       "20                     Rimac Nevera   Price: $2.3 Million\n",
       "21                    Pagani Utopia   Price: $2.4 Million\n",
       "22             Pininfarina Battista   Price: $2.5 Million\n",
       "23                Ferrari FXX K Evo   Price: $2.5 Million\n",
       "24               Gordon Murray T.50   Price: $2.6 Million\n",
       "25             Lamborghini Countach   Price: $2.6 Million\n",
       "26         Mercedes-AMG Project One   Price: $2.6 Million\n",
       "27              Aston Martin Victor   Price: $2.7 Million\n",
       "28      Hennessey Venom F5 Roadster   Price: $3.0 Million\n",
       "29                 Koenigsegg Jesko          $3.0 Million\n",
       "30            Aston Martin Valkyrie   Price: $3.0 Million\n",
       "31        W Motors Lykan Hypersport   Price: $3.2 Million\n",
       "32                    McLaren Solus   Price: $3.4 Million\n",
       "33        Pagani Huayra Roadster BC          $3.5 Million\n",
       "34         Bugatti Chiron Pur Sport   Price: $3.5 Million\n",
       "35                 Lamborghini Sian   Price: $3.6 Million\n",
       "36                 Koenigsegg CC850   Price: $3.6 million\n",
       "37  Bugatti Chiron Super Sport 300+   Price: $3.7 Million\n",
       "38               Lamborghini Veneno   Price: $3.9 Million\n",
       "39                   Bugatti Bolide   Price: $4.5 Million\n",
       "40                  Bugatti Mistral   Price: $4.7 Million\n",
       "41              Pagani Huayra Imola   Price: $5.0 Million\n",
       "42                     Bugatti Divo   Price: $5.4 Million\n",
       "43              SP Automotive Chaos   Price: $5.8 Million\n",
       "44                 Pagani Codalunga   Price: $6.4 Million\n",
       "45         Mercedes-Maybach Exelero   Price: $7.4 Million\n",
       "46               Bugatti Centodieci   Price: $8.0 Million\n",
       "47             Rolls-Royce Sweptail   Price: $9.0 Million\n",
       "48         Bugatti La Voiture Noire  Price: $12.8 Million\n",
       "49           Rolls-Royce Boat Tail*  Price: $13.4 Million"
      ]
     },
     "execution_count": 11,
     "metadata": {},
     "output_type": "execute_result"
    }
   ],
   "source": [
    "df = pd.DataFrame({'CAR NAME':CAR_NAME,'PRICE':PRICE})\n",
    "df"
   ]
  },
  {
   "cell_type": "markdown",
   "id": "546af4aa",
   "metadata": {},
   "source": [
    "# Hence can't  scrap the data of description printed the Data Frame with remaining columns"
   ]
  },
  {
   "cell_type": "code",
   "execution_count": null,
   "id": "a9b604d7",
   "metadata": {},
   "outputs": [],
   "source": []
  }
 ],
 "metadata": {
  "kernelspec": {
   "display_name": "Python 3 (ipykernel)",
   "language": "python",
   "name": "python3"
  },
  "language_info": {
   "codemirror_mode": {
    "name": "ipython",
    "version": 3
   },
   "file_extension": ".py",
   "mimetype": "text/x-python",
   "name": "python",
   "nbconvert_exporter": "python",
   "pygments_lexer": "ipython3",
   "version": "3.9.12"
  }
 },
 "nbformat": 4,
 "nbformat_minor": 5
}
