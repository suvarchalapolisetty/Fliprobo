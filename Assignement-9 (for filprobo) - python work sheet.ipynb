{
 "cells": [
  {
   "cell_type": "markdown",
   "id": "c53669b3",
   "metadata": {},
   "source": [
    "1) Which of the following is not a core datatype in python? \n",
    "\n",
    "A) list B) struct \n",
    "\n",
    "C) tuple C) set \n",
    "\n",
    "Ans:-B"
   ]
  },
  {
   "cell_type": "markdown",
   "id": "bb9bca32",
   "metadata": {},
   "source": [
    "2)Which of the following is an invalid variable name in python? \n",
    "\n",
    "A) _init_ B) no_1 '\n",
    "\n",
    "C) 1_no D) _1 \n",
    "\n",
    "Ans-C"
   ]
  },
  {
   "cell_type": "markdown",
   "id": "617b019e",
   "metadata": {},
   "source": [
    "3) Which one of the following is a keyword in python? \n",
    "\n",
    "A) in B) _init_ \n",
    "\n",
    "C) on D) foo \n",
    "\n",
    "Ans - A"
   ]
  },
  {
   "cell_type": "markdown",
   "id": "93be08ea",
   "metadata": {},
   "source": [
    "4) In which of the following manner are the operators of the same precedence executed in python? \n",
    "\n",
    "A) Left to Right B) BODMAS \n",
    "\n",
    "C) Right to Left D) None of these \n",
    "\n",
    "Ans - A"
   ]
  },
  {
   "cell_type": "markdown",
   "id": "e0815d79",
   "metadata": {},
   "source": [
    "5) Arrange the following in decreasing order of the precedence when they appear in an expression in python? \n",
    "\n",
    "i) Multiplication ii) Division iii) Exponential iv) Parentheses \n",
    "\n",
    "A) iii – iv – ii – i B) iii – iv – i – ii \n",
    "\n",
    "C) iv – iii – ii – i D) iii – ii – i – iv \n",
    "\n",
    "Ans - D"
   ]
  },
  {
   "cell_type": "markdown",
   "id": "d8627808",
   "metadata": {},
   "source": [
    "6) (28//6)**3/3%3 = ?\n",
    "\n",
    "A) 7.1111… B) 0\n",
    "\n",
    "C) 0.3333… D) 1\n",
    "\n",
    "Ans - C"
   ]
  },
  {
   "cell_type": "markdown",
   "id": "f8ccc4e3",
   "metadata": {},
   "source": [
    "7) a = input(“Enter an integer”). What will be the data type of a?\n",
    "\n",
    "A) int B) str \n",
    "\n",
    "C) float D) double \n",
    "\n",
    "Ans - B"
   ]
  },
  {
   "cell_type": "markdown",
   "id": "e401947b",
   "metadata": {},
   "source": [
    "8) Which of the following statements are correct? \n",
    "\n",
    "A) Division and multiplication have same precedence in python \n",
    "\n",
    "B) Python’s operators’ precedence is based on PEDMAS \n",
    "\n",
    "C) Python’s operators’ precedence is based on VBODMAS\n",
    "\n",
    "D) In case of operators’ having the same precedence, the one on the left side is executed\n",
    " first. \n",
    "    \n",
    "Ans-AD"
   ]
  },
  {
   "cell_type": "markdown",
   "id": "056b4f79",
   "metadata": {},
   "source": [
    "9) Which of the following is(are) valid statement(s) in python? \n",
    "\n",
    "A) abc = 1,000,000 B) a b c = 1000 2000 3000 \n",
    "\n",
    "C) a,b,c = 1000, 2000, 3000 D) a_b_c = 1,000,000\n",
    "\n",
    "Ans - CD"
   ]
  },
  {
   "cell_type": "markdown",
   "id": "5fbdf3a6",
   "metadata": {},
   "source": [
    "10) Which of the following is not equal to x16 in \n",
    "python? \n",
    "\n",
    "A) x**4**4 B) x**16 \n",
    "\n",
    "C) x^16 D) (x**4)**4 \n",
    "\n",
    "Ans - CA"
   ]
  },
  {
   "cell_type": "markdown",
   "id": "2bf4d9c1",
   "metadata": {},
   "source": [
    "11) Differences between a list, tuple, set and dictionary.\n",
    "\n",
    "In python, there are four main built-in-collection data types: list,tuple,set, dictionary. Here are the main differences between them:\n",
    "\n",
    "List:-\n",
    "\n",
    "    * Ordered collection of elements, enclosed in square bracket([])\n",
    "    \n",
    "    * Elements can be different data types\n",
    "    \n",
    "    * Elements can be added removed or modified\n",
    "    \n",
    "    * Elements can be accessed using indexing(starting from 0 ),slicing, or iteration\n",
    "    \n",
    "    * Duplicates are allowed.\n",
    "    \n",
    "    * Lists use more memory and are slower to iterate through that tuples\n",
    "    \n",
    "EX- my_list = [1,'hello',True,2.5]\n",
    "\n",
    "Tuple:-\n",
    "\n",
    "    *Ordered collection of elements, enclosed in parentheses()\n",
    "    \n",
    "    *Elements can be different data types\n",
    "    \n",
    "    *Elements cannot be added, removed or modified once created (immutable)\n",
    "    \n",
    "    *Elements can be accessed using indexing (starting from 0),slicing,or iteration.\n",
    "    \n",
    "    *Duplicates are allowed\n",
    "    \n",
    "    *Tuples useless memorycard and are faster to iterate through then lists\n",
    "    \n",
    "Ex- my_tuple = (1,'hello',True, 2.5)\n",
    "\n",
    "\n",
    "Set:-\n",
    "\n",
    "  *Unordered collection of unique elements, enclosed in curly braces({}) or using the set () function.\n",
    "  \n",
    "  *Elements can be different data types\n",
    "  \n",
    "  *Elements can be added removed, but cannot be modified.\n",
    "  \n",
    "  *Elements can be accessed using iteration, but not indexing or slicing.\n",
    "  \n",
    "  *Duplicates are not allowed\n",
    "  \n",
    "  *sets are useful for performing set operations such as union,intersection, and difference\n",
    "  \n",
    "Ex- my_Set = { 1,'hello',True,2.5}\n",
    "\n",
    "\n",
    "Dictionary:-\n",
    "\n",
    "    *Unordered collection of key-value pairs, enclosed in curly braces({}) or using the dict() function\n",
    "    \n",
    "    *Keys must be unique and immutable(eg.strings,numbers,tuples) while values can be of any data type\n",
    "    \n",
    "    *Elements can be added, removed or modified by key.\n",
    "    \n",
    "    *Elements can be accessed using keys or iteration, but not indexing or slicing\n",
    "    \n",
    "    *Duplicates are not allowed for keys\n",
    "    \n",
    "    *Dictionaries are useful for storing and retrieving data by key.\n",
    "    \n",
    "    \n",
    "Ex- my_dic = {'name':'john','age':30,'is_student':True}\n",
    "\n",
    "In summary,lists and tuples are ordered collections, while sets and dictionaries are unordered.Lists and dictionaries allow duplicates, while tuples and sets do not. Lists and sets allow modifications, while tuples and dictionaries do not.\n",
    "\n"
   ]
  },
  {
   "cell_type": "markdown",
   "id": "74d06e68",
   "metadata": {},
   "source": [
    "12) Are strings mutable in python? Suppose you have a string “I+Love+Python”, write a small code to replace ‘+’ \n",
    "with space in python. \n",
    "\n",
    "    No strings are immutable in python, meaning that once a string object is created, its contents can not be modified. However,\n",
    "    \n",
    "    you can create a new string by using the original string and the desired modifications.\n",
    "    \n",
    "    To replace the '+' charecters with spaces in the string \"I+Love+Python\", you can use the 'replace()' method:\n",
    "        "
   ]
  },
  {
   "cell_type": "code",
   "execution_count": 1,
   "id": "0aed898b",
   "metadata": {},
   "outputs": [
    {
     "name": "stdout",
     "output_type": "stream",
     "text": [
      "I Love Python\n"
     ]
    }
   ],
   "source": [
    "original_string = \"I+Love+Python\"\n",
    "new_string = original_string.replace(\"+\",\" \")\n",
    "print(new_string)"
   ]
  },
  {
   "cell_type": "markdown",
   "id": "272062ad",
   "metadata": {},
   "source": [
    "In this code we first create the original string \"I+Love+Python\".We then call the 'replace()' method on the string,passing\n",
    "    \n",
    "In the charecter we want to replace (in this case, '+') and the charecter we want to replace it with(A space).\n",
    "\n",
    "This creates a new string with the desired modifications, which we store in the variable 'new-string'. \n",
    "\n",
    "Finally, we print out the new string to verify that the replacement was successful"
   ]
  },
  {
   "cell_type": "markdown",
   "id": "cf557d58",
   "metadata": {},
   "source": [
    "13) What does the function ord() do in python? Explain with an example. Also, write down the function for \n",
    "getting the data type of a variable in python. "
   ]
  },
  {
   "cell_type": "markdown",
   "id": "2f0e619f",
   "metadata": {},
   "source": [
    "The 'Ord()' function in python returns the point of a given charecter. In other words,it returns an integer representing\n",
    "the unicode charecter"
   ]
  },
  {
   "cell_type": "code",
   "execution_count": 2,
   "id": "7a3ba667",
   "metadata": {},
   "outputs": [
    {
     "data": {
      "text/plain": [
       "97"
      ]
     },
     "execution_count": 2,
     "metadata": {},
     "output_type": "execute_result"
    }
   ],
   "source": [
    "#Example\n",
    "ord('a')"
   ]
  },
  {
   "cell_type": "code",
   "execution_count": 3,
   "id": "128ac0fb",
   "metadata": {},
   "outputs": [
    {
     "data": {
      "text/plain": [
       "65"
      ]
     },
     "execution_count": 3,
     "metadata": {},
     "output_type": "execute_result"
    }
   ],
   "source": [
    "#Example\n",
    "ord('A')"
   ]
  },
  {
   "cell_type": "code",
   "execution_count": 4,
   "id": "bee91e0a",
   "metadata": {},
   "outputs": [
    {
     "data": {
      "text/plain": [
       "49"
      ]
     },
     "execution_count": 4,
     "metadata": {},
     "output_type": "execute_result"
    }
   ],
   "source": [
    "#Example\n",
    "ord('1')"
   ]
  },
  {
   "cell_type": "markdown",
   "id": "71db1baa",
   "metadata": {},
   "source": [
    "In this example, the 'ord()' function returns the unicode point for the charecter 'a', 'A', and '1', the code points for\n",
    "'a','A',and '1', the code points for 'a', 'A' and '1' are 97,65,49, respectively"
   ]
  },
  {
   "cell_type": "code",
   "execution_count": 5,
   "id": "b2cc33e8",
   "metadata": {},
   "outputs": [
    {
     "data": {
      "text/plain": [
       "int"
      ]
     },
     "execution_count": 5,
     "metadata": {},
     "output_type": "execute_result"
    }
   ],
   "source": [
    "# To get the data type of a variable in python, you can use the 'type()' function. Here's an example:\n",
    "\n",
    "x=10\n",
    "type(x)"
   ]
  },
  {
   "cell_type": "code",
   "execution_count": 6,
   "id": "13ef18fb",
   "metadata": {},
   "outputs": [
    {
     "data": {
      "text/plain": [
       "str"
      ]
     },
     "execution_count": 6,
     "metadata": {},
     "output_type": "execute_result"
    }
   ],
   "source": [
    "y='Hello world!'\n",
    "type(y)"
   ]
  },
  {
   "cell_type": "code",
   "execution_count": 7,
   "id": "9aa49d10",
   "metadata": {},
   "outputs": [
    {
     "data": {
      "text/plain": [
       "list"
      ]
     },
     "execution_count": 7,
     "metadata": {},
     "output_type": "execute_result"
    }
   ],
   "source": [
    "z = [1,2,3]\n",
    "type(z)"
   ]
  },
  {
   "cell_type": "markdown",
   "id": "284fe156",
   "metadata": {},
   "source": [
    "In this example, the 'type()' function is used to get the data type of the variable 'x','y' and 'z', the data type of 'x'\n",
    " is 'int',data type of 'y' is 'str', and the data type of 'z' is 'list'"
   ]
  },
  {
   "cell_type": "markdown",
   "id": "37b7353a",
   "metadata": {},
   "source": [
    "14) Write a python program to solve a quadratic equation of the form ax^2+bx+c=0. Where a, b and c are to be \n",
    "taken by user input. Handle the erroneous input, such as ‘a’ should not be equal to 0. "
   ]
  },
  {
   "cell_type": "code",
   "execution_count": null,
   "id": "e24b6c6b",
   "metadata": {},
   "outputs": [],
   "source": [
    "# with user input for a,b,and c. It also includes error handling for cases where a is equal to 0.\n",
    "\n",
    "import math\n",
    "#input values of a,b,and c from the user\n",
    "a= float(input(\"Enter the value of a: \"))\n",
    "b=float(input(\"Enter the value of b: \"))\n",
    "c=float(input(\"Enter the value of c: \"))\n",
    "\n",
    "\n",
    "\n"
   ]
  },
  {
   "cell_type": "code",
   "execution_count": null,
   "id": "b7117d24",
   "metadata": {},
   "outputs": [],
   "source": [
    "#Check if a is equal to 0\n",
    "\n",
    "if a==0:\n",
    "    #calculate the discriminant\n",
    "    discriminant = b**2-4*a*c\n",
    "    #calculate the roots of the quadratic equation\n",
    "    if dicriminant >0:\n",
    "        root1 = (-b+math.sqrt(discriminant))/(2*a)\n",
    "        root2 = (-b - math.sqrt(dicriminant))/(2*a)\n",
    "        print(\"The roots of the quadratic equation are: \",root1,'and',root2)\n",
    "    elif discriminant==0:\n",
    "        root = -b/(2*a)\n",
    "        print(\"The root of the quadratic equation is:\",root)\n",
    "    else:\n",
    "        real part = -b/(2*a)\n",
    "        imagepart = math.sqrt(-discriminant)/(2*a)\n",
    "        print('The root of the quadratic equation are:',realpart,\"+\",imagepart,\"+\",imagepart,\"i and\",real part,\"-\",imagepart,\"i\")"
   ]
  },
  {
   "cell_type": "markdown",
   "id": "58d84e3b",
   "metadata": {},
   "source": [
    "In this program, we first import the 'math' module so that we can use the 'sqrt()' function to calculate the square root\n",
    "\n",
    "of a number.\n",
    "\n",
    "    Then, we take input from the user for the values of 'a','b','c'.we then chcek if 'a' is equal to 0, if it is, we print\n",
    "\n",
    "an error message, since a quadratic equation can not have a co - efficient of 0 for the x^2 term\n",
    "\n",
    "    If 'a' is not equal to 0, we caluculate the discriminant of the quadratic equation using the formula b^2-4ac. we then\n",
    "\n",
    "use a series of if-elif-else statements to calculate the roots of the equation based on the value of the discriminant.\n",
    "\n",
    "    If the discriminant is greater than 0, the quadratic equation has two real roots, so we calculate both roots using\n",
    "\n",
    "the quadratic formula and print them out.\n",
    "\n",
    "    If the discriminant is less than 0, the quadratic equation has two complex roots, so we calculate both roots using the\n",
    " \n",
    "quadratic formula and print them out in the form a+bi and a-bi\n",
    "\n"
   ]
  },
  {
   "cell_type": "markdown",
   "id": "e6f7e818",
   "metadata": {},
   "source": [
    "15) Write a python program to find the sum of first ‘n’ natural numbers without using any loop. Ask users to \n",
    "input the value of ‘n’"
   ]
  },
  {
   "cell_type": "code",
   "execution_count": 9,
   "id": "0b1bd85f",
   "metadata": {},
   "outputs": [
    {
     "ename": "KeyboardInterrupt",
     "evalue": "Interrupted by user",
     "output_type": "error",
     "traceback": [
      "\u001b[1;31m---------------------------------------------------------------------------\u001b[0m",
      "\u001b[1;31mKeyboardInterrupt\u001b[0m                         Traceback (most recent call last)",
      "Input \u001b[1;32mIn [9]\u001b[0m, in \u001b[0;36m<cell line: 1>\u001b[1;34m()\u001b[0m\n\u001b[1;32m----> 1\u001b[0m n \u001b[38;5;241m=\u001b[39m \u001b[38;5;28mint\u001b[39m(\u001b[38;5;28;43minput\u001b[39;49m\u001b[43m(\u001b[49m\u001b[38;5;124;43m\"\u001b[39;49m\u001b[38;5;124;43mEnter a positive integer: \u001b[39;49m\u001b[38;5;124;43m\"\u001b[39;49m\u001b[43m)\u001b[49m)\n\u001b[0;32m      2\u001b[0m \u001b[38;5;28msum\u001b[39m \u001b[38;5;241m=\u001b[39m n\u001b[38;5;241m*\u001b[39m(n\u001b[38;5;241m+\u001b[39m\u001b[38;5;241m1\u001b[39m)\u001b[38;5;241m/\u001b[39m\u001b[38;5;241m/\u001b[39m\u001b[38;5;241m2\u001b[39m\n\u001b[0;32m      3\u001b[0m \u001b[38;5;28mprint\u001b[39m(\u001b[38;5;124m\"\u001b[39m\u001b[38;5;124mThe sum of the first\u001b[39m\u001b[38;5;124m\"\u001b[39m,n,\u001b[38;5;124m\"\u001b[39m\u001b[38;5;124mnatural no is\u001b[39m\u001b[38;5;124m\"\u001b[39m,\u001b[38;5;28msum\u001b[39m)\n",
      "File \u001b[1;32mC:\\anaconda\\lib\\site-packages\\ipykernel\\kernelbase.py:1075\u001b[0m, in \u001b[0;36mKernel.raw_input\u001b[1;34m(self, prompt)\u001b[0m\n\u001b[0;32m   1071\u001b[0m \u001b[38;5;28;01mif\u001b[39;00m \u001b[38;5;129;01mnot\u001b[39;00m \u001b[38;5;28mself\u001b[39m\u001b[38;5;241m.\u001b[39m_allow_stdin:\n\u001b[0;32m   1072\u001b[0m     \u001b[38;5;28;01mraise\u001b[39;00m StdinNotImplementedError(\n\u001b[0;32m   1073\u001b[0m         \u001b[38;5;124m\"\u001b[39m\u001b[38;5;124mraw_input was called, but this frontend does not support input requests.\u001b[39m\u001b[38;5;124m\"\u001b[39m\n\u001b[0;32m   1074\u001b[0m     )\n\u001b[1;32m-> 1075\u001b[0m \u001b[38;5;28;01mreturn\u001b[39;00m \u001b[38;5;28;43mself\u001b[39;49m\u001b[38;5;241;43m.\u001b[39;49m\u001b[43m_input_request\u001b[49m\u001b[43m(\u001b[49m\n\u001b[0;32m   1076\u001b[0m \u001b[43m    \u001b[49m\u001b[38;5;28;43mstr\u001b[39;49m\u001b[43m(\u001b[49m\u001b[43mprompt\u001b[49m\u001b[43m)\u001b[49m\u001b[43m,\u001b[49m\n\u001b[0;32m   1077\u001b[0m \u001b[43m    \u001b[49m\u001b[38;5;28;43mself\u001b[39;49m\u001b[38;5;241;43m.\u001b[39;49m\u001b[43m_parent_ident\u001b[49m\u001b[43m[\u001b[49m\u001b[38;5;124;43m\"\u001b[39;49m\u001b[38;5;124;43mshell\u001b[39;49m\u001b[38;5;124;43m\"\u001b[39;49m\u001b[43m]\u001b[49m\u001b[43m,\u001b[49m\n\u001b[0;32m   1078\u001b[0m \u001b[43m    \u001b[49m\u001b[38;5;28;43mself\u001b[39;49m\u001b[38;5;241;43m.\u001b[39;49m\u001b[43mget_parent\u001b[49m\u001b[43m(\u001b[49m\u001b[38;5;124;43m\"\u001b[39;49m\u001b[38;5;124;43mshell\u001b[39;49m\u001b[38;5;124;43m\"\u001b[39;49m\u001b[43m)\u001b[49m\u001b[43m,\u001b[49m\n\u001b[0;32m   1079\u001b[0m \u001b[43m    \u001b[49m\u001b[43mpassword\u001b[49m\u001b[38;5;241;43m=\u001b[39;49m\u001b[38;5;28;43;01mFalse\u001b[39;49;00m\u001b[43m,\u001b[49m\n\u001b[0;32m   1080\u001b[0m \u001b[43m\u001b[49m\u001b[43m)\u001b[49m\n",
      "File \u001b[1;32mC:\\anaconda\\lib\\site-packages\\ipykernel\\kernelbase.py:1120\u001b[0m, in \u001b[0;36mKernel._input_request\u001b[1;34m(self, prompt, ident, parent, password)\u001b[0m\n\u001b[0;32m   1117\u001b[0m             \u001b[38;5;28;01mbreak\u001b[39;00m\n\u001b[0;32m   1118\u001b[0m \u001b[38;5;28;01mexcept\u001b[39;00m \u001b[38;5;167;01mKeyboardInterrupt\u001b[39;00m:\n\u001b[0;32m   1119\u001b[0m     \u001b[38;5;66;03m# re-raise KeyboardInterrupt, to truncate traceback\u001b[39;00m\n\u001b[1;32m-> 1120\u001b[0m     \u001b[38;5;28;01mraise\u001b[39;00m \u001b[38;5;167;01mKeyboardInterrupt\u001b[39;00m(\u001b[38;5;124m\"\u001b[39m\u001b[38;5;124mInterrupted by user\u001b[39m\u001b[38;5;124m\"\u001b[39m) \u001b[38;5;28;01mfrom\u001b[39;00m \u001b[38;5;28mNone\u001b[39m\n\u001b[0;32m   1121\u001b[0m \u001b[38;5;28;01mexcept\u001b[39;00m \u001b[38;5;167;01mException\u001b[39;00m:\n\u001b[0;32m   1122\u001b[0m     \u001b[38;5;28mself\u001b[39m\u001b[38;5;241m.\u001b[39mlog\u001b[38;5;241m.\u001b[39mwarning(\u001b[38;5;124m\"\u001b[39m\u001b[38;5;124mInvalid Message:\u001b[39m\u001b[38;5;124m\"\u001b[39m, exc_info\u001b[38;5;241m=\u001b[39m\u001b[38;5;28;01mTrue\u001b[39;00m)\n",
      "\u001b[1;31mKeyboardInterrupt\u001b[0m: Interrupted by user"
     ]
    }
   ],
   "source": [
    "n = int(input(\"Enter a positive integer: \"))\n",
    "sum = n*(n+1)//2\n",
    "print(\"The sum of the first\",n,\"natural no is\",sum)"
   ]
  },
  {
   "cell_type": "markdown",
   "id": "c9957b0a",
   "metadata": {},
   "source": [
    "In this program, we first takeinput from the user for the value of 'n', we then calculate the sum of the first 'n' natural\n",
    "\n",
    "no. using the formula:"
   ]
  },
  {
   "cell_type": "code",
   "execution_count": null,
   "id": "77e78dd3",
   "metadata": {},
   "outputs": [],
   "source": [
    "sum = n*(n+1)/2"
   ]
  },
  {
   "cell_type": "markdown",
   "id": "06c67225",
   "metadata": {},
   "source": [
    "The formula calculates the sum of an arthemetic series, which is a sequence of no. in which each no. is the sum of the\n",
    "\n",
    "previous no. and a fixed constant. In this case, the fixed constant is 1, since we're summing the natural numbers.\n",
    "\n",
    "Finally, we print out the result using the 'print()' function"
   ]
  },
  {
   "cell_type": "code",
   "execution_count": null,
   "id": "cf75bf89",
   "metadata": {},
   "outputs": [],
   "source": []
  }
 ],
 "metadata": {
  "kernelspec": {
   "display_name": "Python 3 (ipykernel)",
   "language": "python",
   "name": "python3"
  },
  "language_info": {
   "codemirror_mode": {
    "name": "ipython",
    "version": 3
   },
   "file_extension": ".py",
   "mimetype": "text/x-python",
   "name": "python",
   "nbconvert_exporter": "python",
   "pygments_lexer": "ipython3",
   "version": "3.9.12"
  }
 },
 "nbformat": 4,
 "nbformat_minor": 5
}
